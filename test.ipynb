{
 "cells": [
  {
   "cell_type": "markdown",
   "id": "12f40e87",
   "metadata": {},
   "source": [
    "This is a test run"
   ]
  },
  {
   "cell_type": "markdown",
   "id": "b869199d",
   "metadata": {},
   "source": [
    "now its getting serious"
   ]
  },
  {
   "cell_type": "code",
   "execution_count": null,
   "id": "07027d68",
   "metadata": {},
   "outputs": [],
   "source": []
  },
  {
   "attachments": {},
   "cell_type": "markdown",
   "id": "fe8cf92b",
   "metadata": {},
   "source": [
    "alroight if this work i will be impressed"
   ]
  },
  {
   "cell_type": "code",
   "execution_count": null,
   "id": "4c7f37d8",
   "metadata": {},
   "outputs": [],
   "source": []
  }
 ],
 "metadata": {
  "kernelspec": {
   "display_name": "Python 3 (ipykernel)",
   "language": "python",
   "name": "python3"
  },
  "language_info": {
   "codemirror_mode": {
    "name": "ipython",
    "version": 3
   },
   "file_extension": ".py",
   "mimetype": "text/x-python",
   "name": "python",
   "nbconvert_exporter": "python",
   "pygments_lexer": "ipython3",
   "version": "3.11.0"
  }
 },
 "nbformat": 4,
 "nbformat_minor": 5
}
