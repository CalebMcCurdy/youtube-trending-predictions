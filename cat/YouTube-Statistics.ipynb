{
 "cells": [
  {
   "cell_type": "markdown",
   "id": "60fec905-310e-4ff1-a61a-a4ce40c56916",
   "metadata": {},
   "source": [
    "# YouTube Trending Video Analysis & Prediction\n",
    "### Joel Day, Caleb McCurdy, & Lane Whitmore\n",
    "### The University of San Diego\n",
    "### ADS 508 - Data Science Cloud Computing"
   ]
  },
  {
   "cell_type": "code",
   "execution_count": 2,
   "id": "a930f792-82f7-4601-9f86-43230902131a",
   "metadata": {
    "tags": []
   },
   "outputs": [
    {
     "name": "stdout",
     "output_type": "stream",
     "text": [
      "\u001b[33mWARNING: Running pip as the 'root' user can result in broken permissions and conflicting behaviour with the system package manager. It is recommended to use a virtual environment instead: https://pip.pypa.io/warnings/venv\u001b[0m\u001b[33m\n",
      "\u001b[0m\u001b[33mWARNING: Running pip as the 'root' user can result in broken permissions and conflicting behaviour with the system package manager. It is recommended to use a virtual environment instead: https://pip.pypa.io/warnings/venv\u001b[0m\u001b[33m\n",
      "\u001b[0m\u001b[33mWARNING: Running pip as the 'root' user can result in broken permissions and conflicting behaviour with the system package manager. It is recommended to use a virtual environment instead: https://pip.pypa.io/warnings/venv\u001b[0m\u001b[33m\n",
      "\u001b[0m"
     ]
    }
   ],
   "source": [
    "!pip --disable-pip-version-check -q  install transformers\n",
    "!pip --disable-pip-version-check -q install pyathena\n",
    "#!pip --disable-pip-version-check -q install torch==1.5.0\n",
    "!pip --disable-pip-version-check -q install sagemaker-experiments==0.1.26"
   ]
  },
  {
   "cell_type": "code",
   "execution_count": 3,
   "id": "bd90f41b-b627-4941-b12e-44df669e26a9",
   "metadata": {
    "tags": []
   },
   "outputs": [
    {
     "name": "stderr",
     "output_type": "stream",
     "text": [
      "None of PyTorch, TensorFlow >= 2.0, or Flax have been found. Models won't be available and only tokenizers, configuration and file/data utilities can be used.\n"
     ]
    }
   ],
   "source": [
    "# General imports\n",
    "import pandas as pd\n",
    "import numpy as np\n",
    "import collections\n",
    "import io\n",
    "import time\n",
    "from smexperiments.trial import Trial\n",
    "from smexperiments.experiment import Experiment\n",
    "import uuid\n",
    "\n",
    "# nlp processing imports\n",
    "import string\n",
    "import re\n",
    "import nltk\n",
    "from transformers import DistilBertTokenizer\n",
    "from transformers import DistilBertModel\n",
    "\n",
    "\n",
    "# sklearn packages\n",
    "from sklearn.model_selection import train_test_split\n",
    "from sklearn.feature_extraction.text import CountVectorizer\n",
    "\n",
    "# Visualization imports\n",
    "import matplotlib.pyplot as plt\n",
    "import seaborn as sns\n",
    "\n",
    "# Sagemaker imports\n",
    "import sagemaker\n",
    "from sagemaker import get_execution_role\n",
    "from sagemaker.processing import ProcessingInput, ProcessingOutput\n",
    "from sagemaker.sklearn.processing import SKLearnProcessor\n",
    "from sagemaker.feature_store.feature_group import FeatureGroup\n",
    "from sagemaker.feature_store.feature_definition import FeatureDefinition, FeatureTypeEnum\n",
    "from sagemaker.inputs import TrainingInput\n",
    "from sagemaker.debugger import Rule\n",
    "from sagemaker.debugger import rule_configs\n",
    "from sagemaker.debugger import ProfilerRule\n",
    "from sagemaker.debugger import CollectionConfig\n",
    "from sagemaker.debugger import DebuggerHookConfig\n",
    "from sagemaker.debugger import ProfilerConfig, FrameworkProfile\n",
    "from sagemaker.tensorflow import TensorFlow\n",
    "\n",
    "\n",
    "# athena connection imports\n",
    "from pyathena import connect\n",
    "import boto3\n",
    "\n",
    "#import torch\n",
    "from sagemaker.pytorch import PyTorch\n",
    "#import torch.nn as nn\n",
    "#from torch.utils.data import TensorDataset, DataLoader"
   ]
  },
  {
   "cell_type": "code",
   "execution_count": 4,
   "id": "58e80cd4-f31c-49f8-915d-0b5889f05cc9",
   "metadata": {
    "tags": []
   },
   "outputs": [],
   "source": [
    "region = boto3.Session().region_name\n",
    "role = get_execution_role()\n",
    "sm = boto3.Session(region_name=region).client(service_name=\"sagemaker\", region_name=region)"
   ]
  },
  {
   "cell_type": "code",
   "execution_count": 5,
   "id": "1eb51a15-b8a9-4e2a-9b9e-8e7e7f3c24a7",
   "metadata": {
    "tags": []
   },
   "outputs": [
    {
     "name": "stdout",
     "output_type": "stream",
     "text": [
      "sagemaker-us-east-1-492991381452\n"
     ]
    }
   ],
   "source": [
    "# Set Athena for data wrangling // exploration\n",
    "session = sagemaker.Session()\n",
    "\n",
    "# this sets the bucket to the default sagemaker bucket\n",
    "bucket = session.default_bucket()\n",
    "print(bucket)"
   ]
  },
  {
   "cell_type": "code",
   "execution_count": 6,
   "id": "21471166-7daa-4f6d-a0dd-f421b8f95df2",
   "metadata": {
    "tags": []
   },
   "outputs": [],
   "source": [
    "ingest_create_athena_db_passed = False\n",
    "\n",
    "db_name = \"youtubedb\""
   ]
  },
  {
   "cell_type": "code",
   "execution_count": 7,
   "id": "f5811bf6-84e9-435d-9a4b-f1a2437b431c",
   "metadata": {
    "tags": []
   },
   "outputs": [],
   "source": [
    "# temp query storage\n",
    "s3_athena = \"s3://{}/athena/tmp/\".format(bucket)\n",
    "\n",
    "# file storage\n",
    "youtube_dir = \"s3://{}/athena/files/\".format(bucket)\n",
    "\n",
    "# creating connection to database\n",
    "conn = connect(region_name=region, s3_staging_dir=s3_athena)"
   ]
  },
  {
   "cell_type": "code",
   "execution_count": 8,
   "id": "95031e2a-f3de-412f-95fd-178b89409e27",
   "metadata": {
    "tags": []
   },
   "outputs": [
    {
     "data": {
      "text/html": [
       "<div>\n",
       "<style scoped>\n",
       "    .dataframe tbody tr th:only-of-type {\n",
       "        vertical-align: middle;\n",
       "    }\n",
       "\n",
       "    .dataframe tbody tr th {\n",
       "        vertical-align: top;\n",
       "    }\n",
       "\n",
       "    .dataframe thead th {\n",
       "        text-align: right;\n",
       "    }\n",
       "</style>\n",
       "<table border=\"1\" class=\"dataframe\">\n",
       "  <thead>\n",
       "    <tr style=\"text-align: right;\">\n",
       "      <th></th>\n",
       "    </tr>\n",
       "  </thead>\n",
       "  <tbody>\n",
       "  </tbody>\n",
       "</table>\n",
       "</div>"
      ],
      "text/plain": [
       "Empty DataFrame\n",
       "Columns: []\n",
       "Index: []"
      ]
     },
     "execution_count": 8,
     "metadata": {},
     "output_type": "execute_result"
    }
   ],
   "source": [
    "# Creating DATABASE with db_name above\n",
    "create_db = \"CREATE DATABASE IF NOT EXISTS {}\".format(db_name)\n",
    "\n",
    "pd.read_sql(create_db, conn)"
   ]
  },
  {
   "cell_type": "code",
   "execution_count": 9,
   "id": "e014d01c-6665-4918-9204-f2471b4d30d2",
   "metadata": {
    "tags": []
   },
   "outputs": [
    {
     "data": {
      "text/html": [
       "<div>\n",
       "<style scoped>\n",
       "    .dataframe tbody tr th:only-of-type {\n",
       "        vertical-align: middle;\n",
       "    }\n",
       "\n",
       "    .dataframe tbody tr th {\n",
       "        vertical-align: top;\n",
       "    }\n",
       "\n",
       "    .dataframe thead th {\n",
       "        text-align: right;\n",
       "    }\n",
       "</style>\n",
       "<table border=\"1\" class=\"dataframe\">\n",
       "  <thead>\n",
       "    <tr style=\"text-align: right;\">\n",
       "      <th></th>\n",
       "    </tr>\n",
       "  </thead>\n",
       "  <tbody>\n",
       "  </tbody>\n",
       "</table>\n",
       "</div>"
      ],
      "text/plain": [
       "Empty DataFrame\n",
       "Columns: []\n",
       "Index: []"
      ]
     },
     "execution_count": 9,
     "metadata": {},
     "output_type": "execute_result"
    }
   ],
   "source": [
    "pd.read_sql(f\"DROP TABLE IF EXISTS {db_name}.ca_csv\", conn)\n",
    "\n",
    "\n",
    "ca_csv_create = f\"\"\"\n",
    "CREATE EXTERNAL TABLE IF NOT EXISTS {db_name}.ca_csv(\n",
    "                video_id string,\n",
    "                title string,\n",
    "                publishedAt string,\n",
    "                channelId string,\n",
    "                channelTitle string,\n",
    "                categoryId string,\n",
    "                trending string,\n",
    "                tags string,\n",
    "                view_count string,\n",
    "                likes string,\n",
    "                dislikes string,\n",
    "                comment_count string,\n",
    "                thumbnail_link string,\n",
    "                comments_disabled string,\n",
    "                ratings_disabled string,\n",
    "                description string)\n",
    "            \n",
    "                \n",
    "                ROW FORMAT SERDE 'org.apache.hadoop.hive.serde2.OpenCSVSerde' \n",
    "                WITH SERDEPROPERTIES (\n",
    "                \"separatorChar\" = \",\", \n",
    "                \"quoteChar\" = '\\\"',\n",
    "                \"escapeChar\" = '\\\"'\n",
    "                ) \n",
    "                LOCATION 's3://{bucket}/youtubeStatistics/csv/can/'\n",
    "                TBLPROPERTIES (\"skip.header.line.count\"=\"1\");\n",
    "\"\"\"\n",
    "\n",
    "pd.read_sql(ca_csv_create, conn)"
   ]
  },
  {
   "cell_type": "code",
   "execution_count": 10,
   "id": "efdd1118-9575-46b7-b9e7-3f04b18d0df1",
   "metadata": {
    "tags": []
   },
   "outputs": [
    {
     "data": {
      "text/html": [
       "<div>\n",
       "<style scoped>\n",
       "    .dataframe tbody tr th:only-of-type {\n",
       "        vertical-align: middle;\n",
       "    }\n",
       "\n",
       "    .dataframe tbody tr th {\n",
       "        vertical-align: top;\n",
       "    }\n",
       "\n",
       "    .dataframe thead th {\n",
       "        text-align: right;\n",
       "    }\n",
       "</style>\n",
       "<table border=\"1\" class=\"dataframe\">\n",
       "  <thead>\n",
       "    <tr style=\"text-align: right;\">\n",
       "      <th></th>\n",
       "      <th>video_id</th>\n",
       "      <th>title</th>\n",
       "      <th>publishedat</th>\n",
       "      <th>channelid</th>\n",
       "      <th>channeltitle</th>\n",
       "      <th>categoryid</th>\n",
       "      <th>trending</th>\n",
       "      <th>tags</th>\n",
       "      <th>view_count</th>\n",
       "      <th>likes</th>\n",
       "      <th>dislikes</th>\n",
       "      <th>comment_count</th>\n",
       "      <th>thumbnail_link</th>\n",
       "      <th>comments_disabled</th>\n",
       "      <th>ratings_disabled</th>\n",
       "      <th>description</th>\n",
       "    </tr>\n",
       "  </thead>\n",
       "  <tbody>\n",
       "    <tr>\n",
       "      <th>0</th>\n",
       "      <td>e2AeKIzfQus</td>\n",
       "      <td>Jack Harlow - Nail Tech [Official Video]</td>\n",
       "      <td>2022-02-18T05:00:09Z</td>\n",
       "      <td>UC6vZl7Qj7JglLDmN_7Or-ZQ</td>\n",
       "      <td>Jack Harlow</td>\n",
       "      <td>10</td>\n",
       "      <td>2022-02-25T00:00:00Z</td>\n",
       "      <td>jack harlow|jack rapper|harlow rapper|private ...</td>\n",
       "      <td>10492800</td>\n",
       "      <td>382836</td>\n",
       "      <td>0</td>\n",
       "      <td>16186</td>\n",
       "      <td>https://i.ytimg.com/vi/e2AeKIzfQus/default.jpg</td>\n",
       "      <td>False</td>\n",
       "      <td>False</td>\n",
       "      <td>Jack Harlow - Nail TechStream/download: https:...</td>\n",
       "    </tr>\n",
       "    <tr>\n",
       "      <th>1</th>\n",
       "      <td>uM8EyUVuQrc</td>\n",
       "      <td>Ed Secretly Gets To Pick The Color Of His LJ20...</td>\n",
       "      <td>2022-02-20T13:15:03Z</td>\n",
       "      <td>UCwSVpT-2KaJlFqeskFBA0-A</td>\n",
       "      <td>Robby Layton</td>\n",
       "      <td>2</td>\n",
       "      <td>2022-02-25T00:00:00Z</td>\n",
       "      <td>[None]</td>\n",
       "      <td>662659</td>\n",
       "      <td>36618</td>\n",
       "      <td>0</td>\n",
       "      <td>2109</td>\n",
       "      <td>https://i.ytimg.com/vi/uM8EyUVuQrc/default.jpg</td>\n",
       "      <td>False</td>\n",
       "      <td>False</td>\n",
       "      <td>#RobbyLayton #GoldenNugget #MattsOffRoadRecove...</td>\n",
       "    </tr>\n",
       "    <tr>\n",
       "      <th>2</th>\n",
       "      <td>Txqq8q5-cRA</td>\n",
       "      <td>Inside Kim Kardashian's Home Filled With Wonde...</td>\n",
       "      <td>2022-02-18T17:00:01Z</td>\n",
       "      <td>UCRXiA3h1no_PFkb1JCP0yMA</td>\n",
       "      <td>Vogue</td>\n",
       "      <td>22</td>\n",
       "      <td>2022-02-25T00:00:00Z</td>\n",
       "      <td>inside kim k house|inside kim kardashian home|...</td>\n",
       "      <td>7225307</td>\n",
       "      <td>240511</td>\n",
       "      <td>0</td>\n",
       "      <td>8875</td>\n",
       "      <td>https://i.ytimg.com/vi/Txqq8q5-cRA/default.jpg</td>\n",
       "      <td>False</td>\n",
       "      <td>False</td>\n",
       "      <td>None</td>\n",
       "    </tr>\n",
       "    <tr>\n",
       "      <th>3</th>\n",
       "      <td>None</td>\n",
       "      <td>None</td>\n",
       "      <td>None</td>\n",
       "      <td>None</td>\n",
       "      <td>None</td>\n",
       "      <td>None</td>\n",
       "      <td>None</td>\n",
       "      <td>None</td>\n",
       "      <td>None</td>\n",
       "      <td>None</td>\n",
       "      <td>None</td>\n",
       "      <td>None</td>\n",
       "      <td>None</td>\n",
       "      <td>None</td>\n",
       "      <td>None</td>\n",
       "      <td>None</td>\n",
       "    </tr>\n",
       "    <tr>\n",
       "      <th>4</th>\n",
       "      <td>Director: Posy Dixon</td>\n",
       "      <td>None</td>\n",
       "      <td>None</td>\n",
       "      <td>None</td>\n",
       "      <td>None</td>\n",
       "      <td>None</td>\n",
       "      <td>None</td>\n",
       "      <td>None</td>\n",
       "      <td>None</td>\n",
       "      <td>None</td>\n",
       "      <td>None</td>\n",
       "      <td>None</td>\n",
       "      <td>None</td>\n",
       "      <td>None</td>\n",
       "      <td>None</td>\n",
       "      <td>None</td>\n",
       "    </tr>\n",
       "  </tbody>\n",
       "</table>\n",
       "</div>"
      ],
      "text/plain": [
       "               video_id                                              title  \\\n",
       "0           e2AeKIzfQus           Jack Harlow - Nail Tech [Official Video]   \n",
       "1           uM8EyUVuQrc  Ed Secretly Gets To Pick The Color Of His LJ20...   \n",
       "2           Txqq8q5-cRA  Inside Kim Kardashian's Home Filled With Wonde...   \n",
       "3                  None                                               None   \n",
       "4  Director: Posy Dixon                                               None   \n",
       "\n",
       "            publishedat                 channelid  channeltitle categoryid  \\\n",
       "0  2022-02-18T05:00:09Z  UC6vZl7Qj7JglLDmN_7Or-ZQ   Jack Harlow         10   \n",
       "1  2022-02-20T13:15:03Z  UCwSVpT-2KaJlFqeskFBA0-A  Robby Layton          2   \n",
       "2  2022-02-18T17:00:01Z  UCRXiA3h1no_PFkb1JCP0yMA         Vogue         22   \n",
       "3                  None                      None          None       None   \n",
       "4                  None                      None          None       None   \n",
       "\n",
       "               trending                                               tags  \\\n",
       "0  2022-02-25T00:00:00Z  jack harlow|jack rapper|harlow rapper|private ...   \n",
       "1  2022-02-25T00:00:00Z                                             [None]   \n",
       "2  2022-02-25T00:00:00Z  inside kim k house|inside kim kardashian home|...   \n",
       "3                  None                                               None   \n",
       "4                  None                                               None   \n",
       "\n",
       "  view_count   likes dislikes comment_count  \\\n",
       "0   10492800  382836        0         16186   \n",
       "1     662659   36618        0          2109   \n",
       "2    7225307  240511        0          8875   \n",
       "3       None    None     None          None   \n",
       "4       None    None     None          None   \n",
       "\n",
       "                                   thumbnail_link comments_disabled  \\\n",
       "0  https://i.ytimg.com/vi/e2AeKIzfQus/default.jpg             False   \n",
       "1  https://i.ytimg.com/vi/uM8EyUVuQrc/default.jpg             False   \n",
       "2  https://i.ytimg.com/vi/Txqq8q5-cRA/default.jpg             False   \n",
       "3                                            None              None   \n",
       "4                                            None              None   \n",
       "\n",
       "  ratings_disabled                                        description  \n",
       "0            False  Jack Harlow - Nail TechStream/download: https:...  \n",
       "1            False  #RobbyLayton #GoldenNugget #MattsOffRoadRecove...  \n",
       "2            False                                               None  \n",
       "3             None                                               None  \n",
       "4             None                                               None  "
      ]
     },
     "execution_count": 10,
     "metadata": {},
     "output_type": "execute_result"
    }
   ],
   "source": [
    "pd.read_sql(f\"SELECT * FROM {db_name}.ca_csv LIMIT 5\", conn)"
   ]
  },
  {
   "cell_type": "code",
   "execution_count": 11,
   "id": "c9080194-4a84-46f3-b552-870a9aca3d37",
   "metadata": {
    "tags": []
   },
   "outputs": [
    {
     "data": {
      "text/html": [
       "<div>\n",
       "<style scoped>\n",
       "    .dataframe tbody tr th:only-of-type {\n",
       "        vertical-align: middle;\n",
       "    }\n",
       "\n",
       "    .dataframe tbody tr th {\n",
       "        vertical-align: top;\n",
       "    }\n",
       "\n",
       "    .dataframe thead th {\n",
       "        text-align: right;\n",
       "    }\n",
       "</style>\n",
       "<table border=\"1\" class=\"dataframe\">\n",
       "  <thead>\n",
       "    <tr style=\"text-align: right;\">\n",
       "      <th></th>\n",
       "    </tr>\n",
       "  </thead>\n",
       "  <tbody>\n",
       "  </tbody>\n",
       "</table>\n",
       "</div>"
      ],
      "text/plain": [
       "Empty DataFrame\n",
       "Columns: []\n",
       "Index: []"
      ]
     },
     "execution_count": 11,
     "metadata": {},
     "output_type": "execute_result"
    }
   ],
   "source": [
    "pd.read_sql(f\"DROP TABLE IF EXISTS {db_name}.us_csv\", conn)\n",
    "\n",
    "\n",
    "us_csv_create = f\"\"\"\n",
    "CREATE EXTERNAL TABLE IF NOT EXISTS {db_name}.us_csv(\n",
    "                video_id string,\n",
    "                title string,\n",
    "                publishedAt string,\n",
    "                channelId string,\n",
    "                channelTitle string,\n",
    "                categoryId string,\n",
    "                trending string,\n",
    "                tags string,\n",
    "                view_count string,\n",
    "                likes string,\n",
    "                dislikes string,\n",
    "                comment_count string,\n",
    "                thumbnail_link string,\n",
    "                comments_disabled string,\n",
    "                ratings_disabled string,\n",
    "                description string)\n",
    "            \n",
    "                \n",
    "                ROW FORMAT SERDE 'org.apache.hadoop.hive.serde2.OpenCSVSerde' \n",
    "                WITH SERDEPROPERTIES (\n",
    "                \"separatorChar\" = ',', \n",
    "                \"quoteChar\" = '\\\"',\n",
    "                \"escapeChar\" = '\\\"'\n",
    "                ) \n",
    "                LOCATION 's3://{bucket}/youtubeStatistics/csv/usa/'\n",
    "                TBLPROPERTIES (\"skip.header.line.count\"=\"1\");\n",
    "\"\"\"\n",
    "\n",
    "pd.read_sql(us_csv_create, conn)"
   ]
  },
  {
   "cell_type": "code",
   "execution_count": 12,
   "id": "4ac858da-36fb-45af-aa97-c163e4c27c5e",
   "metadata": {
    "tags": []
   },
   "outputs": [
    {
     "data": {
      "text/html": [
       "<div>\n",
       "<style scoped>\n",
       "    .dataframe tbody tr th:only-of-type {\n",
       "        vertical-align: middle;\n",
       "    }\n",
       "\n",
       "    .dataframe tbody tr th {\n",
       "        vertical-align: top;\n",
       "    }\n",
       "\n",
       "    .dataframe thead th {\n",
       "        text-align: right;\n",
       "    }\n",
       "</style>\n",
       "<table border=\"1\" class=\"dataframe\">\n",
       "  <thead>\n",
       "    <tr style=\"text-align: right;\">\n",
       "      <th></th>\n",
       "      <th>video_id</th>\n",
       "      <th>title</th>\n",
       "      <th>publishedat</th>\n",
       "      <th>channelid</th>\n",
       "      <th>channeltitle</th>\n",
       "      <th>categoryid</th>\n",
       "      <th>trending</th>\n",
       "      <th>tags</th>\n",
       "      <th>view_count</th>\n",
       "      <th>likes</th>\n",
       "      <th>dislikes</th>\n",
       "      <th>comment_count</th>\n",
       "      <th>thumbnail_link</th>\n",
       "      <th>comments_disabled</th>\n",
       "      <th>ratings_disabled</th>\n",
       "      <th>description</th>\n",
       "    </tr>\n",
       "  </thead>\n",
       "  <tbody>\n",
       "    <tr>\n",
       "      <th>0</th>\n",
       "      <td>Yvdc27mWGh0</td>\n",
       "      <td>Terrify With Spooky Queen! (Clash of Clans Sea...</td>\n",
       "      <td>2022-10-01T08:00:12Z</td>\n",
       "      <td>UCD1Em4q90ZUK2R5HKesszJg</td>\n",
       "      <td>Clash of Clans</td>\n",
       "      <td>20</td>\n",
       "      <td>2022-10-04T00:00:00Z</td>\n",
       "      <td>clash of clans|COC|season challenges|spooky qu...</td>\n",
       "      <td>2996283</td>\n",
       "      <td>73039</td>\n",
       "      <td>0</td>\n",
       "      <td>2124</td>\n",
       "      <td>https://i.ytimg.com/vi/Yvdc27mWGh0/default.jpg</td>\n",
       "      <td>False</td>\n",
       "      <td>False</td>\n",
       "      <td>Spooky Queen (Clash of Clans Season Challenges...</td>\n",
       "    </tr>\n",
       "    <tr>\n",
       "      <th>1</th>\n",
       "      <td>h3QLFHvcSVE</td>\n",
       "      <td>Furries &amp; The Ethics of Cringe Culture</td>\n",
       "      <td>2022-09-30T18:00:02Z</td>\n",
       "      <td>UC7zsxKqd5MicTf4VhS9Y74g</td>\n",
       "      <td>Kurtis Conner</td>\n",
       "      <td>23</td>\n",
       "      <td>2022-10-04T00:00:00Z</td>\n",
       "      <td>kurtis conner|kurtis connor|furry|cringe|furry...</td>\n",
       "      <td>1615936</td>\n",
       "      <td>147752</td>\n",
       "      <td>0</td>\n",
       "      <td>10276</td>\n",
       "      <td>https://i.ytimg.com/vi/h3QLFHvcSVE/default.jpg</td>\n",
       "      <td>False</td>\n",
       "      <td>False</td>\n",
       "      <td>For 65% off with HelloFresh plus FREE shipping...</td>\n",
       "    </tr>\n",
       "    <tr>\n",
       "      <th>2</th>\n",
       "      <td>Ya6e7ItZeeM</td>\n",
       "      <td>The players should be EMBARRASSED! 😡 | Roy Kea...</td>\n",
       "      <td>2022-10-02T15:41:18Z</td>\n",
       "      <td>UCNAf1k0yIjyGu3k9BwAg3lg</td>\n",
       "      <td>Sky Sports Premier League</td>\n",
       "      <td>17</td>\n",
       "      <td>2022-10-04T00:00:00Z</td>\n",
       "      <td>sky sports|premier league|Football League|foot...</td>\n",
       "      <td>1080918</td>\n",
       "      <td>15497</td>\n",
       "      <td>0</td>\n",
       "      <td>2326</td>\n",
       "      <td>https://i.ytimg.com/vi/Ya6e7ItZeeM/default.jpg</td>\n",
       "      <td>False</td>\n",
       "      <td>False</td>\n",
       "      <td>SUBSCRIBE ► https://bit.ly/SubscribeSkySportsP...</td>\n",
       "    </tr>\n",
       "    <tr>\n",
       "      <th>3</th>\n",
       "      <td>4YhcdJAN-M0</td>\n",
       "      <td>DDG - 9 Lives (Official Music Video) ft. Polo ...</td>\n",
       "      <td>2022-09-30T16:00:10Z</td>\n",
       "      <td>UC9OAeZY8zp976DwRvHGjuSA</td>\n",
       "      <td>DDGVEVO</td>\n",
       "      <td>10</td>\n",
       "      <td>2022-10-04T00:00:00Z</td>\n",
       "      <td>ddg|queen ninja|pontiacmade|sorry the hold up|...</td>\n",
       "      <td>1390831</td>\n",
       "      <td>127547</td>\n",
       "      <td>0</td>\n",
       "      <td>7420</td>\n",
       "      <td>https://i.ytimg.com/vi/4YhcdJAN-M0/default.jpg</td>\n",
       "      <td>False</td>\n",
       "      <td>False</td>\n",
       "      <td>DDG ft. Polo G &amp; NLE Choppa - 9 Lives (Officia...</td>\n",
       "    </tr>\n",
       "    <tr>\n",
       "      <th>4</th>\n",
       "      <td>ODSJsviD_SU</td>\n",
       "      <td>Tesla AI Day 2022</td>\n",
       "      <td>2022-10-01T05:17:48Z</td>\n",
       "      <td>UC5WjFrtBdufl6CZojX3D8dQ</td>\n",
       "      <td>Tesla</td>\n",
       "      <td>2</td>\n",
       "      <td>2022-10-04T00:00:00Z</td>\n",
       "      <td>tesla|model s|model x|model 3|elon musk|AI|Art...</td>\n",
       "      <td>1578882</td>\n",
       "      <td>41421</td>\n",
       "      <td>0</td>\n",
       "      <td>0</td>\n",
       "      <td>https://i.ytimg.com/vi/ODSJsviD_SU/default.jpg</td>\n",
       "      <td>True</td>\n",
       "      <td>False</td>\n",
       "      <td>Join us to build the future of AI → https://ww...</td>\n",
       "    </tr>\n",
       "  </tbody>\n",
       "</table>\n",
       "</div>"
      ],
      "text/plain": [
       "      video_id                                              title  \\\n",
       "0  Yvdc27mWGh0  Terrify With Spooky Queen! (Clash of Clans Sea...   \n",
       "1  h3QLFHvcSVE             Furries & The Ethics of Cringe Culture   \n",
       "2  Ya6e7ItZeeM  The players should be EMBARRASSED! 😡 | Roy Kea...   \n",
       "3  4YhcdJAN-M0  DDG - 9 Lives (Official Music Video) ft. Polo ...   \n",
       "4  ODSJsviD_SU                                  Tesla AI Day 2022   \n",
       "\n",
       "            publishedat                 channelid               channeltitle  \\\n",
       "0  2022-10-01T08:00:12Z  UCD1Em4q90ZUK2R5HKesszJg             Clash of Clans   \n",
       "1  2022-09-30T18:00:02Z  UC7zsxKqd5MicTf4VhS9Y74g              Kurtis Conner   \n",
       "2  2022-10-02T15:41:18Z  UCNAf1k0yIjyGu3k9BwAg3lg  Sky Sports Premier League   \n",
       "3  2022-09-30T16:00:10Z  UC9OAeZY8zp976DwRvHGjuSA                    DDGVEVO   \n",
       "4  2022-10-01T05:17:48Z  UC5WjFrtBdufl6CZojX3D8dQ                      Tesla   \n",
       "\n",
       "  categoryid              trending  \\\n",
       "0         20  2022-10-04T00:00:00Z   \n",
       "1         23  2022-10-04T00:00:00Z   \n",
       "2         17  2022-10-04T00:00:00Z   \n",
       "3         10  2022-10-04T00:00:00Z   \n",
       "4          2  2022-10-04T00:00:00Z   \n",
       "\n",
       "                                                tags view_count   likes  \\\n",
       "0  clash of clans|COC|season challenges|spooky qu...    2996283   73039   \n",
       "1  kurtis conner|kurtis connor|furry|cringe|furry...    1615936  147752   \n",
       "2  sky sports|premier league|Football League|foot...    1080918   15497   \n",
       "3  ddg|queen ninja|pontiacmade|sorry the hold up|...    1390831  127547   \n",
       "4  tesla|model s|model x|model 3|elon musk|AI|Art...    1578882   41421   \n",
       "\n",
       "  dislikes comment_count                                  thumbnail_link  \\\n",
       "0        0          2124  https://i.ytimg.com/vi/Yvdc27mWGh0/default.jpg   \n",
       "1        0         10276  https://i.ytimg.com/vi/h3QLFHvcSVE/default.jpg   \n",
       "2        0          2326  https://i.ytimg.com/vi/Ya6e7ItZeeM/default.jpg   \n",
       "3        0          7420  https://i.ytimg.com/vi/4YhcdJAN-M0/default.jpg   \n",
       "4        0             0  https://i.ytimg.com/vi/ODSJsviD_SU/default.jpg   \n",
       "\n",
       "  comments_disabled ratings_disabled  \\\n",
       "0             False            False   \n",
       "1             False            False   \n",
       "2             False            False   \n",
       "3             False            False   \n",
       "4              True            False   \n",
       "\n",
       "                                         description  \n",
       "0  Spooky Queen (Clash of Clans Season Challenges...  \n",
       "1  For 65% off with HelloFresh plus FREE shipping...  \n",
       "2  SUBSCRIBE ► https://bit.ly/SubscribeSkySportsP...  \n",
       "3  DDG ft. Polo G & NLE Choppa - 9 Lives (Officia...  \n",
       "4  Join us to build the future of AI → https://ww...  "
      ]
     },
     "execution_count": 12,
     "metadata": {},
     "output_type": "execute_result"
    }
   ],
   "source": [
    "pd.read_sql(f\"SELECT * FROM {db_name}.us_csv LIMIT 5\", conn)"
   ]
  },
  {
   "cell_type": "code",
   "execution_count": 13,
   "id": "d18eb1d3-a0f3-48b4-bf71-4831f3c06b90",
   "metadata": {
    "tags": []
   },
   "outputs": [
    {
     "data": {
      "text/html": [
       "<div>\n",
       "<style scoped>\n",
       "    .dataframe tbody tr th:only-of-type {\n",
       "        vertical-align: middle;\n",
       "    }\n",
       "\n",
       "    .dataframe tbody tr th {\n",
       "        vertical-align: top;\n",
       "    }\n",
       "\n",
       "    .dataframe thead th {\n",
       "        text-align: right;\n",
       "    }\n",
       "</style>\n",
       "<table border=\"1\" class=\"dataframe\">\n",
       "  <thead>\n",
       "    <tr style=\"text-align: right;\">\n",
       "      <th></th>\n",
       "    </tr>\n",
       "  </thead>\n",
       "  <tbody>\n",
       "  </tbody>\n",
       "</table>\n",
       "</div>"
      ],
      "text/plain": [
       "Empty DataFrame\n",
       "Columns: []\n",
       "Index: []"
      ]
     },
     "execution_count": 13,
     "metadata": {},
     "output_type": "execute_result"
    }
   ],
   "source": [
    "pd.read_sql(f\"DROP TABLE IF EXISTS {db_name}.gb_csv\", conn)\n",
    "\n",
    "\n",
    "gb_csv_create = f\"\"\"\n",
    "CREATE EXTERNAL TABLE IF NOT EXISTS {db_name}.gb_csv(\n",
    "                video_id string,\n",
    "                title string,\n",
    "                publishedAt string,\n",
    "                channelId string,\n",
    "                channelTitle string,\n",
    "                categoryId string,\n",
    "                trending string,\n",
    "                tags string,\n",
    "                view_count string,\n",
    "                likes string,\n",
    "                dislikes string,\n",
    "                comment_count string,\n",
    "                thumbnail_link string,\n",
    "                comments_disabled string,\n",
    "                ratings_disabled string,\n",
    "                description string\n",
    "                )\n",
    "            \n",
    "                ROW FORMAT SERDE 'org.apache.hadoop.hive.serde2.OpenCSVSerde' \n",
    "                WITH SERDEPROPERTIES (\n",
    "                \"separatorChar\" = \",\", \n",
    "                \"quoteChar\" = '\\\"',\n",
    "                \"escapeChar\" = '\\\"'\n",
    "                ) \n",
    "                LOCATION 's3://{bucket}/youtubeStatistics/csv/gb/'\n",
    "                TBLPROPERTIES (\"skip.header.line.count\"=\"1\");\n",
    "\"\"\"\n",
    "\n",
    "pd.read_sql(gb_csv_create, conn)"
   ]
  },
  {
   "cell_type": "code",
   "execution_count": 14,
   "id": "69ac0170-7d31-4d8b-8cda-d5a47186a08d",
   "metadata": {
    "tags": []
   },
   "outputs": [
    {
     "data": {
      "text/html": [
       "<div>\n",
       "<style scoped>\n",
       "    .dataframe tbody tr th:only-of-type {\n",
       "        vertical-align: middle;\n",
       "    }\n",
       "\n",
       "    .dataframe tbody tr th {\n",
       "        vertical-align: top;\n",
       "    }\n",
       "\n",
       "    .dataframe thead th {\n",
       "        text-align: right;\n",
       "    }\n",
       "</style>\n",
       "<table border=\"1\" class=\"dataframe\">\n",
       "  <thead>\n",
       "    <tr style=\"text-align: right;\">\n",
       "      <th></th>\n",
       "      <th>video_id</th>\n",
       "      <th>title</th>\n",
       "      <th>publishedat</th>\n",
       "      <th>channelid</th>\n",
       "      <th>channeltitle</th>\n",
       "      <th>categoryid</th>\n",
       "      <th>trending</th>\n",
       "      <th>tags</th>\n",
       "      <th>view_count</th>\n",
       "      <th>likes</th>\n",
       "      <th>dislikes</th>\n",
       "      <th>comment_count</th>\n",
       "      <th>thumbnail_link</th>\n",
       "      <th>comments_disabled</th>\n",
       "      <th>ratings_disabled</th>\n",
       "      <th>description</th>\n",
       "    </tr>\n",
       "  </thead>\n",
       "  <tbody>\n",
       "    <tr>\n",
       "      <th>0</th>\n",
       "      <td>o7SZN-djyRA</td>\n",
       "      <td>Stray Dog Collapses on Woman's Porch and Slowl...</td>\n",
       "      <td>2022-07-04T13:00:34Z</td>\n",
       "      <td>UCINb0wqPz-A0dV9nARjJlOQ</td>\n",
       "      <td>The Dodo</td>\n",
       "      <td>15</td>\n",
       "      <td>2022-07-06T00:00:00Z</td>\n",
       "      <td>animal video|animals|the dodo|Animal Rescue|do...</td>\n",
       "      <td>1695542</td>\n",
       "      <td>33049</td>\n",
       "      <td>0</td>\n",
       "      <td>1560</td>\n",
       "      <td>https://i.ytimg.com/vi/o7SZN-djyRA/default.jpg</td>\n",
       "      <td>False</td>\n",
       "      <td>False</td>\n",
       "      <td>People were trying to chase this stray dog out...</td>\n",
       "    </tr>\n",
       "    <tr>\n",
       "      <th>1</th>\n",
       "      <td>bM6ren2tPU8</td>\n",
       "      <td>Race Highlights | 2022 British Grand Prix</td>\n",
       "      <td>2022-07-03T17:54:39Z</td>\n",
       "      <td>UCB_qr75-ydFVKSF9Dmo6izg</td>\n",
       "      <td>FORMULA 1</td>\n",
       "      <td>17</td>\n",
       "      <td>2022-07-06T00:00:00Z</td>\n",
       "      <td>F1|Formula One|Formula 1|Sports|Sport|Action|G...</td>\n",
       "      <td>7787639</td>\n",
       "      <td>190113</td>\n",
       "      <td>0</td>\n",
       "      <td>11397</td>\n",
       "      <td>https://i.ytimg.com/vi/bM6ren2tPU8/default.jpg</td>\n",
       "      <td>False</td>\n",
       "      <td>False</td>\n",
       "      <td>A dramatic day of racing at Silverstone as we ...</td>\n",
       "    </tr>\n",
       "    <tr>\n",
       "      <th>2</th>\n",
       "      <td>waMAVn2hHBM</td>\n",
       "      <td>WINNER - ‘I LOVE U’ M/V</td>\n",
       "      <td>2022-07-05T09:00:12Z</td>\n",
       "      <td>UCayQxFAoFCvGariuQCtHRGQ</td>\n",
       "      <td>WINNER</td>\n",
       "      <td>10</td>\n",
       "      <td>2022-07-06T00:00:00Z</td>\n",
       "      <td>YG Entertainment|YG|와이지|K-pop|WINNER|위너|강승윤|김진...</td>\n",
       "      <td>4626521</td>\n",
       "      <td>184288</td>\n",
       "      <td>0</td>\n",
       "      <td>11687</td>\n",
       "      <td>https://i.ytimg.com/vi/waMAVn2hHBM/default.jpg</td>\n",
       "      <td>False</td>\n",
       "      <td>False</td>\n",
       "      <td>WINNER - I LOVE U나도 이럴 줄 몰랐어사랑에 빠진 싸이코갇혀 버린 걸까...</td>\n",
       "    </tr>\n",
       "    <tr>\n",
       "      <th>3</th>\n",
       "      <td>fzOPc-VtcTE</td>\n",
       "      <td>Galliyan Returns Song: Ek Villain Returns | Jo...</td>\n",
       "      <td>2022-07-04T12:23:25Z</td>\n",
       "      <td>UCq-Fj5jknLsUf-MWSy4_brA</td>\n",
       "      <td>T-Series</td>\n",
       "      <td>10</td>\n",
       "      <td>2022-07-06T00:00:00Z</td>\n",
       "      <td>hindi songs 2022|hindi songs new|bollywood son...</td>\n",
       "      <td>23384074</td>\n",
       "      <td>477316</td>\n",
       "      <td>0</td>\n",
       "      <td>24813</td>\n",
       "      <td>https://i.ytimg.com/vi/fzOPc-VtcTE/default.jpg</td>\n",
       "      <td>False</td>\n",
       "      <td>False</td>\n",
       "      <td>Presenting Galliyan Returns song, from the mov...</td>\n",
       "    </tr>\n",
       "    <tr>\n",
       "      <th>4</th>\n",
       "      <td>kosN5Gf7k48</td>\n",
       "      <td>Boba Fett VS Predator (Star Wars VS Predator) ...</td>\n",
       "      <td>2022-07-04T17:00:12Z</td>\n",
       "      <td>UCB9_VH_CNbbH4GfKu8qh63w</td>\n",
       "      <td>DEATH BATTLE!</td>\n",
       "      <td>24</td>\n",
       "      <td>2022-07-06T00:00:00Z</td>\n",
       "      <td>DEATH BATTLE|Rooster Teeth|RT|DBX|DEATH BATTLE...</td>\n",
       "      <td>1101929</td>\n",
       "      <td>66443</td>\n",
       "      <td>0</td>\n",
       "      <td>9485</td>\n",
       "      <td>https://i.ytimg.com/vi/kosN5Gf7k48/default.jpg</td>\n",
       "      <td>False</td>\n",
       "      <td>False</td>\n",
       "      <td>Two interstellar bounty hunters enter DEATH BA...</td>\n",
       "    </tr>\n",
       "  </tbody>\n",
       "</table>\n",
       "</div>"
      ],
      "text/plain": [
       "      video_id                                              title  \\\n",
       "0  o7SZN-djyRA  Stray Dog Collapses on Woman's Porch and Slowl...   \n",
       "1  bM6ren2tPU8          Race Highlights | 2022 British Grand Prix   \n",
       "2  waMAVn2hHBM                            WINNER - ‘I LOVE U’ M/V   \n",
       "3  fzOPc-VtcTE  Galliyan Returns Song: Ek Villain Returns | Jo...   \n",
       "4  kosN5Gf7k48  Boba Fett VS Predator (Star Wars VS Predator) ...   \n",
       "\n",
       "            publishedat                 channelid   channeltitle categoryid  \\\n",
       "0  2022-07-04T13:00:34Z  UCINb0wqPz-A0dV9nARjJlOQ       The Dodo         15   \n",
       "1  2022-07-03T17:54:39Z  UCB_qr75-ydFVKSF9Dmo6izg      FORMULA 1         17   \n",
       "2  2022-07-05T09:00:12Z  UCayQxFAoFCvGariuQCtHRGQ         WINNER         10   \n",
       "3  2022-07-04T12:23:25Z  UCq-Fj5jknLsUf-MWSy4_brA       T-Series         10   \n",
       "4  2022-07-04T17:00:12Z  UCB9_VH_CNbbH4GfKu8qh63w  DEATH BATTLE!         24   \n",
       "\n",
       "               trending                                               tags  \\\n",
       "0  2022-07-06T00:00:00Z  animal video|animals|the dodo|Animal Rescue|do...   \n",
       "1  2022-07-06T00:00:00Z  F1|Formula One|Formula 1|Sports|Sport|Action|G...   \n",
       "2  2022-07-06T00:00:00Z  YG Entertainment|YG|와이지|K-pop|WINNER|위너|강승윤|김진...   \n",
       "3  2022-07-06T00:00:00Z  hindi songs 2022|hindi songs new|bollywood son...   \n",
       "4  2022-07-06T00:00:00Z  DEATH BATTLE|Rooster Teeth|RT|DBX|DEATH BATTLE...   \n",
       "\n",
       "  view_count   likes dislikes comment_count  \\\n",
       "0    1695542   33049        0          1560   \n",
       "1    7787639  190113        0         11397   \n",
       "2    4626521  184288        0         11687   \n",
       "3   23384074  477316        0         24813   \n",
       "4    1101929   66443        0          9485   \n",
       "\n",
       "                                   thumbnail_link comments_disabled  \\\n",
       "0  https://i.ytimg.com/vi/o7SZN-djyRA/default.jpg             False   \n",
       "1  https://i.ytimg.com/vi/bM6ren2tPU8/default.jpg             False   \n",
       "2  https://i.ytimg.com/vi/waMAVn2hHBM/default.jpg             False   \n",
       "3  https://i.ytimg.com/vi/fzOPc-VtcTE/default.jpg             False   \n",
       "4  https://i.ytimg.com/vi/kosN5Gf7k48/default.jpg             False   \n",
       "\n",
       "  ratings_disabled                                        description  \n",
       "0            False  People were trying to chase this stray dog out...  \n",
       "1            False  A dramatic day of racing at Silverstone as we ...  \n",
       "2            False  WINNER - I LOVE U나도 이럴 줄 몰랐어사랑에 빠진 싸이코갇혀 버린 걸까...  \n",
       "3            False  Presenting Galliyan Returns song, from the mov...  \n",
       "4            False  Two interstellar bounty hunters enter DEATH BA...  "
      ]
     },
     "execution_count": 14,
     "metadata": {},
     "output_type": "execute_result"
    }
   ],
   "source": [
    "pd.read_sql(f\"SELECT * FROM {db_name}.gb_csv LIMIT 5\", conn)"
   ]
  },
  {
   "cell_type": "code",
   "execution_count": 15,
   "id": "56aae011-30bc-4dea-a568-32417e8b90f1",
   "metadata": {
    "tags": []
   },
   "outputs": [
    {
     "data": {
      "text/html": [
       "<div>\n",
       "<style scoped>\n",
       "    .dataframe tbody tr th:only-of-type {\n",
       "        vertical-align: middle;\n",
       "    }\n",
       "\n",
       "    .dataframe tbody tr th {\n",
       "        vertical-align: top;\n",
       "    }\n",
       "\n",
       "    .dataframe thead th {\n",
       "        text-align: right;\n",
       "    }\n",
       "</style>\n",
       "<table border=\"1\" class=\"dataframe\">\n",
       "  <thead>\n",
       "    <tr style=\"text-align: right;\">\n",
       "      <th></th>\n",
       "    </tr>\n",
       "  </thead>\n",
       "  <tbody>\n",
       "  </tbody>\n",
       "</table>\n",
       "</div>"
      ],
      "text/plain": [
       "Empty DataFrame\n",
       "Columns: []\n",
       "Index: []"
      ]
     },
     "execution_count": 15,
     "metadata": {},
     "output_type": "execute_result"
    }
   ],
   "source": [
    "pd.read_sql(f\"DROP TABLE IF EXISTS {db_name}.us_json\", conn)\n",
    "\n",
    "us_json_create = f\"\"\"\n",
    "CREATE EXTERNAL TABLE IF NOT EXISTS {db_name}.us_json (\n",
    "                        kind string, \n",
    "                        etag string, \n",
    "                        items ARRAY< struct< kind: string, \n",
    "                                             etag: string,\n",
    "                                             id: string,\n",
    "                                             snippet: ARRAY< struct<\n",
    "                                                            title: string,\n",
    "                                                            assignable: string,\n",
    "                                                            channelId: string\n",
    "                                                    >>\n",
    "                                        >>\n",
    "                        )\n",
    "                        ROW FORMAT SERDE 'org.openx.data.jsonserde.JsonSerDe'\n",
    "                        WITH SERDEPROPERTIES ( \n",
    "                                                \"ignore.malformed.json\"=\"true\"\n",
    "                                             )\n",
    "                        LOCATION 's3://{bucket}/youtubeStatistics/json/usa/US_category_id_test.json';\n",
    "\"\"\"\n",
    "\n",
    "pd.read_sql(us_json_create, conn)"
   ]
  },
  {
   "cell_type": "code",
   "execution_count": 16,
   "id": "8cb3348e-7a7a-4d2f-8d21-4390c88d2ed0",
   "metadata": {
    "tags": []
   },
   "outputs": [
    {
     "data": {
      "text/html": [
       "<div>\n",
       "<style scoped>\n",
       "    .dataframe tbody tr th:only-of-type {\n",
       "        vertical-align: middle;\n",
       "    }\n",
       "\n",
       "    .dataframe tbody tr th {\n",
       "        vertical-align: top;\n",
       "    }\n",
       "\n",
       "    .dataframe thead th {\n",
       "        text-align: right;\n",
       "    }\n",
       "</style>\n",
       "<table border=\"1\" class=\"dataframe\">\n",
       "  <thead>\n",
       "    <tr style=\"text-align: right;\">\n",
       "      <th></th>\n",
       "      <th>kind</th>\n",
       "      <th>etag</th>\n",
       "      <th>id</th>\n",
       "      <th>title</th>\n",
       "      <th>assignable</th>\n",
       "      <th>channelId</th>\n",
       "    </tr>\n",
       "  </thead>\n",
       "  <tbody>\n",
       "  </tbody>\n",
       "</table>\n",
       "</div>"
      ],
      "text/plain": [
       "Empty DataFrame\n",
       "Columns: [kind, etag, id, title, assignable, channelId]\n",
       "Index: []"
      ]
     },
     "execution_count": 16,
     "metadata": {},
     "output_type": "execute_result"
    }
   ],
   "source": [
    "query_json_us = f\"\"\"SELECT \n",
    "                    its.kind, \n",
    "                    its.etag, \n",
    "                    its.id, \n",
    "                    snt.title, \n",
    "                    snt.assignable, \n",
    "                    snt.channelId \n",
    "                    FROM {db_name}.us_json, \n",
    "                    UNNEST({db_name}.us_json.items) AS t(its),\n",
    "                    UNNEST(its.snippet) AS t(snt)\n",
    "                    WHERE snt.title = 'gaming';\n",
    "\"\"\"\n",
    "\n",
    "pd.read_sql(query_json_us, conn)"
   ]
  },
  {
   "cell_type": "code",
   "execution_count": 17,
   "id": "7681ce14-fc2c-4724-ae22-3b4b20fc92de",
   "metadata": {
    "tags": []
   },
   "outputs": [
    {
     "data": {
      "text/html": [
       "<div>\n",
       "<style scoped>\n",
       "    .dataframe tbody tr th:only-of-type {\n",
       "        vertical-align: middle;\n",
       "    }\n",
       "\n",
       "    .dataframe tbody tr th {\n",
       "        vertical-align: top;\n",
       "    }\n",
       "\n",
       "    .dataframe thead th {\n",
       "        text-align: right;\n",
       "    }\n",
       "</style>\n",
       "<table border=\"1\" class=\"dataframe\">\n",
       "  <thead>\n",
       "    <tr style=\"text-align: right;\">\n",
       "      <th></th>\n",
       "      <th>database_name</th>\n",
       "    </tr>\n",
       "  </thead>\n",
       "  <tbody>\n",
       "    <tr>\n",
       "      <th>0</th>\n",
       "      <td>default</td>\n",
       "    </tr>\n",
       "    <tr>\n",
       "      <th>1</th>\n",
       "      <td>sagemaker_featurestore</td>\n",
       "    </tr>\n",
       "    <tr>\n",
       "      <th>2</th>\n",
       "      <td>youtubedb</td>\n",
       "    </tr>\n",
       "    <tr>\n",
       "      <th>3</th>\n",
       "      <td>youtubestatistics</td>\n",
       "    </tr>\n",
       "  </tbody>\n",
       "</table>\n",
       "</div>"
      ],
      "text/plain": [
       "            database_name\n",
       "0                 default\n",
       "1  sagemaker_featurestore\n",
       "2               youtubedb\n",
       "3       youtubestatistics"
      ]
     },
     "execution_count": 17,
     "metadata": {},
     "output_type": "execute_result"
    }
   ],
   "source": [
    "statement = \"SHOW DATABASES\"\n",
    "db_show = pd.read_sql(statement, conn)\n",
    "db_show.head(5)"
   ]
  },
  {
   "cell_type": "code",
   "execution_count": 18,
   "id": "39b26840-2c0e-49ad-a6ca-3e560cfcfd56",
   "metadata": {
    "tags": []
   },
   "outputs": [],
   "source": [
    "if db_name in db_show.values:\n",
    "    ingest_create_athena_db_passed = True"
   ]
  },
  {
   "cell_type": "code",
   "execution_count": 19,
   "id": "18801448-8fee-48f3-b6e1-0dda40f76f66",
   "metadata": {
    "tags": []
   },
   "outputs": [
    {
     "name": "stdout",
     "output_type": "stream",
     "text": [
      "Stored 'ingest_create_athena_db_passed' (bool)\n"
     ]
    }
   ],
   "source": [
    "%store ingest_create_athena_db_passed"
   ]
  },
  {
   "cell_type": "markdown",
   "id": "513b8016-87d8-49b1-8a6d-0639fd6397f1",
   "metadata": {},
   "source": [
    "## Exploratory Data Analysis\n",
    "\n",
    "Preparing the data for exploration by adjusting the necessary column types.\n",
    "\n",
    "### Initial Preprocesssing and transformations to visualize the data properly\n",
    "\n",
    "#### Data Import\n",
    "\n",
    "The data set below is created from the United States area where categoryid = 20 or 'Gaming' category on Youtube. As many of the creators under our companies umbrella do create 'Gaming' content, it is a key area for ViewBoost to focus in on. It also provides an opportunity to refine a robust deep learning neural network as there is still 37,000 records within the US Gaming segment."
   ]
  },
  {
   "cell_type": "code",
   "execution_count": 20,
   "id": "c7f10abc-fd91-4aa5-9b74-c54b29064521",
   "metadata": {
    "tags": []
   },
   "outputs": [
    {
     "data": {
      "text/html": [
       "<div>\n",
       "<style scoped>\n",
       "    .dataframe tbody tr th:only-of-type {\n",
       "        vertical-align: middle;\n",
       "    }\n",
       "\n",
       "    .dataframe tbody tr th {\n",
       "        vertical-align: top;\n",
       "    }\n",
       "\n",
       "    .dataframe thead th {\n",
       "        text-align: right;\n",
       "    }\n",
       "</style>\n",
       "<table border=\"1\" class=\"dataframe\">\n",
       "  <thead>\n",
       "    <tr style=\"text-align: right;\">\n",
       "      <th></th>\n",
       "      <th>video_id</th>\n",
       "      <th>title</th>\n",
       "      <th>publishedat</th>\n",
       "      <th>channelid</th>\n",
       "      <th>channeltitle</th>\n",
       "      <th>categoryid</th>\n",
       "      <th>trending</th>\n",
       "      <th>tags</th>\n",
       "      <th>view_count</th>\n",
       "      <th>likes</th>\n",
       "      <th>dislikes</th>\n",
       "      <th>comment_count</th>\n",
       "      <th>thumbnail_link</th>\n",
       "      <th>comments_disabled</th>\n",
       "      <th>ratings_disabled</th>\n",
       "      <th>description</th>\n",
       "    </tr>\n",
       "  </thead>\n",
       "  <tbody>\n",
       "    <tr>\n",
       "      <th>0</th>\n",
       "      <td>Y4wWqz3ng_U</td>\n",
       "      <td>This Kinda SUCKS! - Cyberpunk 2077 Next Gen Up...</td>\n",
       "      <td>2022-02-15T18:03:04Z</td>\n",
       "      <td>UCiHFS5txB0O7jckRk-oK8XQ</td>\n",
       "      <td>DreamcastGuy</td>\n",
       "      <td>20</td>\n",
       "      <td>2022-02-19T00:00:00Z</td>\n",
       "      <td>xbox|pc|one|sony|playstation|dreamcast|gaming|...</td>\n",
       "      <td>227405</td>\n",
       "      <td>4959</td>\n",
       "      <td>0</td>\n",
       "      <td>2621</td>\n",
       "      <td>https://i.ytimg.com/vi/Y4wWqz3ng_U/default.jpg</td>\n",
       "      <td>False</td>\n",
       "      <td>False</td>\n",
       "      <td>Like and subscribe if you enjoyed it!Follow me...</td>\n",
       "    </tr>\n",
       "    <tr>\n",
       "      <th>1</th>\n",
       "      <td>zk2rxLH80XA</td>\n",
       "      <td>The SHOCKING Truth about Yae Miko! 4★ Weapon C...</td>\n",
       "      <td>2022-02-16T02:52:38Z</td>\n",
       "      <td>UC8BTtymnCZ7jTvt09cjPMwQ</td>\n",
       "      <td>Gacha Gamer</td>\n",
       "      <td>20</td>\n",
       "      <td>2022-02-19T00:00:00Z</td>\n",
       "      <td>genshin impact|genshin impact mobile|genshin i...</td>\n",
       "      <td>382598</td>\n",
       "      <td>13241</td>\n",
       "      <td>0</td>\n",
       "      <td>1025</td>\n",
       "      <td>https://i.ytimg.com/vi/zk2rxLH80XA/default.jpg</td>\n",
       "      <td>False</td>\n",
       "      <td>False</td>\n",
       "      <td>Yae Miko surprised me in several ways and with...</td>\n",
       "    </tr>\n",
       "    <tr>\n",
       "      <th>2</th>\n",
       "      <td>J6CbElkmmMA</td>\n",
       "      <td>GIANT ALEX Mod in Among Us...</td>\n",
       "      <td>2022-02-16T23:45:01Z</td>\n",
       "      <td>UCXHGoWpySS0smjanTUDa6Gw</td>\n",
       "      <td>GameToons Gaming</td>\n",
       "      <td>20</td>\n",
       "      <td>2022-02-19T00:00:00Z</td>\n",
       "      <td>among us|among us logic|among us adventures|ga...</td>\n",
       "      <td>989968</td>\n",
       "      <td>16910</td>\n",
       "      <td>0</td>\n",
       "      <td>516</td>\n",
       "      <td>https://i.ytimg.com/vi/J6CbElkmmMA/default.jpg</td>\n",
       "      <td>False</td>\n",
       "      <td>False</td>\n",
       "      <td>► SUBSCRIBE to GameToons Gaming! -https://www....</td>\n",
       "    </tr>\n",
       "    <tr>\n",
       "      <th>3</th>\n",
       "      <td>P1AG7wG-oew</td>\n",
       "      <td>Battlefield Friends 2042 - Worst Launch Ever</td>\n",
       "      <td>2022-02-14T19:00:10Z</td>\n",
       "      <td>UCiufyZv8iRPTafTw0D4CvnQ</td>\n",
       "      <td>Neebs Gaming</td>\n",
       "      <td>20</td>\n",
       "      <td>2022-02-19T00:00:00Z</td>\n",
       "      <td>Battlefield 2042|Battlefield Friends|BFFs|wors...</td>\n",
       "      <td>819257</td>\n",
       "      <td>93278</td>\n",
       "      <td>0</td>\n",
       "      <td>6213</td>\n",
       "      <td>https://i.ytimg.com/vi/P1AG7wG-oew/default.jpg</td>\n",
       "      <td>False</td>\n",
       "      <td>False</td>\n",
       "      <td>Battlefield Friends 2042 Worst Launch Ever!► S...</td>\n",
       "    </tr>\n",
       "    <tr>\n",
       "      <th>4</th>\n",
       "      <td>sUEG2uie6Qo</td>\n",
       "      <td>I Busted 72 Chapter 3 Myths That 100% Work...</td>\n",
       "      <td>2022-02-14T20:45:43Z</td>\n",
       "      <td>UCGNaS7Q5TLpOzx-oIocgkqA</td>\n",
       "      <td>Txns</td>\n",
       "      <td>20</td>\n",
       "      <td>2022-02-19T00:00:00Z</td>\n",
       "      <td>fortnite chapter 3|fortnite battle royale|fort...</td>\n",
       "      <td>982704</td>\n",
       "      <td>12611</td>\n",
       "      <td>0</td>\n",
       "      <td>349</td>\n",
       "      <td>https://i.ytimg.com/vi/sUEG2uie6Qo/default.jpg</td>\n",
       "      <td>False</td>\n",
       "      <td>False</td>\n",
       "      <td>I busted 25 fortnite Myths...~DISCORD~https://...</td>\n",
       "    </tr>\n",
       "  </tbody>\n",
       "</table>\n",
       "</div>"
      ],
      "text/plain": [
       "      video_id                                              title  \\\n",
       "0  Y4wWqz3ng_U  This Kinda SUCKS! - Cyberpunk 2077 Next Gen Up...   \n",
       "1  zk2rxLH80XA  The SHOCKING Truth about Yae Miko! 4★ Weapon C...   \n",
       "2  J6CbElkmmMA                      GIANT ALEX Mod in Among Us...   \n",
       "3  P1AG7wG-oew       Battlefield Friends 2042 - Worst Launch Ever   \n",
       "4  sUEG2uie6Qo      I Busted 72 Chapter 3 Myths That 100% Work...   \n",
       "\n",
       "            publishedat                 channelid      channeltitle  \\\n",
       "0  2022-02-15T18:03:04Z  UCiHFS5txB0O7jckRk-oK8XQ      DreamcastGuy   \n",
       "1  2022-02-16T02:52:38Z  UC8BTtymnCZ7jTvt09cjPMwQ       Gacha Gamer   \n",
       "2  2022-02-16T23:45:01Z  UCXHGoWpySS0smjanTUDa6Gw  GameToons Gaming   \n",
       "3  2022-02-14T19:00:10Z  UCiufyZv8iRPTafTw0D4CvnQ      Neebs Gaming   \n",
       "4  2022-02-14T20:45:43Z  UCGNaS7Q5TLpOzx-oIocgkqA              Txns   \n",
       "\n",
       "  categoryid              trending  \\\n",
       "0         20  2022-02-19T00:00:00Z   \n",
       "1         20  2022-02-19T00:00:00Z   \n",
       "2         20  2022-02-19T00:00:00Z   \n",
       "3         20  2022-02-19T00:00:00Z   \n",
       "4         20  2022-02-19T00:00:00Z   \n",
       "\n",
       "                                                tags view_count  likes  \\\n",
       "0  xbox|pc|one|sony|playstation|dreamcast|gaming|...     227405   4959   \n",
       "1  genshin impact|genshin impact mobile|genshin i...     382598  13241   \n",
       "2  among us|among us logic|among us adventures|ga...     989968  16910   \n",
       "3  Battlefield 2042|Battlefield Friends|BFFs|wors...     819257  93278   \n",
       "4  fortnite chapter 3|fortnite battle royale|fort...     982704  12611   \n",
       "\n",
       "  dislikes comment_count                                  thumbnail_link  \\\n",
       "0        0          2621  https://i.ytimg.com/vi/Y4wWqz3ng_U/default.jpg   \n",
       "1        0          1025  https://i.ytimg.com/vi/zk2rxLH80XA/default.jpg   \n",
       "2        0           516  https://i.ytimg.com/vi/J6CbElkmmMA/default.jpg   \n",
       "3        0          6213  https://i.ytimg.com/vi/P1AG7wG-oew/default.jpg   \n",
       "4        0           349  https://i.ytimg.com/vi/sUEG2uie6Qo/default.jpg   \n",
       "\n",
       "  comments_disabled ratings_disabled  \\\n",
       "0             False            False   \n",
       "1             False            False   \n",
       "2             False            False   \n",
       "3             False            False   \n",
       "4             False            False   \n",
       "\n",
       "                                         description  \n",
       "0  Like and subscribe if you enjoyed it!Follow me...  \n",
       "1  Yae Miko surprised me in several ways and with...  \n",
       "2  ► SUBSCRIBE to GameToons Gaming! -https://www....  \n",
       "3  Battlefield Friends 2042 Worst Launch Ever!► S...  \n",
       "4  I busted 25 fortnite Myths...~DISCORD~https://...  "
      ]
     },
     "execution_count": 20,
     "metadata": {},
     "output_type": "execute_result"
    }
   ],
   "source": [
    "# 20 is the category id for gaming in each country\n",
    "us_gaming = pd.read_sql(f\"SELECT * FROM {db_name}.us_csv WHERE us_csv.categoryid LIKE '20';\", conn)\n",
    "us_gaming.head()"
   ]
  },
  {
   "cell_type": "code",
   "execution_count": 21,
   "id": "55166c77-f77b-46fc-8c7b-f8d261441486",
   "metadata": {
    "tags": []
   },
   "outputs": [
    {
     "name": "stdout",
     "output_type": "stream",
     "text": [
      "Length of data frame: 37071\n",
      "Width of data frame: 16\n",
      "Initial data types: video_id             object\n",
      "title                object\n",
      "publishedat          object\n",
      "channelid            object\n",
      "channeltitle         object\n",
      "categoryid           object\n",
      "trending             object\n",
      "tags                 object\n",
      "view_count           object\n",
      "likes                object\n",
      "dislikes             object\n",
      "comment_count        object\n",
      "thumbnail_link       object\n",
      "comments_disabled    object\n",
      "ratings_disabled     object\n",
      "description          object\n",
      "dtype: object\n",
      "video_id                0\n",
      "title                   0\n",
      "publishedat             0\n",
      "channelid               0\n",
      "channeltitle            0\n",
      "categoryid              0\n",
      "trending                0\n",
      "tags                    0\n",
      "view_count              0\n",
      "likes                   0\n",
      "dislikes                0\n",
      "comment_count           0\n",
      "thumbnail_link          0\n",
      "comments_disabled       0\n",
      "ratings_disabled        0\n",
      "description          1296\n",
      "dtype: int64\n",
      "New data types: video_id                     object\n",
      "title                        object\n",
      "publishedat          datetime64[ns]\n",
      "channelid                    object\n",
      "channeltitle                 object\n",
      "categoryid                    int64\n",
      "trending             datetime64[ns]\n",
      "tags                         object\n",
      "view_count                    int64\n",
      "likes                         int64\n",
      "dislikes                      int64\n",
      "comment_count                 int64\n",
      "thumbnail_link               object\n",
      "comments_disabled             int64\n",
      "ratings_disabled              int64\n",
      "description                  object\n",
      "dtype: object\n"
     ]
    },
    {
     "data": {
      "text/html": [
       "<div>\n",
       "<style scoped>\n",
       "    .dataframe tbody tr th:only-of-type {\n",
       "        vertical-align: middle;\n",
       "    }\n",
       "\n",
       "    .dataframe tbody tr th {\n",
       "        vertical-align: top;\n",
       "    }\n",
       "\n",
       "    .dataframe thead th {\n",
       "        text-align: right;\n",
       "    }\n",
       "</style>\n",
       "<table border=\"1\" class=\"dataframe\">\n",
       "  <thead>\n",
       "    <tr style=\"text-align: right;\">\n",
       "      <th></th>\n",
       "      <th>video_id</th>\n",
       "      <th>title</th>\n",
       "      <th>publishedat</th>\n",
       "      <th>channelid</th>\n",
       "      <th>channeltitle</th>\n",
       "      <th>categoryid</th>\n",
       "      <th>trending</th>\n",
       "      <th>tags</th>\n",
       "      <th>view_count</th>\n",
       "      <th>likes</th>\n",
       "      <th>dislikes</th>\n",
       "      <th>comment_count</th>\n",
       "      <th>thumbnail_link</th>\n",
       "      <th>comments_disabled</th>\n",
       "      <th>ratings_disabled</th>\n",
       "      <th>description</th>\n",
       "    </tr>\n",
       "  </thead>\n",
       "  <tbody>\n",
       "    <tr>\n",
       "      <th>0</th>\n",
       "      <td>Y4wWqz3ng_U</td>\n",
       "      <td>This Kinda SUCKS! - Cyberpunk 2077 Next Gen Up...</td>\n",
       "      <td>2022-02-15 18:03:04</td>\n",
       "      <td>UCiHFS5txB0O7jckRk-oK8XQ</td>\n",
       "      <td>DreamcastGuy</td>\n",
       "      <td>20</td>\n",
       "      <td>2022-02-19</td>\n",
       "      <td>xbox|pc|one|sony|playstation|dreamcast|gaming|...</td>\n",
       "      <td>227405</td>\n",
       "      <td>4959</td>\n",
       "      <td>0</td>\n",
       "      <td>2621</td>\n",
       "      <td>https://i.ytimg.com/vi/Y4wWqz3ng_U/default.jpg</td>\n",
       "      <td>1</td>\n",
       "      <td>1</td>\n",
       "      <td>Like and subscribe if you enjoyed it!Follow me...</td>\n",
       "    </tr>\n",
       "    <tr>\n",
       "      <th>1</th>\n",
       "      <td>zk2rxLH80XA</td>\n",
       "      <td>The SHOCKING Truth about Yae Miko! 4★ Weapon C...</td>\n",
       "      <td>2022-02-16 02:52:38</td>\n",
       "      <td>UC8BTtymnCZ7jTvt09cjPMwQ</td>\n",
       "      <td>Gacha Gamer</td>\n",
       "      <td>20</td>\n",
       "      <td>2022-02-19</td>\n",
       "      <td>genshin impact|genshin impact mobile|genshin i...</td>\n",
       "      <td>382598</td>\n",
       "      <td>13241</td>\n",
       "      <td>0</td>\n",
       "      <td>1025</td>\n",
       "      <td>https://i.ytimg.com/vi/zk2rxLH80XA/default.jpg</td>\n",
       "      <td>1</td>\n",
       "      <td>1</td>\n",
       "      <td>Yae Miko surprised me in several ways and with...</td>\n",
       "    </tr>\n",
       "    <tr>\n",
       "      <th>2</th>\n",
       "      <td>J6CbElkmmMA</td>\n",
       "      <td>GIANT ALEX Mod in Among Us...</td>\n",
       "      <td>2022-02-16 23:45:01</td>\n",
       "      <td>UCXHGoWpySS0smjanTUDa6Gw</td>\n",
       "      <td>GameToons Gaming</td>\n",
       "      <td>20</td>\n",
       "      <td>2022-02-19</td>\n",
       "      <td>among us|among us logic|among us adventures|ga...</td>\n",
       "      <td>989968</td>\n",
       "      <td>16910</td>\n",
       "      <td>0</td>\n",
       "      <td>516</td>\n",
       "      <td>https://i.ytimg.com/vi/J6CbElkmmMA/default.jpg</td>\n",
       "      <td>1</td>\n",
       "      <td>1</td>\n",
       "      <td>► SUBSCRIBE to GameToons Gaming! -https://www....</td>\n",
       "    </tr>\n",
       "    <tr>\n",
       "      <th>3</th>\n",
       "      <td>P1AG7wG-oew</td>\n",
       "      <td>Battlefield Friends 2042 - Worst Launch Ever</td>\n",
       "      <td>2022-02-14 19:00:10</td>\n",
       "      <td>UCiufyZv8iRPTafTw0D4CvnQ</td>\n",
       "      <td>Neebs Gaming</td>\n",
       "      <td>20</td>\n",
       "      <td>2022-02-19</td>\n",
       "      <td>Battlefield 2042|Battlefield Friends|BFFs|wors...</td>\n",
       "      <td>819257</td>\n",
       "      <td>93278</td>\n",
       "      <td>0</td>\n",
       "      <td>6213</td>\n",
       "      <td>https://i.ytimg.com/vi/P1AG7wG-oew/default.jpg</td>\n",
       "      <td>1</td>\n",
       "      <td>1</td>\n",
       "      <td>Battlefield Friends 2042 Worst Launch Ever!► S...</td>\n",
       "    </tr>\n",
       "    <tr>\n",
       "      <th>4</th>\n",
       "      <td>sUEG2uie6Qo</td>\n",
       "      <td>I Busted 72 Chapter 3 Myths That 100% Work...</td>\n",
       "      <td>2022-02-14 20:45:43</td>\n",
       "      <td>UCGNaS7Q5TLpOzx-oIocgkqA</td>\n",
       "      <td>Txns</td>\n",
       "      <td>20</td>\n",
       "      <td>2022-02-19</td>\n",
       "      <td>fortnite chapter 3|fortnite battle royale|fort...</td>\n",
       "      <td>982704</td>\n",
       "      <td>12611</td>\n",
       "      <td>0</td>\n",
       "      <td>349</td>\n",
       "      <td>https://i.ytimg.com/vi/sUEG2uie6Qo/default.jpg</td>\n",
       "      <td>1</td>\n",
       "      <td>1</td>\n",
       "      <td>I busted 25 fortnite Myths...~DISCORD~https://...</td>\n",
       "    </tr>\n",
       "  </tbody>\n",
       "</table>\n",
       "</div>"
      ],
      "text/plain": [
       "      video_id                                              title  \\\n",
       "0  Y4wWqz3ng_U  This Kinda SUCKS! - Cyberpunk 2077 Next Gen Up...   \n",
       "1  zk2rxLH80XA  The SHOCKING Truth about Yae Miko! 4★ Weapon C...   \n",
       "2  J6CbElkmmMA                      GIANT ALEX Mod in Among Us...   \n",
       "3  P1AG7wG-oew       Battlefield Friends 2042 - Worst Launch Ever   \n",
       "4  sUEG2uie6Qo      I Busted 72 Chapter 3 Myths That 100% Work...   \n",
       "\n",
       "          publishedat                 channelid      channeltitle  categoryid  \\\n",
       "0 2022-02-15 18:03:04  UCiHFS5txB0O7jckRk-oK8XQ      DreamcastGuy          20   \n",
       "1 2022-02-16 02:52:38  UC8BTtymnCZ7jTvt09cjPMwQ       Gacha Gamer          20   \n",
       "2 2022-02-16 23:45:01  UCXHGoWpySS0smjanTUDa6Gw  GameToons Gaming          20   \n",
       "3 2022-02-14 19:00:10  UCiufyZv8iRPTafTw0D4CvnQ      Neebs Gaming          20   \n",
       "4 2022-02-14 20:45:43  UCGNaS7Q5TLpOzx-oIocgkqA              Txns          20   \n",
       "\n",
       "    trending                                               tags  view_count  \\\n",
       "0 2022-02-19  xbox|pc|one|sony|playstation|dreamcast|gaming|...      227405   \n",
       "1 2022-02-19  genshin impact|genshin impact mobile|genshin i...      382598   \n",
       "2 2022-02-19  among us|among us logic|among us adventures|ga...      989968   \n",
       "3 2022-02-19  Battlefield 2042|Battlefield Friends|BFFs|wors...      819257   \n",
       "4 2022-02-19  fortnite chapter 3|fortnite battle royale|fort...      982704   \n",
       "\n",
       "   likes  dislikes  comment_count  \\\n",
       "0   4959         0           2621   \n",
       "1  13241         0           1025   \n",
       "2  16910         0            516   \n",
       "3  93278         0           6213   \n",
       "4  12611         0            349   \n",
       "\n",
       "                                   thumbnail_link  comments_disabled  \\\n",
       "0  https://i.ytimg.com/vi/Y4wWqz3ng_U/default.jpg                  1   \n",
       "1  https://i.ytimg.com/vi/zk2rxLH80XA/default.jpg                  1   \n",
       "2  https://i.ytimg.com/vi/J6CbElkmmMA/default.jpg                  1   \n",
       "3  https://i.ytimg.com/vi/P1AG7wG-oew/default.jpg                  1   \n",
       "4  https://i.ytimg.com/vi/sUEG2uie6Qo/default.jpg                  1   \n",
       "\n",
       "   ratings_disabled                                        description  \n",
       "0                 1  Like and subscribe if you enjoyed it!Follow me...  \n",
       "1                 1  Yae Miko surprised me in several ways and with...  \n",
       "2                 1  ► SUBSCRIBE to GameToons Gaming! -https://www....  \n",
       "3                 1  Battlefield Friends 2042 Worst Launch Ever!► S...  \n",
       "4                 1  I busted 25 fortnite Myths...~DISCORD~https://...  "
      ]
     },
     "execution_count": 21,
     "metadata": {},
     "output_type": "execute_result"
    }
   ],
   "source": [
    "print(\"Length of data frame:\", us_gaming.shape[0])\n",
    "print(\"Width of data frame:\", us_gaming.shape[1])\n",
    "print(\"Initial data types:\", us_gaming.dtypes)\n",
    "\n",
    "\n",
    "# Change to integer\n",
    "us_gaming['categoryid'] = us_gaming['categoryid'].astype(int) \n",
    "us_gaming['view_count'] = us_gaming['view_count'].astype(int)\n",
    "us_gaming['likes'] = us_gaming['likes'].astype(int)\n",
    "us_gaming['dislikes'] = us_gaming['dislikes'].astype(int)\n",
    "us_gaming['comment_count'] = us_gaming['comment_count'].astype(int)\n",
    "\n",
    "\n",
    "# Change to bool then int representations\n",
    "us_gaming['ratings_disabled'] = us_gaming['ratings_disabled'].astype(bool).apply(int)\n",
    "us_gaming['comments_disabled'] = us_gaming['comments_disabled'].astype(bool).apply(int)\n",
    "\n",
    "\n",
    "\n",
    "# Change to datetime\n",
    "us_gaming['publishedat'] = pd.to_datetime(us_gaming['publishedat'], infer_datetime_format=True)\n",
    "us_gaming['trending'] = pd.to_datetime(us_gaming['trending'], infer_datetime_format=True)\n",
    "\n",
    "\n",
    "\n",
    "print(us_gaming.isnull().sum())\n",
    "print(\"New data types:\", us_gaming.dtypes)\n",
    "us_gaming.head()"
   ]
  },
  {
   "cell_type": "code",
   "execution_count": 22,
   "id": "20b022c7-2be4-405d-afeb-19f09a5d9d30",
   "metadata": {
    "tags": []
   },
   "outputs": [],
   "source": [
    "us_gaming.drop_duplicates('video_id', keep = 'last', inplace = True)"
   ]
  },
  {
   "cell_type": "code",
   "execution_count": 23,
   "id": "1f606b42-8401-4cf0-b1b1-167265901fd1",
   "metadata": {
    "tags": []
   },
   "outputs": [
    {
     "data": {
      "text/html": [
       "<div>\n",
       "<style scoped>\n",
       "    .dataframe tbody tr th:only-of-type {\n",
       "        vertical-align: middle;\n",
       "    }\n",
       "\n",
       "    .dataframe tbody tr th {\n",
       "        vertical-align: top;\n",
       "    }\n",
       "\n",
       "    .dataframe thead th {\n",
       "        text-align: right;\n",
       "    }\n",
       "</style>\n",
       "<table border=\"1\" class=\"dataframe\">\n",
       "  <thead>\n",
       "    <tr style=\"text-align: right;\">\n",
       "      <th></th>\n",
       "      <th>video_id</th>\n",
       "      <th>title</th>\n",
       "      <th>publishedat</th>\n",
       "      <th>channelid</th>\n",
       "      <th>channeltitle</th>\n",
       "      <th>categoryid</th>\n",
       "      <th>trending</th>\n",
       "      <th>tags</th>\n",
       "      <th>view_count</th>\n",
       "      <th>likes</th>\n",
       "      <th>dislikes</th>\n",
       "      <th>comment_count</th>\n",
       "      <th>thumbnail_link</th>\n",
       "      <th>comments_disabled</th>\n",
       "      <th>ratings_disabled</th>\n",
       "      <th>description</th>\n",
       "    </tr>\n",
       "  </thead>\n",
       "  <tbody>\n",
       "    <tr>\n",
       "      <th>225</th>\n",
       "      <td>IuzrwoIOTFI</td>\n",
       "      <td>How realistic can you make minecraft in 2022?</td>\n",
       "      <td>2022-02-18 22:00:14</td>\n",
       "      <td>UCfGkyZGTurOs8Xrylyu4G2Q</td>\n",
       "      <td>ItsJim</td>\n",
       "      <td>20</td>\n",
       "      <td>2022-02-24</td>\n",
       "      <td>minecraft|fundy|boffy|itsjim|yeahitsjim|minecr...</td>\n",
       "      <td>425892</td>\n",
       "      <td>22340</td>\n",
       "      <td>0</td>\n",
       "      <td>637</td>\n",
       "      <td>https://i.ytimg.com/vi/IuzrwoIOTFI/default.jpg</td>\n",
       "      <td>1</td>\n",
       "      <td>1</td>\n",
       "      <td>the greatest tradition on youtube. destroying ...</td>\n",
       "    </tr>\n",
       "    <tr>\n",
       "      <th>268</th>\n",
       "      <td>bqL6LviPg50</td>\n",
       "      <td>NEW Fortnite Octopus Boss Update</td>\n",
       "      <td>2022-02-19 14:56:35</td>\n",
       "      <td>UCPIzPN_V3Wk2KN5wIK3Kwsg</td>\n",
       "      <td>gattu</td>\n",
       "      <td>20</td>\n",
       "      <td>2022-02-25</td>\n",
       "      <td>Fortnite|Fortnite Chapter 3 Season 1|All Bosse...</td>\n",
       "      <td>557286</td>\n",
       "      <td>12519</td>\n",
       "      <td>0</td>\n",
       "      <td>1618</td>\n",
       "      <td>https://i.ytimg.com/vi/bqL6LviPg50/default.jpg</td>\n",
       "      <td>1</td>\n",
       "      <td>1</td>\n",
       "      <td>NEW Fortnite Octopus Boss UpdateUse code gattu...</td>\n",
       "    </tr>\n",
       "    <tr>\n",
       "      <th>301</th>\n",
       "      <td>TvuWn6KsGik</td>\n",
       "      <td>Watch This Before you Play Elden Ring!</td>\n",
       "      <td>2022-02-19 19:04:46</td>\n",
       "      <td>UCe0DNp0mKMqrYVaTundyr9w</td>\n",
       "      <td>VaatiVidya</td>\n",
       "      <td>20</td>\n",
       "      <td>2022-02-26</td>\n",
       "      <td>guide|walkthrough|lore|dark|souls|remastered|d...</td>\n",
       "      <td>1581880</td>\n",
       "      <td>67100</td>\n",
       "      <td>0</td>\n",
       "      <td>3701</td>\n",
       "      <td>https://i.ytimg.com/vi/TvuWn6KsGik/default.jpg</td>\n",
       "      <td>1</td>\n",
       "      <td>1</td>\n",
       "      <td>This video was originally supposed to be two v...</td>\n",
       "    </tr>\n",
       "    <tr>\n",
       "      <th>302</th>\n",
       "      <td>T1unuIrlsGI</td>\n",
       "      <td>Minecraft, But My Friends Are Dirt Blocks...</td>\n",
       "      <td>2022-02-19 23:19:40</td>\n",
       "      <td>UCqynl7rdtktKMQESdSBmE-g</td>\n",
       "      <td>Sapnap</td>\n",
       "      <td>20</td>\n",
       "      <td>2022-02-26</td>\n",
       "      <td>minecraft|challenge|Minecraft but|Minecraft Bu...</td>\n",
       "      <td>1790854</td>\n",
       "      <td>178824</td>\n",
       "      <td>0</td>\n",
       "      <td>5373</td>\n",
       "      <td>https://i.ytimg.com/vi/T1unuIrlsGI/default.jpg</td>\n",
       "      <td>1</td>\n",
       "      <td>1</td>\n",
       "      <td>Minecraft, But My Friends Are Dirt Blocks... I...</td>\n",
       "    </tr>\n",
       "    <tr>\n",
       "      <th>303</th>\n",
       "      <td>uDQ8A3XWYiA</td>\n",
       "      <td>Cyberpunk 2077 Next-Gen Patch: The Digital Fou...</td>\n",
       "      <td>2022-02-20 16:29:46</td>\n",
       "      <td>UC9PBzalIcEQCsiIkq36PyUA</td>\n",
       "      <td>Digital Foundry</td>\n",
       "      <td>20</td>\n",
       "      <td>2022-02-26</td>\n",
       "      <td>[None]</td>\n",
       "      <td>657836</td>\n",
       "      <td>22198</td>\n",
       "      <td>0</td>\n",
       "      <td>4461</td>\n",
       "      <td>https://i.ytimg.com/vi/uDQ8A3XWYiA/default.jpg</td>\n",
       "      <td>1</td>\n",
       "      <td>1</td>\n",
       "      <td>A big next-gen update has arrived in the form ...</td>\n",
       "    </tr>\n",
       "  </tbody>\n",
       "</table>\n",
       "</div>"
      ],
      "text/plain": [
       "        video_id                                              title  \\\n",
       "225  IuzrwoIOTFI      How realistic can you make minecraft in 2022?   \n",
       "268  bqL6LviPg50                   NEW Fortnite Octopus Boss Update   \n",
       "301  TvuWn6KsGik             Watch This Before you Play Elden Ring!   \n",
       "302  T1unuIrlsGI       Minecraft, But My Friends Are Dirt Blocks...   \n",
       "303  uDQ8A3XWYiA  Cyberpunk 2077 Next-Gen Patch: The Digital Fou...   \n",
       "\n",
       "            publishedat                 channelid     channeltitle  \\\n",
       "225 2022-02-18 22:00:14  UCfGkyZGTurOs8Xrylyu4G2Q           ItsJim   \n",
       "268 2022-02-19 14:56:35  UCPIzPN_V3Wk2KN5wIK3Kwsg            gattu   \n",
       "301 2022-02-19 19:04:46  UCe0DNp0mKMqrYVaTundyr9w       VaatiVidya   \n",
       "302 2022-02-19 23:19:40  UCqynl7rdtktKMQESdSBmE-g           Sapnap   \n",
       "303 2022-02-20 16:29:46  UC9PBzalIcEQCsiIkq36PyUA  Digital Foundry   \n",
       "\n",
       "     categoryid   trending                                               tags  \\\n",
       "225          20 2022-02-24  minecraft|fundy|boffy|itsjim|yeahitsjim|minecr...   \n",
       "268          20 2022-02-25  Fortnite|Fortnite Chapter 3 Season 1|All Bosse...   \n",
       "301          20 2022-02-26  guide|walkthrough|lore|dark|souls|remastered|d...   \n",
       "302          20 2022-02-26  minecraft|challenge|Minecraft but|Minecraft Bu...   \n",
       "303          20 2022-02-26                                             [None]   \n",
       "\n",
       "     view_count   likes  dislikes  comment_count  \\\n",
       "225      425892   22340         0            637   \n",
       "268      557286   12519         0           1618   \n",
       "301     1581880   67100         0           3701   \n",
       "302     1790854  178824         0           5373   \n",
       "303      657836   22198         0           4461   \n",
       "\n",
       "                                     thumbnail_link  comments_disabled  \\\n",
       "225  https://i.ytimg.com/vi/IuzrwoIOTFI/default.jpg                  1   \n",
       "268  https://i.ytimg.com/vi/bqL6LviPg50/default.jpg                  1   \n",
       "301  https://i.ytimg.com/vi/TvuWn6KsGik/default.jpg                  1   \n",
       "302  https://i.ytimg.com/vi/T1unuIrlsGI/default.jpg                  1   \n",
       "303  https://i.ytimg.com/vi/uDQ8A3XWYiA/default.jpg                  1   \n",
       "\n",
       "     ratings_disabled                                        description  \n",
       "225                 1  the greatest tradition on youtube. destroying ...  \n",
       "268                 1  NEW Fortnite Octopus Boss UpdateUse code gattu...  \n",
       "301                 1  This video was originally supposed to be two v...  \n",
       "302                 1  Minecraft, But My Friends Are Dirt Blocks... I...  \n",
       "303                 1  A big next-gen update has arrived in the form ...  "
      ]
     },
     "execution_count": 23,
     "metadata": {},
     "output_type": "execute_result"
    }
   ],
   "source": [
    "us_gaming.head()"
   ]
  },
  {
   "cell_type": "code",
   "execution_count": 24,
   "id": "ca87ebf1-00ae-4f38-8897-3ff33d4bd572",
   "metadata": {
    "tags": []
   },
   "outputs": [
    {
     "data": {
      "text/plain": [
       "video_id             0\n",
       "title                0\n",
       "publishedat          0\n",
       "channelid            0\n",
       "channeltitle         0\n",
       "categoryid           0\n",
       "trending             0\n",
       "tags                 0\n",
       "view_count           0\n",
       "likes                0\n",
       "dislikes             0\n",
       "comment_count        0\n",
       "thumbnail_link       0\n",
       "comments_disabled    0\n",
       "ratings_disabled     0\n",
       "description          0\n",
       "dtype: int64"
      ]
     },
     "execution_count": 24,
     "metadata": {},
     "output_type": "execute_result"
    }
   ],
   "source": [
    "us_gaming['description'].fillna(\"not available\", inplace = True)\n",
    "us_gaming.isna().sum()"
   ]
  },
  {
   "cell_type": "code",
   "execution_count": 25,
   "id": "aeeeebc7-5c13-495a-aa95-cdbc4f5bbc80",
   "metadata": {
    "tags": []
   },
   "outputs": [
    {
     "name": "stdout",
     "output_type": "stream",
     "text": [
      "1    6830\n",
      "Name: ratings_disabled, dtype: int64\n",
      "1    6830\n",
      "Name: comments_disabled, dtype: int64\n"
     ]
    }
   ],
   "source": [
    "print(us_gaming['ratings_disabled'].value_counts())\n",
    "print(us_gaming['comments_disabled'].value_counts())"
   ]
  },
  {
   "cell_type": "markdown",
   "id": "5119a252-f525-4db0-9d8e-78a57a2dd092",
   "metadata": {},
   "source": [
    "#### Binning View Count for Categorical Prediction Using NLP"
   ]
  },
  {
   "cell_type": "code",
   "execution_count": 26,
   "id": "1f8466c6-93d9-4968-b34d-4b4034ce39de",
   "metadata": {
    "tags": []
   },
   "outputs": [
    {
     "data": {
      "image/png": "[encoded data removed]",
      "text/plain": [
       "<Figure size 640x480 with 1 Axes>"
      ]
     },
     "metadata": {},
     "output_type": "display_data"
    }
   ],
   "source": [
    "plt.hist(us_gaming['view_count'])\n",
    "plt.title(\"View Count Histogram\")\n",
    "plt.show()"
   ]
  },
  {
   "cell_type": "markdown",
   "id": "0673d0a7-121f-417e-8791-40fd07ed4770",
   "metadata": {},
   "source": [
    "Looking at the counts below, BoostView is very interested in the difference between say an 800,000 view video and an over 1 Million view video. Splitting the data here to create a binary response variable would benefit BoostView's primary goal. Their main purpose is to make their content creators go from 600k - 800k view count to over a million. Binning the response variable view count at 1 million will also allow for confidence probabilities to be created that will hopefully point to how title can be used to predict less than a million or more than a million views for BoostView's creators"
   ]
  },
  {
   "cell_type": "code",
   "execution_count": 27,
   "id": "30c119bb-459f-46f7-9d8c-f66731fe021b",
   "metadata": {
    "tags": []
   },
   "outputs": [
    {
     "name": "stdout",
     "output_type": "stream",
     "text": [
      "Mean View Count:  1835236.3437774524\n",
      "Median View Count:  948467.0\n",
      "Max View Count:  73728043\n",
      "Min View Count 81296\n",
      "Count of videos with less than 1 Million views:  3543\n",
      "Count of videos with more than 1 Million views:  3287\n",
      "Count of videos with less than 100,000 views:  7\n",
      "Count of videos with more than 10 Million views:  139\n"
     ]
    }
   ],
   "source": [
    "print(\"Mean View Count: \", us_gaming['view_count'].mean())\n",
    "print(\"Median View Count: \", us_gaming['view_count'].median())\n",
    "print(\"Max View Count: \", us_gaming['view_count'].max())\n",
    "print(\"Min View Count\", us_gaming['view_count'].min())\n",
    "\n",
    "\n",
    "print(\"Count of videos with less than 1 Million views: \", len(us_gaming[us_gaming['view_count']<1000000]))\n",
    "print(\"Count of videos with more than 1 Million views: \", len(us_gaming[us_gaming['view_count']>=1000000]))\n",
    "\n",
    "print(\"Count of videos with less than 100,000 views: \", len(us_gaming[us_gaming['view_count']<=100000]))\n",
    "print(\"Count of videos with more than 10 Million views: \", len(us_gaming[us_gaming['view_count']>=10000000]))"
   ]
  },
  {
   "cell_type": "code",
   "execution_count": 28,
   "id": "2e50aae6-4925-446d-9920-5af641b74284",
   "metadata": {
    "tags": []
   },
   "outputs": [],
   "source": [
    "us_gaming['cat_view_count'] = pd.cut(us_gaming['view_count'],[0,1000000,100000000], labels = [0,1])"
   ]
  },
  {
   "cell_type": "code",
   "execution_count": 29,
   "id": "88fa2942-182a-410c-9732-23c51856ce7f",
   "metadata": {
    "tags": []
   },
   "outputs": [
    {
     "data": {
      "text/html": [
       "<div>\n",
       "<style scoped>\n",
       "    .dataframe tbody tr th:only-of-type {\n",
       "        vertical-align: middle;\n",
       "    }\n",
       "\n",
       "    .dataframe tbody tr th {\n",
       "        vertical-align: top;\n",
       "    }\n",
       "\n",
       "    .dataframe thead th {\n",
       "        text-align: right;\n",
       "    }\n",
       "</style>\n",
       "<table border=\"1\" class=\"dataframe\">\n",
       "  <thead>\n",
       "    <tr style=\"text-align: right;\">\n",
       "      <th></th>\n",
       "      <th>video_id</th>\n",
       "      <th>title</th>\n",
       "      <th>publishedat</th>\n",
       "      <th>channelid</th>\n",
       "      <th>channeltitle</th>\n",
       "      <th>categoryid</th>\n",
       "      <th>trending</th>\n",
       "      <th>tags</th>\n",
       "      <th>view_count</th>\n",
       "      <th>likes</th>\n",
       "      <th>dislikes</th>\n",
       "      <th>comment_count</th>\n",
       "      <th>thumbnail_link</th>\n",
       "      <th>comments_disabled</th>\n",
       "      <th>ratings_disabled</th>\n",
       "      <th>description</th>\n",
       "      <th>cat_view_count</th>\n",
       "    </tr>\n",
       "  </thead>\n",
       "  <tbody>\n",
       "    <tr>\n",
       "      <th>225</th>\n",
       "      <td>IuzrwoIOTFI</td>\n",
       "      <td>How realistic can you make minecraft in 2022?</td>\n",
       "      <td>2022-02-18 22:00:14</td>\n",
       "      <td>UCfGkyZGTurOs8Xrylyu4G2Q</td>\n",
       "      <td>ItsJim</td>\n",
       "      <td>20</td>\n",
       "      <td>2022-02-24</td>\n",
       "      <td>minecraft|fundy|boffy|itsjim|yeahitsjim|minecr...</td>\n",
       "      <td>425892</td>\n",
       "      <td>22340</td>\n",
       "      <td>0</td>\n",
       "      <td>637</td>\n",
       "      <td>https://i.ytimg.com/vi/IuzrwoIOTFI/default.jpg</td>\n",
       "      <td>1</td>\n",
       "      <td>1</td>\n",
       "      <td>the greatest tradition on youtube. destroying ...</td>\n",
       "      <td>0</td>\n",
       "    </tr>\n",
       "    <tr>\n",
       "      <th>268</th>\n",
       "      <td>bqL6LviPg50</td>\n",
       "      <td>NEW Fortnite Octopus Boss Update</td>\n",
       "      <td>2022-02-19 14:56:35</td>\n",
       "      <td>UCPIzPN_V3Wk2KN5wIK3Kwsg</td>\n",
       "      <td>gattu</td>\n",
       "      <td>20</td>\n",
       "      <td>2022-02-25</td>\n",
       "      <td>Fortnite|Fortnite Chapter 3 Season 1|All Bosse...</td>\n",
       "      <td>557286</td>\n",
       "      <td>12519</td>\n",
       "      <td>0</td>\n",
       "      <td>1618</td>\n",
       "      <td>https://i.ytimg.com/vi/bqL6LviPg50/default.jpg</td>\n",
       "      <td>1</td>\n",
       "      <td>1</td>\n",
       "      <td>NEW Fortnite Octopus Boss UpdateUse code gattu...</td>\n",
       "      <td>0</td>\n",
       "    </tr>\n",
       "    <tr>\n",
       "      <th>301</th>\n",
       "      <td>TvuWn6KsGik</td>\n",
       "      <td>Watch This Before you Play Elden Ring!</td>\n",
       "      <td>2022-02-19 19:04:46</td>\n",
       "      <td>UCe0DNp0mKMqrYVaTundyr9w</td>\n",
       "      <td>VaatiVidya</td>\n",
       "      <td>20</td>\n",
       "      <td>2022-02-26</td>\n",
       "      <td>guide|walkthrough|lore|dark|souls|remastered|d...</td>\n",
       "      <td>1581880</td>\n",
       "      <td>67100</td>\n",
       "      <td>0</td>\n",
       "      <td>3701</td>\n",
       "      <td>https://i.ytimg.com/vi/TvuWn6KsGik/default.jpg</td>\n",
       "      <td>1</td>\n",
       "      <td>1</td>\n",
       "      <td>This video was originally supposed to be two v...</td>\n",
       "      <td>1</td>\n",
       "    </tr>\n",
       "    <tr>\n",
       "      <th>302</th>\n",
       "      <td>T1unuIrlsGI</td>\n",
       "      <td>Minecraft, But My Friends Are Dirt Blocks...</td>\n",
       "      <td>2022-02-19 23:19:40</td>\n",
       "      <td>UCqynl7rdtktKMQESdSBmE-g</td>\n",
       "      <td>Sapnap</td>\n",
       "      <td>20</td>\n",
       "      <td>2022-02-26</td>\n",
       "      <td>minecraft|challenge|Minecraft but|Minecraft Bu...</td>\n",
       "      <td>1790854</td>\n",
       "      <td>178824</td>\n",
       "      <td>0</td>\n",
       "      <td>5373</td>\n",
       "      <td>https://i.ytimg.com/vi/T1unuIrlsGI/default.jpg</td>\n",
       "      <td>1</td>\n",
       "      <td>1</td>\n",
       "      <td>Minecraft, But My Friends Are Dirt Blocks... I...</td>\n",
       "      <td>1</td>\n",
       "    </tr>\n",
       "    <tr>\n",
       "      <th>303</th>\n",
       "      <td>uDQ8A3XWYiA</td>\n",
       "      <td>Cyberpunk 2077 Next-Gen Patch: The Digital Fou...</td>\n",
       "      <td>2022-02-20 16:29:46</td>\n",
       "      <td>UC9PBzalIcEQCsiIkq36PyUA</td>\n",
       "      <td>Digital Foundry</td>\n",
       "      <td>20</td>\n",
       "      <td>2022-02-26</td>\n",
       "      <td>[None]</td>\n",
       "      <td>657836</td>\n",
       "      <td>22198</td>\n",
       "      <td>0</td>\n",
       "      <td>4461</td>\n",
       "      <td>https://i.ytimg.com/vi/uDQ8A3XWYiA/default.jpg</td>\n",
       "      <td>1</td>\n",
       "      <td>1</td>\n",
       "      <td>A big next-gen update has arrived in the form ...</td>\n",
       "      <td>0</td>\n",
       "    </tr>\n",
       "  </tbody>\n",
       "</table>\n",
       "</div>"
      ],
      "text/plain": [
       "        video_id                                              title  \\\n",
       "225  IuzrwoIOTFI      How realistic can you make minecraft in 2022?   \n",
       "268  bqL6LviPg50                   NEW Fortnite Octopus Boss Update   \n",
       "301  TvuWn6KsGik             Watch This Before you Play Elden Ring!   \n",
       "302  T1unuIrlsGI       Minecraft, But My Friends Are Dirt Blocks...   \n",
       "303  uDQ8A3XWYiA  Cyberpunk 2077 Next-Gen Patch: The Digital Fou...   \n",
       "\n",
       "            publishedat                 channelid     channeltitle  \\\n",
       "225 2022-02-18 22:00:14  UCfGkyZGTurOs8Xrylyu4G2Q           ItsJim   \n",
       "268 2022-02-19 14:56:35  UCPIzPN_V3Wk2KN5wIK3Kwsg            gattu   \n",
       "301 2022-02-19 19:04:46  UCe0DNp0mKMqrYVaTundyr9w       VaatiVidya   \n",
       "302 2022-02-19 23:19:40  UCqynl7rdtktKMQESdSBmE-g           Sapnap   \n",
       "303 2022-02-20 16:29:46  UC9PBzalIcEQCsiIkq36PyUA  Digital Foundry   \n",
       "\n",
       "     categoryid   trending                                               tags  \\\n",
       "225          20 2022-02-24  minecraft|fundy|boffy|itsjim|yeahitsjim|minecr...   \n",
       "268          20 2022-02-25  Fortnite|Fortnite Chapter 3 Season 1|All Bosse...   \n",
       "301          20 2022-02-26  guide|walkthrough|lore|dark|souls|remastered|d...   \n",
       "302          20 2022-02-26  minecraft|challenge|Minecraft but|Minecraft Bu...   \n",
       "303          20 2022-02-26                                             [None]   \n",
       "\n",
       "     view_count   likes  dislikes  comment_count  \\\n",
       "225      425892   22340         0            637   \n",
       "268      557286   12519         0           1618   \n",
       "301     1581880   67100         0           3701   \n",
       "302     1790854  178824         0           5373   \n",
       "303      657836   22198         0           4461   \n",
       "\n",
       "                                     thumbnail_link  comments_disabled  \\\n",
       "225  https://i.ytimg.com/vi/IuzrwoIOTFI/default.jpg                  1   \n",
       "268  https://i.ytimg.com/vi/bqL6LviPg50/default.jpg                  1   \n",
       "301  https://i.ytimg.com/vi/TvuWn6KsGik/default.jpg                  1   \n",
       "302  https://i.ytimg.com/vi/T1unuIrlsGI/default.jpg                  1   \n",
       "303  https://i.ytimg.com/vi/uDQ8A3XWYiA/default.jpg                  1   \n",
       "\n",
       "     ratings_disabled                                        description  \\\n",
       "225                 1  the greatest tradition on youtube. destroying ...   \n",
       "268                 1  NEW Fortnite Octopus Boss UpdateUse code gattu...   \n",
       "301                 1  This video was originally supposed to be two v...   \n",
       "302                 1  Minecraft, But My Friends Are Dirt Blocks... I...   \n",
       "303                 1  A big next-gen update has arrived in the form ...   \n",
       "\n",
       "    cat_view_count  \n",
       "225              0  \n",
       "268              0  \n",
       "301              1  \n",
       "302              1  \n",
       "303              0  "
      ]
     },
     "execution_count": 29,
     "metadata": {},
     "output_type": "execute_result"
    }
   ],
   "source": [
    "us_gaming.head()"
   ]
  },
  {
   "cell_type": "code",
   "execution_count": 30,
   "id": "cfeac98b-2fc8-43f3-88f0-986cb7c9ff17",
   "metadata": {
    "tags": []
   },
   "outputs": [
    {
     "data": {
      "text/plain": [
       "(6830, 6)"
      ]
     },
     "execution_count": 30,
     "metadata": {},
     "output_type": "execute_result"
    }
   ],
   "source": [
    "gaming = us_gaming.drop(columns = ['ratings_disabled', 'comments_disabled', 'thumbnail_link','publishedat','channelid',\n",
    "                                   'channeltitle','categoryid','trending','likes','dislikes','comment_count'])\n",
    "\n",
    "gaming.shape"
   ]
  },
  {
   "cell_type": "code",
   "execution_count": 31,
   "id": "4bea4828-25e4-46f1-981e-776c33979f7b",
   "metadata": {
    "tags": []
   },
   "outputs": [
    {
     "data": {
      "text/html": [
       "<div>\n",
       "<style scoped>\n",
       "    .dataframe tbody tr th:only-of-type {\n",
       "        vertical-align: middle;\n",
       "    }\n",
       "\n",
       "    .dataframe tbody tr th {\n",
       "        vertical-align: top;\n",
       "    }\n",
       "\n",
       "    .dataframe thead th {\n",
       "        text-align: right;\n",
       "    }\n",
       "</style>\n",
       "<table border=\"1\" class=\"dataframe\">\n",
       "  <thead>\n",
       "    <tr style=\"text-align: right;\">\n",
       "      <th></th>\n",
       "      <th>video_id</th>\n",
       "      <th>title</th>\n",
       "      <th>tags</th>\n",
       "      <th>view_count</th>\n",
       "      <th>description</th>\n",
       "      <th>cat_view_count</th>\n",
       "    </tr>\n",
       "  </thead>\n",
       "  <tbody>\n",
       "    <tr>\n",
       "      <th>225</th>\n",
       "      <td>IuzrwoIOTFI</td>\n",
       "      <td>How realistic can you make minecraft in 2022?</td>\n",
       "      <td>minecraft|fundy|boffy|itsjim|yeahitsjim|minecr...</td>\n",
       "      <td>425892</td>\n",
       "      <td>the greatest tradition on youtube. destroying ...</td>\n",
       "      <td>0</td>\n",
       "    </tr>\n",
       "  </tbody>\n",
       "</table>\n",
       "</div>"
      ],
      "text/plain": [
       "        video_id                                          title  \\\n",
       "225  IuzrwoIOTFI  How realistic can you make minecraft in 2022?   \n",
       "\n",
       "                                                  tags  view_count  \\\n",
       "225  minecraft|fundy|boffy|itsjim|yeahitsjim|minecr...      425892   \n",
       "\n",
       "                                           description cat_view_count  \n",
       "225  the greatest tradition on youtube. destroying ...              0  "
      ]
     },
     "execution_count": 31,
     "metadata": {},
     "output_type": "execute_result"
    }
   ],
   "source": [
    "gaming.head(1)"
   ]
  },
  {
   "cell_type": "markdown",
   "id": "3d347dbc-cf12-4a03-9094-fd3d4a72ef2b",
   "metadata": {},
   "source": [
    "### Storing for transformation later"
   ]
  },
  {
   "cell_type": "code",
   "execution_count": 32,
   "id": "c30e4c1b-7584-4e94-8a09-2af73a74c1c3",
   "metadata": {
    "tags": []
   },
   "outputs": [],
   "source": [
    "s3_client = boto3.client(\"s3\")\n",
    "KEY='youtubeStatistics/cat_dfs/gaming.csv'\n",
    "BUCKET= session.default_bucket()\n",
    "\n",
    "with io.StringIO() as csv_buffer:\n",
    "    gaming.to_csv(csv_buffer, index=False, header=True)\n",
    "\n",
    "    response = s3_client.put_object(\n",
    "        Bucket=BUCKET, Key=KEY, Body=csv_buffer.getvalue()\n",
    "    )"
   ]
  },
  {
   "cell_type": "code",
   "execution_count": 33,
   "id": "b31b5f14-ce07-4946-a9c9-08e867f9c71a",
   "metadata": {
    "tags": []
   },
   "outputs": [],
   "source": [
    "stopwords = nltk.corpus.stopwords.words(['english'])\n",
    "ps = nltk.PorterStemmer()\n",
    "extra_stops = ['00','000','007','01','02','03','04','06','07','09sharkboy','10','100','1000','10000','100000','1000000',\n",
    "               '000001','001','002','004','008','011','013','031','036','037','05','050','062','08','09','094',\n",
    "               '1001','1006','101','102','103','1050','10m','10t','10th','10x','11','119','12','120','12240','13','132',\n",
    "               '133','13th','14','1400','140ms','15','150','150k','15th','16','1600','17', '175','18','1800','183','184',\n",
    "               '188','189','18c','19','19500','20','200','21','2100','2163','21w05a','21w05b','21w06a','21w07a','21w07b',\n",
    "               '21w08a','21w08b','21w09a','21w13a','21w13b','21w14a','21w14b','22','22w11a','22w13oneblockatatime','22w42a',\n",
    "               '22w42b','23','23w04a','23w04b','24','25','25000','2500hp','25th','26','27','28','29','2900','296','2b','2b2t',\n",
    "               '2bt2','2e','31','3100','31415','32','3200','33','34','35','35th','36','360','3600','365','37','3700','39','3900',\n",
    "               '30th','40','400','4000','40000','4200','43','44','4400','46','4900','4logj','4logshell','4th','4x21','4x28','50',\n",
    "               '500','5000','50000','505','510mph','52nd','5300','55','56','59','5e','5g','5n','5th','5up','60','600','30','300',\n",
    "               '3000','303','63','6323','64','64dd','68','69','6a6y','6acc','6locc','6lue','70','700','7000','343i','34547','73',\n",
    "               '7348951','74','77','781','7900','7th','80','8000','80s','82','84','85','87','876','876tv','898','8bitryan','900',\n",
    "               '90s','93','94','96','97','99','999','9th','a380','a6d','a750','abc','adc','2006','2007','2007scape','2008','201',\n",
    "               '2010','2011','2012','2013','2014','2015','2016','2017','2018','2019','202','2020','2021','2022','2023','2030','2042',\n",
    "               '2045','2050','2077','20th','107','109','1236','1250','128','147','14th','152','157','163','167','179','18th','1909',\n",
    "               '19931','19th','1ft','1k','1st','1½','2000','2032','217','219','21st','221129','221130','23rd','240','248','250','25688',\n",
    "               '25k','26th','27th','41','42','425','438','45','4500hp','47','474','48','489','49','136','143','16th','2nd','2wei','3070',\n",
    "               '3080','3090','30k','348','3500','355','38','4070','4080','4090','40k','4e','51','52','53','54','542','560','562','567',\n",
    "               '568','570','571','572','575','576','577','58','585','594','6000','61','623','65','66','673','694','6th','40th','7096',\n",
    "               '71','72','746','75','750','76m','79','7m','800','800x600','817','851','8th','90','91','925','951','97m','996','aang','aau',\n",
    "               'acnient','anymore','almost','bel','티원롤','파피플레이타임','펌킨','프나펌','프레디','프레디의','피규어','피자가게','허기워기',\n",
    "               '오징어','제이홉','채색','커스텀','케플러','키즈','탱크맨','티빙에서스트리밍','티원','프라이데이']\n",
    "\n",
    "for i in extra_stops:\n",
    "    stopwords.append(i)\n",
    "\n",
    "vectag = CountVectorizer(stop_words = stopwords)\n",
    "vecti = CountVectorizer(stop_words = stopwords)\n",
    "vecdes = CountVectorizer(stop_words = stopwords)"
   ]
  },
  {
   "cell_type": "code",
   "execution_count": 34,
   "id": "97284ae8-6889-4b63-8162-b1a19253ab5e",
   "metadata": {
    "tags": []
   },
   "outputs": [
    {
     "name": "stdout",
     "output_type": "stream",
     "text": [
      "(6830, 11495)\n",
      "(6830, 6044)\n"
     ]
    }
   ],
   "source": [
    "tag = us_gaming['tags']\n",
    "title = us_gaming['title']\n",
    "description = us_gaming['description']\n",
    "\n",
    "tags = vectag.fit_transform(tag)\n",
    "titles = vecti.fit_transform(title)\n",
    "\n",
    "# printing shape of the vectors\n",
    "print(tags.shape)\n",
    "print(titles.shape)\n",
    "\n",
    "# creating df from new extracted string values\n",
    "tag_df = pd.DataFrame(tags.todense(), columns = vectag.get_feature_names())\n",
    "title_df = pd.DataFrame(titles.todense(), columns = vecti.get_feature_names())"
   ]
  },
  {
   "cell_type": "code",
   "execution_count": 35,
   "id": "7bc96992-f3cd-4a15-b6af-0e31a35de52a",
   "metadata": {
    "tags": []
   },
   "outputs": [
    {
     "data": {
      "image/png": "[encoded data removed]",
      "text/plain": [
       "<Figure size 640x480 with 1 Axes>"
      ]
     },
     "metadata": {},
     "output_type": "display_data"
    }
   ],
   "source": [
    "fig, ax = plt.subplots()\n",
    "\n",
    "sns.scatterplot(data = us_gaming, x = \"likes\", y = \"view_count\", ax = ax)\n",
    "plt.title(\"View Count vs. Likes\")\n",
    "ax.set_xlim(0, 8000000)\n",
    "ax.set_xticks([0, 2000000, 4000000, 6000000, 8000000])\n",
    "plt.show()"
   ]
  },
  {
   "cell_type": "code",
   "execution_count": 36,
   "id": "5a09ad7c-ce0c-4a24-90c6-a7b62983ac32",
   "metadata": {
    "tags": []
   },
   "outputs": [
    {
     "data": {
      "image/png": "[encoded data removed]",
      "text/plain": [
       "<Figure size 640x480 with 1 Axes>"
      ]
     },
     "metadata": {},
     "output_type": "display_data"
    }
   ],
   "source": [
    "fig, ax = plt.subplots()\n",
    "\n",
    "sns.distplot(us_gaming.likes, ax = ax)\n",
    "plt.title(\"Likes Density Plot\")\n",
    "ax.set_xlim(0, 8000000)\n",
    "ax.set_xticks([0, 2000000, 4000000, 6000000, 8000000])\n",
    "plt.show()"
   ]
  },
  {
   "cell_type": "code",
   "execution_count": 37,
   "id": "87f52fcc-516e-4184-9206-7b9e9b01b5de",
   "metadata": {
    "tags": []
   },
   "outputs": [
    {
     "data": {
      "image/png": "[encoded data removed]",
      "text/plain": [
       "<Figure size 640x480 with 1 Axes>"
      ]
     },
     "metadata": {},
     "output_type": "display_data"
    }
   ],
   "source": [
    "sns.distplot(us_gaming.dislikes)\n",
    "plt.title(\"Dislikes Density Plot\")\n",
    "plt.show()"
   ]
  },
  {
   "cell_type": "code",
   "execution_count": 38,
   "id": "1275706c-c640-4e4e-87d0-662d54fc9113",
   "metadata": {
    "tags": []
   },
   "outputs": [
    {
     "data": {
      "image/png": "[encoded data removed]",
      "text/plain": [
       "<Figure size 640x480 with 1 Axes>"
      ]
     },
     "metadata": {},
     "output_type": "display_data"
    }
   ],
   "source": [
    "sns.lineplot(x = us_gaming[\"trending\"], y = tag_df[\"faze\"])\n",
    "plt.xticks(rotation = 15)\n",
    "plt.title(\"Faze Tags by Video Trending Date\")\n",
    "plt.show()"
   ]
  },
  {
   "cell_type": "code",
   "execution_count": 39,
   "id": "8eacb18e-fff8-4573-b984-8b94ad25dfd0",
   "metadata": {
    "tags": []
   },
   "outputs": [
    {
     "data": {
      "image/png": "[encoded data removed]",
      "text/plain": [
       "<Figure size 640x480 with 1 Axes>"
      ]
     },
     "metadata": {},
     "output_type": "display_data"
    }
   ],
   "source": [
    "sns.lineplot(x = us_gaming['trending'], y = tag_df['optic'])\n",
    "plt.xticks(rotation = 15)\n",
    "plt.title(\"OpTic Tags by Video Trending Date\")\n",
    "plt.show()"
   ]
  },
  {
   "cell_type": "markdown",
   "id": "49f4ff9a-06ff-48a4-8e5f-5bc3f1d7ca1a",
   "metadata": {},
   "source": [
    "Below the recently developed game Valorant is compared to Mario, one of the most popular games in existence. Mario games are more likely to trend on any given day as the time series is much more dense, but the peaks of Valorant are slightly higher. Both of these games could viably be a valuable addition to a creator's video title."
   ]
  },
  {
   "cell_type": "code",
   "execution_count": 40,
   "id": "ce1093b5-78f0-4751-a55f-a7eb3eb56f5a",
   "metadata": {
    "tags": []
   },
   "outputs": [
    {
     "data": {
      "image/png": "[encoded data removed]",
      "text/plain": [
       "<Figure size 640x480 with 1 Axes>"
      ]
     },
     "metadata": {},
     "output_type": "display_data"
    }
   ],
   "source": [
    "sns.lineplot(x = us_gaming['trending'], y = title_df['valorant'])\n",
    "plt.xticks(rotation = 15)\n",
    "plt.title(\"Valorant in Titles by Video Trending Date\")\n",
    "plt.show()"
   ]
  },
  {
   "cell_type": "code",
   "execution_count": 41,
   "id": "82236c15-7117-4f01-90bd-9ab5297fac41",
   "metadata": {
    "tags": []
   },
   "outputs": [
    {
     "data": {
      "image/png": "[encoded data removed]",
      "text/plain": [
       "<Figure size 640x480 with 1 Axes>"
      ]
     },
     "metadata": {},
     "output_type": "display_data"
    }
   ],
   "source": [
    "sns.lineplot(x = us_gaming['trending'], y = title_df['mario'])\n",
    "plt.xticks(rotation = 15)\n",
    "plt.title(\"Mario in Titles by Video Trending Date\")\n",
    "plt.show()"
   ]
  },
  {
   "cell_type": "markdown",
   "id": "d78ff88a-b195-4a50-bd37-6b2c8743bb31",
   "metadata": {},
   "source": [
    "### Feature Selection Final Decisions\n",
    "\n",
    "Ultimately, as the goal of the project is to predict views, dislikes, likes, comment count, posting date, trending date, channelid, channel title, and thumbnail link cannot be used as predictors because we hope to predict the view count of the video before the video is posted. Perhaps in future projects an image recognition model can be used to predict views based upon thumbnail photos, but this project will be limited to text. Going forward, NLP techinques will be used to create a deep learning regression model from any combination of title, tags, and description in order to predict view count on videos as view count leads to greater growth for the creators. Particularly because, as the first scatterplot reveals above, high view count often lead to high likes which in turn leads to being boosted on the trending algorithm. The more eyes on the video, the more likely to trend."
   ]
  },
  {
   "cell_type": "markdown",
   "id": "462c144f-c18a-4f1c-8fab-ff9e5c1a2299",
   "metadata": {
    "tags": []
   },
   "source": [
    "## Tokenization Transformations to Implement Deep Learning Modeling\n",
    "Below is a multi-step SKlearn processing container that will do the following:\n",
    "\n",
    "1. Grab the gaming.csv from the s3 bucket where it was stored above.\n",
    "\n",
    "2. split the data using train/test/validation with 85/10/5 split\n",
    "\n",
    "3. Commit the data to pre-processing transformations with distilBert and tensorflow. The data will be tokenized to extract ids and masks for title, tags, and description using distilbert. Then these ids and masks will be converted to tensorflow features and dataset in addition to view_count and video_id. This has been tracked using timestamps in the data column as well.\n",
    "\n",
    "4. The newly transformed data is then stored in the output folder the output s3 bucket that is listed below."
   ]
  },
  {
   "cell_type": "code",
   "execution_count": 43,
   "id": "c6448750-fc08-4562-9b6e-9fe4d893b271",
   "metadata": {
    "tags": []
   },
   "outputs": [
    {
     "name": "stdout",
     "output_type": "stream",
     "text": [
      "Experiment name: YouTube-View-Prediction-BERT-1680723593\n"
     ]
    }
   ],
   "source": [
    "# Timestamp the names of the different segments for tracking purposes over time.\n",
    "timestamp = int(time.time())\n",
    "\n",
    "# Creating the experiment for Youtube view count\n",
    "experiment = Experiment.create(\n",
    "    experiment_name=\"YouTube-View-Prediction-BERT-{}\".format(timestamp),\n",
    "    description=\"YouTube View Prediction with BERT\",\n",
    "    sagemaker_boto_client=sm,\n",
    ")\n",
    "\n",
    "# printing the experiment name\n",
    "experiment_name = experiment.experiment_name\n",
    "print(\"Experiment name: {}\".format(experiment_name))"
   ]
  },
  {
   "cell_type": "code",
   "execution_count": 44,
   "id": "60127af6-c85b-4c3b-98b3-7ce8bab57982",
   "metadata": {
    "tags": []
   },
   "outputs": [
    {
     "name": "stdout",
     "output_type": "stream",
     "text": [
      "Trial name: trial-1680723610\n"
     ]
    }
   ],
   "source": [
    "# timestamp trial\n",
    "timestamp = int(time.time())\n",
    "\n",
    "# Creating trial using the experiment name and sagemaker\n",
    "trial = Trial.create(\n",
    "    trial_name=\"trial-{}\".format(timestamp), experiment_name=experiment_name, sagemaker_boto_client=sm\n",
    ")\n",
    "\n",
    "# printing trial name\n",
    "trial_name = trial.trial_name\n",
    "print(\"Trial name: {}\".format(trial_name))"
   ]
  },
  {
   "cell_type": "code",
   "execution_count": 45,
   "id": "2ecb3999-a889-4950-bbaf-aacc78bf023b",
   "metadata": {
    "tags": []
   },
   "outputs": [
    {
     "name": "stdout",
     "output_type": "stream",
     "text": [
      "Stored 'trial_name' (str)\n"
     ]
    }
   ],
   "source": [
    "# store the trial name for later\n",
    "%store trial_name"
   ]
  },
  {
   "cell_type": "code",
   "execution_count": 46,
   "id": "e1ca510f-ab44-4fc1-baaa-012d79c53f08",
   "metadata": {
    "tags": []
   },
   "outputs": [],
   "source": [
    "# setting the experiment configuration\n",
    "experiment_config = {\n",
    "    \"ExperimentName\": experiment_name,\n",
    "    \"TrialName\": trial_name,\n",
    "    \"TrialComponentDisplayName\": \"prepare\",\n",
    "}"
   ]
  },
  {
   "cell_type": "code",
   "execution_count": 47,
   "id": "5dc301d1-e377-4997-a6ce-dbbfff1c3cd9",
   "metadata": {
    "tags": []
   },
   "outputs": [],
   "source": [
    "# starting the feature store runtime within sagemaker\n",
    "featurestore_runtime = boto3.Session().client(service_name=\"sagemaker-featurestore-runtime\", region_name=region)"
   ]
  },
  {
   "cell_type": "code",
   "execution_count": 48,
   "id": "95cdb31f-c4cf-4abd-bbc7-6b8c074c721e",
   "metadata": {
    "tags": []
   },
   "outputs": [
    {
     "name": "stdout",
     "output_type": "stream",
     "text": [
      "videos-feature-store-1680728009\n"
     ]
    }
   ],
   "source": [
    "# timestamp prefix \n",
    "timestamp = int(time.time())\n",
    "\n",
    "# setting the future store prefix for use in df-to-tokens-to-tensors.py file\n",
    "feature_store_offline_prefix = \"videos-feature-store-\" + str(timestamp)\n",
    "\n",
    "# print the full name of prefix\n",
    "print(feature_store_offline_prefix)"
   ]
  },
  {
   "cell_type": "code",
   "execution_count": 49,
   "id": "705f5c80-f84e-47dc-9a4a-2d5a8e1e309b",
   "metadata": {
    "tags": []
   },
   "outputs": [
    {
     "name": "stdout",
     "output_type": "stream",
     "text": [
      "videos-feature-group-1680728009\n"
     ]
    }
   ],
   "source": [
    "# create feature group name \n",
    "feature_group_name = \"videos-feature-group-\" + str(timestamp)\n",
    "\n",
    "print(feature_group_name)"
   ]
  },
  {
   "cell_type": "code",
   "execution_count": 50,
   "id": "f69e0f51-561a-4920-99ae-ec29dc1601c6",
   "metadata": {
    "tags": []
   },
   "outputs": [],
   "source": [
    "# writing out our feature definitions to assign them to feature stores\n",
    "# these definitions are for after the features have been transformed and prepped in addition to `date` that acts as the timestamp for the feature store\n",
    "feature_definitions = [\n",
    "    FeatureDefinition(feature_name=\"title_input_ids\", feature_type=FeatureTypeEnum.STRING),\n",
    "    FeatureDefinition(feature_name=\"title_input_mask\", feature_type=FeatureTypeEnum.STRING),\n",
    "    FeatureDefinition(feature_name=\"tags_input_ids\", feature_type=FeatureTypeEnum.STRING),\n",
    "    FeatureDefinition(feature_name=\"tags_input_mask\", feature_type=FeatureTypeEnum.STRING),\n",
    "    FeatureDefinition(feature_name=\"desc_input_ids\", feature_type=FeatureTypeEnum.STRING),\n",
    "    FeatureDefinition(feature_name=\"desc_input_mask\", feature_type=FeatureTypeEnum.STRING),\n",
    "    FeatureDefinition(feature_name=\"segment_ids\", feature_type=FeatureTypeEnum.STRING),\n",
    "    FeatureDefinition(feature_name=\"video_id\", feature_type=FeatureTypeEnum.STRING),\n",
    "    FeatureDefinition(feature_name=\"date\", feature_type=FeatureTypeEnum.STRING),\n",
    "    FeatureDefinition(feature_name=\"split_type\", feature_type=FeatureTypeEnum.STRING),\n",
    "    FeatureDefinition(feature_name=\"view_count\", feature_type=FeatureTypeEnum.INTEGRAL),\n",
    "]"
   ]
  },
  {
   "cell_type": "code",
   "execution_count": 51,
   "id": "1fe4864b-17b3-4fe7-920f-beba350eb9f7",
   "metadata": {
    "tags": []
   },
   "outputs": [
    {
     "name": "stdout",
     "output_type": "stream",
     "text": [
      "FeatureGroup(name='videos-feature-group-1680728009', sagemaker_session=<sagemaker.session.Session object at 0x7f34cf436e10>, feature_definitions=[FeatureDefinition(feature_name='title_input_ids', feature_type=<FeatureTypeEnum.STRING: 'String'>), FeatureDefinition(feature_name='title_input_mask', feature_type=<FeatureTypeEnum.STRING: 'String'>), FeatureDefinition(feature_name='tags_input_ids', feature_type=<FeatureTypeEnum.STRING: 'String'>), FeatureDefinition(feature_name='tags_input_mask', feature_type=<FeatureTypeEnum.STRING: 'String'>), FeatureDefinition(feature_name='desc_input_ids', feature_type=<FeatureTypeEnum.STRING: 'String'>), FeatureDefinition(feature_name='desc_input_mask', feature_type=<FeatureTypeEnum.STRING: 'String'>), FeatureDefinition(feature_name='segment_ids', feature_type=<FeatureTypeEnum.STRING: 'String'>), FeatureDefinition(feature_name='video_id', feature_type=<FeatureTypeEnum.STRING: 'String'>), FeatureDefinition(feature_name='date', feature_type=<FeatureTypeEnum.STRING: 'String'>), FeatureDefinition(feature_name='split_type', feature_type=<FeatureTypeEnum.STRING: 'String'>), FeatureDefinition(feature_name='view_count', feature_type=<FeatureTypeEnum.INTEGRAL: 'Integral'>)])\n"
     ]
    }
   ],
   "source": [
    "# creating the feature group using the name and definition assigned above\n",
    "feature_group = FeatureGroup(name=feature_group_name, feature_definitions=feature_definitions, sagemaker_session=session)\n",
    "\n",
    "print(feature_group)"
   ]
  },
  {
   "cell_type": "code",
   "execution_count": 52,
   "id": "0d80f545-82e3-41b1-beaa-fd97578c594e",
   "metadata": {
    "tags": []
   },
   "outputs": [],
   "source": [
    "# setting the instance type and established our train/test/validation splits\n",
    "# max_seq_length may need to be adjusted\n",
    "processing_instance_type = \"ml.c5.xlarge\"\n",
    "processing_instance_count = 2\n",
    "train_split_percentage = 0.85\n",
    "validation_split_percentage = 0.05\n",
    "test_split_percentage = 0.1\n",
    "max_seq_length = 300\n",
    "balance_dataset = True"
   ]
  },
  {
   "cell_type": "code",
   "execution_count": 53,
   "id": "b74447f9-8714-4e5f-9af3-4bb82dc923cf",
   "metadata": {
    "tags": []
   },
   "outputs": [
    {
     "name": "stderr",
     "output_type": "stream",
     "text": [
      "INFO:sagemaker.image_uris:Defaulting to only available Python version: py3\n"
     ]
    }
   ],
   "source": [
    "# creating the Sklearn processor to run the df-to-tokens-to-tensors.py file\n",
    "\n",
    "processor = SKLearnProcessor(\n",
    "    framework_version=\"0.23-1\",\n",
    "    role=role,\n",
    "    instance_type=processing_instance_type,\n",
    "    instance_count=processing_instance_count,\n",
    "    env={\"AWS_DEFAULT_REGION\": region},\n",
    "    max_runtime_in_seconds=7200,\n",
    ")"
   ]
  },
  {
   "cell_type": "code",
   "execution_count": null,
   "id": "58c303db-fd60-4274-8e62-48d88be96e39",
   "metadata": {
    "tags": []
   },
   "outputs": [],
   "source": [
    "# setting the processors inputs and outputs\n",
    "processor.run(\n",
    "    code=\"text-to-TensorFlow.py\",\n",
    "    inputs=[\n",
    "        ProcessingInput(\n",
    "            input_name=\"gaming\",\n",
    "            source=\"s3://{}/youtubeStatistics/dfs/\".format(bucket),\n",
    "            destination=\"/opt/ml/processing/input/data/\",\n",
    "            s3_data_distribution_type=\"ShardedByS3Key\",\n",
    "        )\n",
    "    ],\n",
    "    outputs=[\n",
    "        ProcessingOutput(\n",
    "            output_name=\"bert-train\", \n",
    "            s3_upload_mode=\"EndOfJob\",\n",
    "            source=\"/opt/ml/processing/output/bert/train\"\n",
    "        ),\n",
    "        ProcessingOutput(\n",
    "            output_name=\"bert-validation\",\n",
    "            s3_upload_mode=\"EndOfJob\",\n",
    "            source=\"/opt/ml/processing/output/bert/validation\"\n",
    "        ),\n",
    "        ProcessingOutput(\n",
    "            output_name=\"bert-test\", \n",
    "            s3_upload_mode=\"EndOfJob\", \n",
    "            source=\"/opt/ml/processing/output/bert/test\"\n",
    "        ),\n",
    "    ],\n",
    "    arguments=[\n",
    "        \"--train-split-percentage\",\n",
    "        str(train_split_percentage),\n",
    "        \"--validation-split-percentage\",\n",
    "        str(validation_split_percentage),\n",
    "        \"--test-split-percentage\",\n",
    "        str(test_split_percentage),\n",
    "        \"--max-seq-length\",\n",
    "        str(max_seq_length),\n",
    "        \"--feature-store-offline-prefix\",\n",
    "        str(feature_store_offline_prefix),\n",
    "        \"--balance-dataset\",\n",
    "        str(balance_dataset),\n",
    "        \"--feature-group-name\",\n",
    "        str(feature_group_name),\n",
    "    ],\n",
    "    experiment_config=experiment_config,\n",
    "    logs=True,\n",
    "    wait=False,\n",
    ")"
   ]
  },
  {
   "cell_type": "code",
   "execution_count": null,
   "id": "3a505c1a-13b6-4f3a-a99a-0fe507020108",
   "metadata": {},
   "outputs": [],
   "source": [
    "scikit_processing_job_name = processor.jobs[-1].describe()[\"ProcessingJobName\"]\n",
    "print(scikit_processing_job_name)"
   ]
  },
  {
   "cell_type": "code",
   "execution_count": null,
   "id": "794ea709-0aed-476e-8384-583ec4990da6",
   "metadata": {},
   "outputs": [],
   "source": [
    "running_processor = sagemaker.processing.ProcessingJob.from_processing_name(\n",
    "    processing_job_name=scikit_processing_job_name, sagemaker_session=session\n",
    ")\n",
    "\n",
    "processing_job_description = running_processor.describe()\n",
    "\n",
    "print(processing_job_description)"
   ]
  },
  {
   "cell_type": "code",
   "execution_count": null,
   "id": "d0280706-fe75-4281-9f88-7b9420648039",
   "metadata": {},
   "outputs": [],
   "source": [
    "# logs can be set to true to find errors when trouble shooting\n",
    "running_processor.wait(logs=False)"
   ]
  },
  {
   "cell_type": "code",
   "execution_count": null,
   "id": "7fa79f13-58f4-46a3-8214-e522dfec9200",
   "metadata": {},
   "outputs": [],
   "source": [
    "# obtain the location of the new s3 folders for the training/testing/validation data in order to implement modeling\n",
    "processing_job_description = running_processor.describe()\n",
    "\n",
    "output_config = processing_job_description[\"ProcessingOutputConfig\"]\n",
    "for output in output_config[\"Outputs\"]:\n",
    "    if output[\"OutputName\"] == \"bert-train\":\n",
    "        processed_train_uri = output[\"S3Output\"][\"S3Uri\"]\n",
    "    if output[\"OutputName\"] == \"bert-validation\":\n",
    "        processed_validation_uri = output[\"S3Output\"][\"S3Uri\"]\n",
    "    if output[\"OutputName\"] == \"bert-test\":\n",
    "        processed_test_uri = output[\"S3Output\"][\"S3Uri\"]\n",
    "\n",
    "print(processed_train_uri)\n",
    "print(processed_validation_uri)\n",
    "print(processed_test_uri)"
   ]
  }
 ],
 "metadata": {
  "availableInstances": [
   {
    "_defaultOrder": 0,
    "_isFastLaunch": true,
    "category": "General purpose",
    "gpuNum": 0,
    "hideHardwareSpecs": false,
    "memoryGiB": 4,
    "name": "ml.t3.medium",
    "vcpuNum": 2
   },
   {
    "_defaultOrder": 1,
    "_isFastLaunch": false,
    "category": "General purpose",
    "gpuNum": 0,
    "hideHardwareSpecs": false,
    "memoryGiB": 8,
    "name": "ml.t3.large",
    "vcpuNum": 2
   },
   {
    "_defaultOrder": 2,
    "_isFastLaunch": false,
    "category": "General purpose",
    "gpuNum": 0,
    "hideHardwareSpecs": false,
    "memoryGiB": 16,
    "name": "ml.t3.xlarge",
    "vcpuNum": 4
   },
   {
    "_defaultOrder": 3,
    "_isFastLaunch": false,
    "category": "General purpose",
    "gpuNum": 0,
    "hideHardwareSpecs": false,
    "memoryGiB": 32,
    "name": "ml.t3.2xlarge",
    "vcpuNum": 8
   },
   {
    "_defaultOrder": 4,
    "_isFastLaunch": true,
    "category": "General purpose",
    "gpuNum": 0,
    "hideHardwareSpecs": false,
    "memoryGiB": 8,
    "name": "ml.m5.large",
    "vcpuNum": 2
   },
   {
    "_defaultOrder": 5,
    "_isFastLaunch": false,
    "category": "General purpose",
    "gpuNum": 0,
    "hideHardwareSpecs": false,
    "memoryGiB": 16,
    "name": "ml.m5.xlarge",
    "vcpuNum": 4
   },
   {
    "_defaultOrder": 6,
    "_isFastLaunch": false,
    "category": "General purpose",
    "gpuNum": 0,
    "hideHardwareSpecs": false,
    "memoryGiB": 32,
    "name": "ml.m5.2xlarge",
    "vcpuNum": 8
   },
   {
    "_defaultOrder": 7,
    "_isFastLaunch": false,
    "category": "General purpose",
    "gpuNum": 0,
    "hideHardwareSpecs": false,
    "memoryGiB": 64,
    "name": "ml.m5.4xlarge",
    "vcpuNum": 16
   },
   {
    "_defaultOrder": 8,
    "_isFastLaunch": false,
    "category": "General purpose",
    "gpuNum": 0,
    "hideHardwareSpecs": false,
    "memoryGiB": 128,
    "name": "ml.m5.8xlarge",
    "vcpuNum": 32
   },
   {
    "_defaultOrder": 9,
    "_isFastLaunch": false,
    "category": "General purpose",
    "gpuNum": 0,
    "hideHardwareSpecs": false,
    "memoryGiB": 192,
    "name": "ml.m5.12xlarge",
    "vcpuNum": 48
   },
   {
    "_defaultOrder": 10,
    "_isFastLaunch": false,
    "category": "General purpose",
    "gpuNum": 0,
    "hideHardwareSpecs": false,
    "memoryGiB": 256,
    "name": "ml.m5.16xlarge",
    "vcpuNum": 64
   },
   {
    "_defaultOrder": 11,
    "_isFastLaunch": false,
    "category": "General purpose",
    "gpuNum": 0,
    "hideHardwareSpecs": false,
    "memoryGiB": 384,
    "name": "ml.m5.24xlarge",
    "vcpuNum": 96
   },
   {
    "_defaultOrder": 12,
    "_isFastLaunch": false,
    "category": "General purpose",
    "gpuNum": 0,
    "hideHardwareSpecs": false,
    "memoryGiB": 8,
    "name": "ml.m5d.large",
    "vcpuNum": 2
   },
   {
    "_defaultOrder": 13,
    "_isFastLaunch": false,
    "category": "General purpose",
    "gpuNum": 0,
    "hideHardwareSpecs": false,
    "memoryGiB": 16,
    "name": "ml.m5d.xlarge",
    "vcpuNum": 4
   },
   {
    "_defaultOrder": 14,
    "_isFastLaunch": false,
    "category": "General purpose",
    "gpuNum": 0,
    "hideHardwareSpecs": false,
    "memoryGiB": 32,
    "name": "ml.m5d.2xlarge",
    "vcpuNum": 8
   },
   {
    "_defaultOrder": 15,
    "_isFastLaunch": false,
    "category": "General purpose",
    "gpuNum": 0,
    "hideHardwareSpecs": false,
    "memoryGiB": 64,
    "name": "ml.m5d.4xlarge",
    "vcpuNum": 16
   },
   {
    "_defaultOrder": 16,
    "_isFastLaunch": false,
    "category": "General purpose",
    "gpuNum": 0,
    "hideHardwareSpecs": false,
    "memoryGiB": 128,
    "name": "ml.m5d.8xlarge",
    "vcpuNum": 32
   },
   {
    "_defaultOrder": 17,
    "_isFastLaunch": false,
    "category": "General purpose",
    "gpuNum": 0,
    "hideHardwareSpecs": false,
    "memoryGiB": 192,
    "name": "ml.m5d.12xlarge",
    "vcpuNum": 48
   },
   {
    "_defaultOrder": 18,
    "_isFastLaunch": false,
    "category": "General purpose",
    "gpuNum": 0,
    "hideHardwareSpecs": false,
    "memoryGiB": 256,
    "name": "ml.m5d.16xlarge",
    "vcpuNum": 64
   },
   {
    "_defaultOrder": 19,
    "_isFastLaunch": false,
    "category": "General purpose",
    "gpuNum": 0,
    "hideHardwareSpecs": false,
    "memoryGiB": 384,
    "name": "ml.m5d.24xlarge",
    "vcpuNum": 96
   },
   {
    "_defaultOrder": 20,
    "_isFastLaunch": false,
    "category": "General purpose",
    "gpuNum": 0,
    "hideHardwareSpecs": true,
    "memoryGiB": 0,
    "name": "ml.geospatial.interactive",
    "supportedImageNames": [
     "sagemaker-geospatial-v1-0"
    ],
    "vcpuNum": 0
   },
   {
    "_defaultOrder": 21,
    "_isFastLaunch": true,
    "category": "Compute optimized",
    "gpuNum": 0,
    "hideHardwareSpecs": false,
    "memoryGiB": 4,
    "name": "ml.c5.large",
    "vcpuNum": 2
   },
   {
    "_defaultOrder": 22,
    "_isFastLaunch": false,
    "category": "Compute optimized",
    "gpuNum": 0,
    "hideHardwareSpecs": false,
    "memoryGiB": 8,
    "name": "ml.c5.xlarge",
    "vcpuNum": 4
   },
   {
    "_defaultOrder": 23,
    "_isFastLaunch": false,
    "category": "Compute optimized",
    "gpuNum": 0,
    "hideHardwareSpecs": false,
    "memoryGiB": 16,
    "name": "ml.c5.2xlarge",
    "vcpuNum": 8
   },
   {
    "_defaultOrder": 24,
    "_isFastLaunch": false,
    "category": "Compute optimized",
    "gpuNum": 0,
    "hideHardwareSpecs": false,
    "memoryGiB": 32,
    "name": "ml.c5.4xlarge",
    "vcpuNum": 16
   },
   {
    "_defaultOrder": 25,
    "_isFastLaunch": false,
    "category": "Compute optimized",
    "gpuNum": 0,
    "hideHardwareSpecs": false,
    "memoryGiB": 72,
    "name": "ml.c5.9xlarge",
    "vcpuNum": 36
   },
   {
    "_defaultOrder": 26,
    "_isFastLaunch": false,
    "category": "Compute optimized",
    "gpuNum": 0,
    "hideHardwareSpecs": false,
    "memoryGiB": 96,
    "name": "ml.c5.12xlarge",
    "vcpuNum": 48
   },
   {
    "_defaultOrder": 27,
    "_isFastLaunch": false,
    "category": "Compute optimized",
    "gpuNum": 0,
    "hideHardwareSpecs": false,
    "memoryGiB": 144,
    "name": "ml.c5.18xlarge",
    "vcpuNum": 72
   },
   {
    "_defaultOrder": 28,
    "_isFastLaunch": false,
    "category": "Compute optimized",
    "gpuNum": 0,
    "hideHardwareSpecs": false,
    "memoryGiB": 192,
    "name": "ml.c5.24xlarge",
    "vcpuNum": 96
   },
   {
    "_defaultOrder": 29,
    "_isFastLaunch": true,
    "category": "Accelerated computing",
    "gpuNum": 1,
    "hideHardwareSpecs": false,
    "memoryGiB": 16,
    "name": "ml.g4dn.xlarge",
    "vcpuNum": 4
   },
   {
    "_defaultOrder": 30,
    "_isFastLaunch": false,
    "category": "Accelerated computing",
    "gpuNum": 1,
    "hideHardwareSpecs": false,
    "memoryGiB": 32,
    "name": "ml.g4dn.2xlarge",
    "vcpuNum": 8
   },
   {
    "_defaultOrder": 31,
    "_isFastLaunch": false,
    "category": "Accelerated computing",
    "gpuNum": 1,
    "hideHardwareSpecs": false,
    "memoryGiB": 64,
    "name": "ml.g4dn.4xlarge",
    "vcpuNum": 16
   },
   {
    "_defaultOrder": 32,
    "_isFastLaunch": false,
    "category": "Accelerated computing",
    "gpuNum": 1,
    "hideHardwareSpecs": false,
    "memoryGiB": 128,
    "name": "ml.g4dn.8xlarge",
    "vcpuNum": 32
   },
   {
    "_defaultOrder": 33,
    "_isFastLaunch": false,
    "category": "Accelerated computing",
    "gpuNum": 4,
    "hideHardwareSpecs": false,
    "memoryGiB": 192,
    "name": "ml.g4dn.12xlarge",
    "vcpuNum": 48
   },
   {
    "_defaultOrder": 34,
    "_isFastLaunch": false,
    "category": "Accelerated computing",
    "gpuNum": 1,
    "hideHardwareSpecs": false,
    "memoryGiB": 256,
    "name": "ml.g4dn.16xlarge",
    "vcpuNum": 64
   },
   {
    "_defaultOrder": 35,
    "_isFastLaunch": false,
    "category": "Accelerated computing",
    "gpuNum": 1,
    "hideHardwareSpecs": false,
    "memoryGiB": 61,
    "name": "ml.p3.2xlarge",
    "vcpuNum": 8
   },
   {
    "_defaultOrder": 36,
    "_isFastLaunch": false,
    "category": "Accelerated computing",
    "gpuNum": 4,
    "hideHardwareSpecs": false,
    "memoryGiB": 244,
    "name": "ml.p3.8xlarge",
    "vcpuNum": 32
   },
   {
    "_defaultOrder": 37,
    "_isFastLaunch": false,
    "category": "Accelerated computing",
    "gpuNum": 8,
    "hideHardwareSpecs": false,
    "memoryGiB": 488,
    "name": "ml.p3.16xlarge",
    "vcpuNum": 64
   },
   {
    "_defaultOrder": 38,
    "_isFastLaunch": false,
    "category": "Accelerated computing",
    "gpuNum": 8,
    "hideHardwareSpecs": false,
    "memoryGiB": 768,
    "name": "ml.p3dn.24xlarge",
    "vcpuNum": 96
   },
   {
    "_defaultOrder": 39,
    "_isFastLaunch": false,
    "category": "Memory Optimized",
    "gpuNum": 0,
    "hideHardwareSpecs": false,
    "memoryGiB": 16,
    "name": "ml.r5.large",
    "vcpuNum": 2
   },
   {
    "_defaultOrder": 40,
    "_isFastLaunch": false,
    "category": "Memory Optimized",
    "gpuNum": 0,
    "hideHardwareSpecs": false,
    "memoryGiB": 32,
    "name": "ml.r5.xlarge",
    "vcpuNum": 4
   },
   {
    "_defaultOrder": 41,
    "_isFastLaunch": false,
    "category": "Memory Optimized",
    "gpuNum": 0,
    "hideHardwareSpecs": false,
    "memoryGiB": 64,
    "name": "ml.r5.2xlarge",
    "vcpuNum": 8
   },
   {
    "_defaultOrder": 42,
    "_isFastLaunch": false,
    "category": "Memory Optimized",
    "gpuNum": 0,
    "hideHardwareSpecs": false,
    "memoryGiB": 128,
    "name": "ml.r5.4xlarge",
    "vcpuNum": 16
   },
   {
    "_defaultOrder": 43,
    "_isFastLaunch": false,
    "category": "Memory Optimized",
    "gpuNum": 0,
    "hideHardwareSpecs": false,
    "memoryGiB": 256,
    "name": "ml.r5.8xlarge",
    "vcpuNum": 32
   },
   {
    "_defaultOrder": 44,
    "_isFastLaunch": false,
    "category": "Memory Optimized",
    "gpuNum": 0,
    "hideHardwareSpecs": false,
    "memoryGiB": 384,
    "name": "ml.r5.12xlarge",
    "vcpuNum": 48
   },
   {
    "_defaultOrder": 45,
    "_isFastLaunch": false,
    "category": "Memory Optimized",
    "gpuNum": 0,
    "hideHardwareSpecs": false,
    "memoryGiB": 512,
    "name": "ml.r5.16xlarge",
    "vcpuNum": 64
   },
   {
    "_defaultOrder": 46,
    "_isFastLaunch": false,
    "category": "Memory Optimized",
    "gpuNum": 0,
    "hideHardwareSpecs": false,
    "memoryGiB": 768,
    "name": "ml.r5.24xlarge",
    "vcpuNum": 96
   },
   {
    "_defaultOrder": 47,
    "_isFastLaunch": false,
    "category": "Accelerated computing",
    "gpuNum": 1,
    "hideHardwareSpecs": false,
    "memoryGiB": 16,
    "name": "ml.g5.xlarge",
    "vcpuNum": 4
   },
   {
    "_defaultOrder": 48,
    "_isFastLaunch": false,
    "category": "Accelerated computing",
    "gpuNum": 1,
    "hideHardwareSpecs": false,
    "memoryGiB": 32,
    "name": "ml.g5.2xlarge",
    "vcpuNum": 8
   },
   {
    "_defaultOrder": 49,
    "_isFastLaunch": false,
    "category": "Accelerated computing",
    "gpuNum": 1,
    "hideHardwareSpecs": false,
    "memoryGiB": 64,
    "name": "ml.g5.4xlarge",
    "vcpuNum": 16
   },
   {
    "_defaultOrder": 50,
    "_isFastLaunch": false,
    "category": "Accelerated computing",
    "gpuNum": 1,
    "hideHardwareSpecs": false,
    "memoryGiB": 128,
    "name": "ml.g5.8xlarge",
    "vcpuNum": 32
   },
   {
    "_defaultOrder": 51,
    "_isFastLaunch": false,
    "category": "Accelerated computing",
    "gpuNum": 1,
    "hideHardwareSpecs": false,
    "memoryGiB": 256,
    "name": "ml.g5.16xlarge",
    "vcpuNum": 64
   },
   {
    "_defaultOrder": 52,
    "_isFastLaunch": false,
    "category": "Accelerated computing",
    "gpuNum": 4,
    "hideHardwareSpecs": false,
    "memoryGiB": 192,
    "name": "ml.g5.12xlarge",
    "vcpuNum": 48
   },
   {
    "_defaultOrder": 53,
    "_isFastLaunch": false,
    "category": "Accelerated computing",
    "gpuNum": 4,
    "hideHardwareSpecs": false,
    "memoryGiB": 384,
    "name": "ml.g5.24xlarge",
    "vcpuNum": 96
   },
   {
    "_defaultOrder": 54,
    "_isFastLaunch": false,
    "category": "Accelerated computing",
    "gpuNum": 8,
    "hideHardwareSpecs": false,
    "memoryGiB": 768,
    "name": "ml.g5.48xlarge",
    "vcpuNum": 192
   }
  ],
  "instance_type": "ml.t3.medium",
  "kernelspec": {
   "display_name": "Python 3 (Data Science)",
   "language": "python",
   "name": "python3__SAGEMAKER_INTERNAL__arn:aws:sagemaker:us-east-1:081325390199:image/datascience-1.0"
  },
  "language_info": {
   "codemirror_mode": {
    "name": "ipython",
    "version": 3
   },
   "file_extension": ".py",
   "mimetype": "text/x-python",
   "name": "python",
   "nbconvert_exporter": "python",
   "pygments_lexer": "ipython3",
   "version": "3.7.10"
  }
 },
 "nbformat": 4,
 "nbformat_minor": 5
}
