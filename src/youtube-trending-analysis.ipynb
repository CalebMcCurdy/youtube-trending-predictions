{
 "cells": [
  {
   "cell_type": "markdown",
   "metadata": {},
   "source": [
    "## YouTube Trending Video Analysis & Prediction\n",
    "\n",
    "### Joel Day, Caleb McCurdy, & Lane Whitmore\n",
    "\n",
    "### The University of San Diego\n",
    "\n",
    "#### ADS 508 - Data Science Cloud Computing"
   ]
  },
  {
   "cell_type": "code",
   "execution_count": 2,
   "metadata": {
    "tags": []
   },
   "outputs": [
    {
     "name": "stdout",
     "output_type": "stream",
     "text": [
      "Collecting pyathena\n",
      "  Using cached pyathena-2.23.0-py3-none-any.whl (67 kB)\n",
      "Requirement already satisfied: boto3>=1.26.4 in /opt/conda/lib/python3.7/site-packages (from pyathena) (1.26.91)\n",
      "Requirement already satisfied: fsspec in /opt/conda/lib/python3.7/site-packages (from pyathena) (2023.1.0)\n",
      "Requirement already satisfied: tenacity>=4.1.0 in /opt/conda/lib/python3.7/site-packages (from pyathena) (8.2.2)\n",
      "Requirement already satisfied: botocore>=1.29.4 in /opt/conda/lib/python3.7/site-packages (from pyathena) (1.29.91)\n",
      "Requirement already satisfied: s3transfer<0.7.0,>=0.6.0 in /opt/conda/lib/python3.7/site-packages (from boto3>=1.26.4->pyathena) (0.6.0)\n",
      "Requirement already satisfied: jmespath<2.0.0,>=0.7.1 in /opt/conda/lib/python3.7/site-packages (from boto3>=1.26.4->pyathena) (1.0.1)\n",
      "Requirement already satisfied: python-dateutil<3.0.0,>=2.1 in /opt/conda/lib/python3.7/site-packages (from botocore>=1.29.4->pyathena) (2.8.2)\n",
      "Requirement already satisfied: urllib3<1.27,>=1.25.4 in /opt/conda/lib/python3.7/site-packages (from botocore>=1.29.4->pyathena) (1.26.15)\n",
      "Requirement already satisfied: six>=1.5 in /opt/conda/lib/python3.7/site-packages (from python-dateutil<3.0.0,>=2.1->botocore>=1.29.4->pyathena) (1.14.0)\n",
      "Installing collected packages: pyathena\n",
      "Successfully installed pyathena-2.23.0\n",
      "\u001b[33mWARNING: Running pip as the 'root' user can result in broken permissions and conflicting behaviour with the system package manager. It is recommended to use a virtual environment instead: https://pip.pypa.io/warnings/venv\u001b[0m\u001b[33m\n",
      "\u001b[0m"
     ]
    }
   ],
   "source": [
    "# General imports\n",
    "import pandas as pd\n",
    "import numpy as np\n",
    "\n",
    "# nlp processing imports\n",
    "import string\n",
    "import re\n",
    "import nltk\n",
    "\n",
    "# Visualization imports\n",
    "import matplotlib.pyplot as plt\n",
    "import seaborn as sns\n",
    "\n",
    "# Sagemaker imports\n",
    "import sagemaker\n",
    "# from sagemaker.sklearn.processing import \n",
    "from sagemaker import get_execution_role\n",
    "from sklearn.feature_extraction.text import CountVectorizer\n",
    "\n",
    "# athena connection imports\n",
    "!pip install pyathena\n",
    "from pyathena import connect\n",
    "import boto3"
   ]
  },
  {
   "cell_type": "markdown",
   "metadata": {},
   "source": [
    "## Establishing Athena for SQL Queries"
   ]
  },
  {
   "cell_type": "code",
   "execution_count": 3,
   "metadata": {
    "tags": []
   },
   "outputs": [],
   "source": [
    "region = boto3.Session().region_name\n",
    "role = get_execution_role()"
   ]
  },
  {
   "cell_type": "code",
   "execution_count": 4,
   "metadata": {
    "tags": []
   },
   "outputs": [],
   "source": [
    "# Set Athena for data wrangling // exploration\n",
    "session = sagemaker.Session()\n",
    "\n",
    "bucket = \"ads508youtubebucket\""
   ]
  },
  {
   "cell_type": "code",
   "execution_count": 5,
   "metadata": {
    "tags": []
   },
   "outputs": [],
   "source": [
    "ingest_create_athena_db_passed = False\n",
    "\n",
    "db_name = \"youtubedb\""
   ]
  },
  {
   "cell_type": "code",
   "execution_count": 6,
   "metadata": {
    "tags": []
   },
   "outputs": [],
   "source": [
    "# temp query storage\n",
    "s3_athena = \"s3://ads508youtubebucket/athena/tmp/\"\n",
    "\n",
    "# file storage\n",
    "youtube_dir = \"s3://ads508youtubebucket/athena/files/\"\n",
    "\n",
    "# creating connection to database\n",
    "conn = connect(region_name=region, s3_staging_dir=s3_athena)"
   ]
  },
  {
   "cell_type": "markdown",
   "metadata": {},
   "source": [
    "### Creating Database"
   ]
  },
  {
   "cell_type": "code",
   "execution_count": 7,
   "metadata": {
    "tags": []
   },
   "outputs": [
    {
     "data": {
      "text/html": [
       "<div>\n",
       "<style scoped>\n",
       "    .dataframe tbody tr th:only-of-type {\n",
       "        vertical-align: middle;\n",
       "    }\n",
       "\n",
       "    .dataframe tbody tr th {\n",
       "        vertical-align: top;\n",
       "    }\n",
       "\n",
       "    .dataframe thead th {\n",
       "        text-align: right;\n",
       "    }\n",
       "</style>\n",
       "<table border=\"1\" class=\"dataframe\">\n",
       "  <thead>\n",
       "    <tr style=\"text-align: right;\">\n",
       "      <th></th>\n",
       "    </tr>\n",
       "  </thead>\n",
       "  <tbody>\n",
       "  </tbody>\n",
       "</table>\n",
       "</div>"
      ],
      "text/plain": [
       "Empty DataFrame\n",
       "Columns: []\n",
       "Index: []"
      ]
     },
     "execution_count": 7,
     "metadata": {},
     "output_type": "execute_result"
    }
   ],
   "source": [
    "# Creating DATABASE with db_name above\n",
    "create_db = \"CREATE DATABASE IF NOT EXISTS {}\".format(db_name)\n",
    "\n",
    "pd.read_sql(create_db, conn)"
   ]
  },
  {
   "cell_type": "markdown",
   "metadata": {},
   "source": [
    "### Creating Tables"
   ]
  },
  {
   "cell_type": "markdown",
   "metadata": {},
   "source": [
    "#### CSV Tables"
   ]
  },
  {
   "cell_type": "markdown",
   "metadata": {},
   "source": [
    "Currently, the tables below are still struggling to appropriately populate the tables. If the data type is anything but strings, the column becomes null for all values and the comma seperation is not consistent."
   ]
  },
  {
   "cell_type": "code",
   "execution_count": 82,
   "metadata": {},
   "outputs": [
    {
     "data": {
      "text/html": [
       "<div>\n",
       "<style scoped>\n",
       "    .dataframe tbody tr th:only-of-type {\n",
       "        vertical-align: middle;\n",
       "    }\n",
       "\n",
       "    .dataframe tbody tr th {\n",
       "        vertical-align: top;\n",
       "    }\n",
       "\n",
       "    .dataframe thead th {\n",
       "        text-align: right;\n",
       "    }\n",
       "</style>\n",
       "<table border=\"1\" class=\"dataframe\">\n",
       "  <thead>\n",
       "    <tr style=\"text-align: right;\">\n",
       "      <th></th>\n",
       "    </tr>\n",
       "  </thead>\n",
       "  <tbody>\n",
       "  </tbody>\n",
       "</table>\n",
       "</div>"
      ],
      "text/plain": [
       "Empty DataFrame\n",
       "Columns: []\n",
       "Index: []"
      ]
     },
     "execution_count": 82,
     "metadata": {},
     "output_type": "execute_result"
    }
   ],
   "source": [
    "pd.read_sql(f\"DROP TABLE IF EXISTS {db_name}.ca_csv\", conn)\n",
    "\n",
    "\n",
    "ca_csv_create = f\"\"\"\n",
    "CREATE EXTERNAL TABLE IF NOT EXISTS {db_name}.ca_csv(\n",
    "                video_id string,\n",
    "                title string,\n",
    "                publishedAt string,\n",
    "                channelId string,\n",
    "                channelTitle string,\n",
    "                categoryId string,\n",
    "                trending string,\n",
    "                tags string,\n",
    "                view_count string,\n",
    "                likes string,\n",
    "                dislikes string,\n",
    "                comment_count string,\n",
    "                thumbnail_link string,\n",
    "                comments_disabled string,\n",
    "                ratings_disabled string,\n",
    "                description string)\n",
    "            \n",
    "                \n",
    "                ROW FORMAT SERDE 'org.apache.hadoop.hive.serde2.OpenCSVSerde' \n",
    "                WITH SERDEPROPERTIES (\n",
    "                \"separatorChar\" = \",\", \n",
    "                \"quoteChar\" = '\\\"',\n",
    "                \"escapeChar\" = '\\\"'\n",
    "                ) \n",
    "                LOCATION 's3://ads508youtubebucket/youtubeStatistics/csv/can/'\n",
    "                TBLPROPERTIES (\"skip.header.line.count\"=\"1\");\n",
    "\"\"\"\n",
    "\n",
    "pd.read_sql(ca_csv_create, conn)"
   ]
  },
  {
   "cell_type": "code",
   "execution_count": 83,
   "metadata": {},
   "outputs": [
    {
     "data": {
      "text/html": [
       "<div>\n",
       "<style scoped>\n",
       "    .dataframe tbody tr th:only-of-type {\n",
       "        vertical-align: middle;\n",
       "    }\n",
       "\n",
       "    .dataframe tbody tr th {\n",
       "        vertical-align: top;\n",
       "    }\n",
       "\n",
       "    .dataframe thead th {\n",
       "        text-align: right;\n",
       "    }\n",
       "</style>\n",
       "<table border=\"1\" class=\"dataframe\">\n",
       "  <thead>\n",
       "    <tr style=\"text-align: right;\">\n",
       "      <th></th>\n",
       "      <th>video_id</th>\n",
       "      <th>title</th>\n",
       "      <th>publishedat</th>\n",
       "      <th>channelid</th>\n",
       "      <th>channeltitle</th>\n",
       "      <th>categoryid</th>\n",
       "      <th>trending</th>\n",
       "      <th>tags</th>\n",
       "      <th>view_count</th>\n",
       "      <th>likes</th>\n",
       "      <th>dislikes</th>\n",
       "      <th>comment_count</th>\n",
       "      <th>thumbnail_link</th>\n",
       "      <th>comments_disabled</th>\n",
       "      <th>ratings_disabled</th>\n",
       "      <th>description</th>\n",
       "    </tr>\n",
       "  </thead>\n",
       "  <tbody>\n",
       "    <tr>\n",
       "      <th>0</th>\n",
       "      <td>6bFc8z35sk0</td>\n",
       "      <td>I Had A Mental Breakdown And Cut Awful Bangs</td>\n",
       "      <td>2021-03-16T18:31:39Z</td>\n",
       "      <td>UCR-QYzXrZF8yFarK8wZbHog</td>\n",
       "      <td>Colleen Ballinger</td>\n",
       "      <td>23</td>\n",
       "      <td>2021-03-20T00:00:00Z</td>\n",
       "      <td>colleen ballinger|colleen|ballinger|psychosopr...</td>\n",
       "      <td>615446</td>\n",
       "      <td>33500</td>\n",
       "      <td>1155</td>\n",
       "      <td>13367</td>\n",
       "      <td>https://i.ytimg.com/vi/6bFc8z35sk0/default.jpg</td>\n",
       "      <td>False</td>\n",
       "      <td>False</td>\n",
       "      <td>None</td>\n",
       "    </tr>\n",
       "    <tr>\n",
       "      <th>1</th>\n",
       "      <td>None</td>\n",
       "      <td>None</td>\n",
       "      <td>None</td>\n",
       "      <td>None</td>\n",
       "      <td>None</td>\n",
       "      <td>None</td>\n",
       "      <td>None</td>\n",
       "      <td>None</td>\n",
       "      <td>None</td>\n",
       "      <td>None</td>\n",
       "      <td>None</td>\n",
       "      <td>None</td>\n",
       "      <td>None</td>\n",
       "      <td>None</td>\n",
       "      <td>None</td>\n",
       "      <td>None</td>\n",
       "    </tr>\n",
       "    <tr>\n",
       "      <th>2</th>\n",
       "      <td>None</td>\n",
       "      <td>None</td>\n",
       "      <td>None</td>\n",
       "      <td>None</td>\n",
       "      <td>None</td>\n",
       "      <td>None</td>\n",
       "      <td>None</td>\n",
       "      <td>None</td>\n",
       "      <td>None</td>\n",
       "      <td>None</td>\n",
       "      <td>None</td>\n",
       "      <td>None</td>\n",
       "      <td>None</td>\n",
       "      <td>None</td>\n",
       "      <td>None</td>\n",
       "      <td>None</td>\n",
       "    </tr>\n",
       "    <tr>\n",
       "      <th>3</th>\n",
       "      <td>RoOZTKz0TsQ</td>\n",
       "      <td>The SEASON 6 BATTLEPASS is INSANE!! (100% UNLO...</td>\n",
       "      <td>2021-03-16T09:10:00Z</td>\n",
       "      <td>UCJAPcllL_VRxUiNKtaLOpzw</td>\n",
       "      <td>More SypherPK</td>\n",
       "      <td>20</td>\n",
       "      <td>2021-03-20T00:00:00Z</td>\n",
       "      <td>fortnite|fortnite battle royale|ninja|competit...</td>\n",
       "      <td>1056369</td>\n",
       "      <td>27700</td>\n",
       "      <td>1227</td>\n",
       "      <td>1854</td>\n",
       "      <td>https://i.ytimg.com/vi/RoOZTKz0TsQ/default.jpg</td>\n",
       "      <td>False</td>\n",
       "      <td>False</td>\n",
       "      <td>Today I react to the new Season 6 Battle Pass!...</td>\n",
       "    </tr>\n",
       "    <tr>\n",
       "      <th>4</th>\n",
       "      <td>bVnHisJl7Uc</td>\n",
       "      <td>Honest Trailers | WandaVision</td>\n",
       "      <td>2021-03-16T17:00:28Z</td>\n",
       "      <td>UCOpcACMWblDls9Z6GERVi1A</td>\n",
       "      <td>Screen Junkies</td>\n",
       "      <td>1</td>\n",
       "      <td>2021-03-20T00:00:00Z</td>\n",
       "      <td>screen junkies|fandom|honest trailers|screenju...</td>\n",
       "      <td>1012785</td>\n",
       "      <td>47974</td>\n",
       "      <td>813</td>\n",
       "      <td>3149</td>\n",
       "      <td>https://i.ytimg.com/vi/bVnHisJl7Uc/default.jpg</td>\n",
       "      <td>False</td>\n",
       "      <td>False</td>\n",
       "      <td>►►Subscribe to ScreenJunkies!► https://fandom....</td>\n",
       "    </tr>\n",
       "    <tr>\n",
       "      <th>5</th>\n",
       "      <td>AVIaZbvYAng</td>\n",
       "      <td>Ranboo bakes a cake [ANIMATION]</td>\n",
       "      <td>2021-03-16T21:00:05Z</td>\n",
       "      <td>UCfUFXTeJlQsJUQHMR90nLHA</td>\n",
       "      <td>Kazoo Does Art</td>\n",
       "      <td>1</td>\n",
       "      <td>2021-03-20T00:00:00Z</td>\n",
       "      <td>kazoo|doesart|kazoodoesart|kazoo's art channel...</td>\n",
       "      <td>213984</td>\n",
       "      <td>36288</td>\n",
       "      <td>50</td>\n",
       "      <td>919</td>\n",
       "      <td>https://i.ytimg.com/vi/AVIaZbvYAng/default.jpg</td>\n",
       "      <td>False</td>\n",
       "      <td>False</td>\n",
       "      <td>Thank you all so much for watching!! This anim...</td>\n",
       "    </tr>\n",
       "    <tr>\n",
       "      <th>6</th>\n",
       "      <td>dsCjRjA4O7Y</td>\n",
       "      <td>The NEW Crisis in Cosmology</td>\n",
       "      <td>2021-03-16T20:15:01Z</td>\n",
       "      <td>UC7_gcs09iThXybpVgjHZ_7g</td>\n",
       "      <td>PBS Space Time</td>\n",
       "      <td>27</td>\n",
       "      <td>2021-03-20T00:00:00Z</td>\n",
       "      <td>Space|Outer Space|Physics|Astrophysics|Quantum...</td>\n",
       "      <td>545889</td>\n",
       "      <td>25332</td>\n",
       "      <td>484</td>\n",
       "      <td>2686</td>\n",
       "      <td>https://i.ytimg.com/vi/dsCjRjA4O7Y/default.jpg</td>\n",
       "      <td>False</td>\n",
       "      <td>False</td>\n",
       "      <td>https://www.patreon.com/pbsspacetimeI have goo...</td>\n",
       "    </tr>\n",
       "    <tr>\n",
       "      <th>7</th>\n",
       "      <td>RUJUAHYkBXM</td>\n",
       "      <td>DIY Upcycled Home Decor EXTREME CHALLENGE ft. ...</td>\n",
       "      <td>2021-03-16T18:00:25Z</td>\n",
       "      <td>UCtwzsvzRCfPddq2gPlgKW1w</td>\n",
       "      <td>Lone Fox</td>\n",
       "      <td>22</td>\n",
       "      <td>2021-03-20T00:00:00Z</td>\n",
       "      <td>Lone Fox Home|Drew Scott DIY|Imdrewscott DIY|D...</td>\n",
       "      <td>215781</td>\n",
       "      <td>15037</td>\n",
       "      <td>196</td>\n",
       "      <td>687</td>\n",
       "      <td>https://i.ytimg.com/vi/RUJUAHYkBXM/default.jpg</td>\n",
       "      <td>False</td>\n",
       "      <td>False</td>\n",
       "      <td>☆ Watch The Sorry Girls Video: https://www.you...</td>\n",
       "    </tr>\n",
       "    <tr>\n",
       "      <th>8</th>\n",
       "      <td>nNBDjJosK74</td>\n",
       "      <td>Post Malone - Hollywood's Bleeding (Live From ...</td>\n",
       "      <td>2021-03-15T17:41:25Z</td>\n",
       "      <td>UCOhtMAg7xh8wv_wUHMgFc-Q</td>\n",
       "      <td>PostMaloneVEVO</td>\n",
       "      <td>10</td>\n",
       "      <td>2021-03-20T00:00:00Z</td>\n",
       "      <td>Post Malone|post Malone grammys|post grammys|p...</td>\n",
       "      <td>2904235</td>\n",
       "      <td>157669</td>\n",
       "      <td>2196</td>\n",
       "      <td>8251</td>\n",
       "      <td>https://i.ytimg.com/vi/nNBDjJosK74/default.jpg</td>\n",
       "      <td>False</td>\n",
       "      <td>False</td>\n",
       "      <td>“Hollywood’s Bleeding” (Live From The 63rd GRA...</td>\n",
       "    </tr>\n",
       "    <tr>\n",
       "      <th>9</th>\n",
       "      <td>LALR0ovhVks</td>\n",
       "      <td>At Home With Kim Kardashian - The End of An Er...</td>\n",
       "      <td>2021-03-15T16:00:05Z</td>\n",
       "      <td>UCRXiA3h1no_PFkb1JCP0yMA</td>\n",
       "      <td>Vogue</td>\n",
       "      <td>24</td>\n",
       "      <td>2021-03-20T00:00:00Z</td>\n",
       "      <td>keeping up with the kardashians|kim kardashian...</td>\n",
       "      <td>2769262</td>\n",
       "      <td>87874</td>\n",
       "      <td>3163</td>\n",
       "      <td>5101</td>\n",
       "      <td>https://i.ytimg.com/vi/LALR0ovhVks/default.jpg</td>\n",
       "      <td>False</td>\n",
       "      <td>False</td>\n",
       "      <td>None</td>\n",
       "    </tr>\n",
       "  </tbody>\n",
       "</table>\n",
       "</div>"
      ],
      "text/plain": [
       "      video_id                                              title  \\\n",
       "0  6bFc8z35sk0       I Had A Mental Breakdown And Cut Awful Bangs   \n",
       "1         None                                               None   \n",
       "2         None                                               None   \n",
       "3  RoOZTKz0TsQ  The SEASON 6 BATTLEPASS is INSANE!! (100% UNLO...   \n",
       "4  bVnHisJl7Uc                      Honest Trailers | WandaVision   \n",
       "5  AVIaZbvYAng                    Ranboo bakes a cake [ANIMATION]   \n",
       "6  dsCjRjA4O7Y                        The NEW Crisis in Cosmology   \n",
       "7  RUJUAHYkBXM  DIY Upcycled Home Decor EXTREME CHALLENGE ft. ...   \n",
       "8  nNBDjJosK74  Post Malone - Hollywood's Bleeding (Live From ...   \n",
       "9  LALR0ovhVks  At Home With Kim Kardashian - The End of An Er...   \n",
       "\n",
       "            publishedat                 channelid       channeltitle  \\\n",
       "0  2021-03-16T18:31:39Z  UCR-QYzXrZF8yFarK8wZbHog  Colleen Ballinger   \n",
       "1                  None                      None               None   \n",
       "2                  None                      None               None   \n",
       "3  2021-03-16T09:10:00Z  UCJAPcllL_VRxUiNKtaLOpzw      More SypherPK   \n",
       "4  2021-03-16T17:00:28Z  UCOpcACMWblDls9Z6GERVi1A     Screen Junkies   \n",
       "5  2021-03-16T21:00:05Z  UCfUFXTeJlQsJUQHMR90nLHA     Kazoo Does Art   \n",
       "6  2021-03-16T20:15:01Z  UC7_gcs09iThXybpVgjHZ_7g     PBS Space Time   \n",
       "7  2021-03-16T18:00:25Z  UCtwzsvzRCfPddq2gPlgKW1w           Lone Fox   \n",
       "8  2021-03-15T17:41:25Z  UCOhtMAg7xh8wv_wUHMgFc-Q     PostMaloneVEVO   \n",
       "9  2021-03-15T16:00:05Z  UCRXiA3h1no_PFkb1JCP0yMA              Vogue   \n",
       "\n",
       "  categoryid              trending  \\\n",
       "0         23  2021-03-20T00:00:00Z   \n",
       "1       None                  None   \n",
       "2       None                  None   \n",
       "3         20  2021-03-20T00:00:00Z   \n",
       "4          1  2021-03-20T00:00:00Z   \n",
       "5          1  2021-03-20T00:00:00Z   \n",
       "6         27  2021-03-20T00:00:00Z   \n",
       "7         22  2021-03-20T00:00:00Z   \n",
       "8         10  2021-03-20T00:00:00Z   \n",
       "9         24  2021-03-20T00:00:00Z   \n",
       "\n",
       "                                                tags view_count   likes  \\\n",
       "0  colleen ballinger|colleen|ballinger|psychosopr...     615446   33500   \n",
       "1                                               None       None    None   \n",
       "2                                               None       None    None   \n",
       "3  fortnite|fortnite battle royale|ninja|competit...    1056369   27700   \n",
       "4  screen junkies|fandom|honest trailers|screenju...    1012785   47974   \n",
       "5  kazoo|doesart|kazoodoesart|kazoo's art channel...     213984   36288   \n",
       "6  Space|Outer Space|Physics|Astrophysics|Quantum...     545889   25332   \n",
       "7  Lone Fox Home|Drew Scott DIY|Imdrewscott DIY|D...     215781   15037   \n",
       "8  Post Malone|post Malone grammys|post grammys|p...    2904235  157669   \n",
       "9  keeping up with the kardashians|kim kardashian...    2769262   87874   \n",
       "\n",
       "  dislikes comment_count                                  thumbnail_link  \\\n",
       "0     1155         13367  https://i.ytimg.com/vi/6bFc8z35sk0/default.jpg   \n",
       "1     None          None                                            None   \n",
       "2     None          None                                            None   \n",
       "3     1227          1854  https://i.ytimg.com/vi/RoOZTKz0TsQ/default.jpg   \n",
       "4      813          3149  https://i.ytimg.com/vi/bVnHisJl7Uc/default.jpg   \n",
       "5       50           919  https://i.ytimg.com/vi/AVIaZbvYAng/default.jpg   \n",
       "6      484          2686  https://i.ytimg.com/vi/dsCjRjA4O7Y/default.jpg   \n",
       "7      196           687  https://i.ytimg.com/vi/RUJUAHYkBXM/default.jpg   \n",
       "8     2196          8251  https://i.ytimg.com/vi/nNBDjJosK74/default.jpg   \n",
       "9     3163          5101  https://i.ytimg.com/vi/LALR0ovhVks/default.jpg   \n",
       "\n",
       "  comments_disabled ratings_disabled  \\\n",
       "0             False            False   \n",
       "1              None             None   \n",
       "2              None             None   \n",
       "3             False            False   \n",
       "4             False            False   \n",
       "5             False            False   \n",
       "6             False            False   \n",
       "7             False            False   \n",
       "8             False            False   \n",
       "9             False            False   \n",
       "\n",
       "                                         description  \n",
       "0                                               None  \n",
       "1                                               None  \n",
       "2                                               None  \n",
       "3  Today I react to the new Season 6 Battle Pass!...  \n",
       "4  ►►Subscribe to ScreenJunkies!► https://fandom....  \n",
       "5  Thank you all so much for watching!! This anim...  \n",
       "6  https://www.patreon.com/pbsspacetimeI have goo...  \n",
       "7  ☆ Watch The Sorry Girls Video: https://www.you...  \n",
       "8  “Hollywood’s Bleeding” (Live From The 63rd GRA...  \n",
       "9                                               None  "
      ]
     },
     "execution_count": 83,
     "metadata": {},
     "output_type": "execute_result"
    }
   ],
   "source": [
    "pd.read_sql(f\"SELECT * FROM {db_name}.ca_csv LIMIT 10\", conn)"
   ]
  },
  {
   "cell_type": "code",
   "execution_count": 62,
   "metadata": {},
   "outputs": [
    {
     "data": {
      "text/html": [
       "<div>\n",
       "<style scoped>\n",
       "    .dataframe tbody tr th:only-of-type {\n",
       "        vertical-align: middle;\n",
       "    }\n",
       "\n",
       "    .dataframe tbody tr th {\n",
       "        vertical-align: top;\n",
       "    }\n",
       "\n",
       "    .dataframe thead th {\n",
       "        text-align: right;\n",
       "    }\n",
       "</style>\n",
       "<table border=\"1\" class=\"dataframe\">\n",
       "  <thead>\n",
       "    <tr style=\"text-align: right;\">\n",
       "      <th></th>\n",
       "    </tr>\n",
       "  </thead>\n",
       "  <tbody>\n",
       "  </tbody>\n",
       "</table>\n",
       "</div>"
      ],
      "text/plain": [
       "Empty DataFrame\n",
       "Columns: []\n",
       "Index: []"
      ]
     },
     "execution_count": 62,
     "metadata": {},
     "output_type": "execute_result"
    }
   ],
   "source": [
    "pd.read_sql(f\"DROP TABLE IF EXISTS {db_name}.us_csv\", conn)\n",
    "\n",
    "\n",
    "us_csv_create = f\"\"\"\n",
    "CREATE EXTERNAL TABLE IF NOT EXISTS {db_name}.us_csv(\n",
    "                video_id string,\n",
    "                title string,\n",
    "                publishedAt string,\n",
    "                channelId string,\n",
    "                channelTitle string,\n",
    "                categoryId string,\n",
    "                trending string,\n",
    "                tags string,\n",
    "                view_count string,\n",
    "                likes string,\n",
    "                dislikes string,\n",
    "                comment_count string,\n",
    "                thumbnail_link string,\n",
    "                comments_disabled string,\n",
    "                ratings_disabled string,\n",
    "                description string)\n",
    "            \n",
    "                \n",
    "                ROW FORMAT SERDE 'org.apache.hadoop.hive.serde2.OpenCSVSerde' \n",
    "                WITH SERDEPROPERTIES (\n",
    "                \"separatorChar\" = ',', \n",
    "                \"quoteChar\" = '\\\"',\n",
    "                \"escapeChar\" = '\\\"'\n",
    "                ) \n",
    "                LOCATION 's3://ads508youtubebucket/youtubeStatistics/csv/usa/'\n",
    "                TBLPROPERTIES (\"skip.header.line.count\"=\"1\");\n",
    "\"\"\"\n",
    "\n",
    "pd.read_sql(us_csv_create, conn)"
   ]
  },
  {
   "cell_type": "code",
   "execution_count": 63,
   "metadata": {
    "tags": []
   },
   "outputs": [
    {
     "data": {
      "text/html": [
       "<div>\n",
       "<style scoped>\n",
       "    .dataframe tbody tr th:only-of-type {\n",
       "        vertical-align: middle;\n",
       "    }\n",
       "\n",
       "    .dataframe tbody tr th {\n",
       "        vertical-align: top;\n",
       "    }\n",
       "\n",
       "    .dataframe thead th {\n",
       "        text-align: right;\n",
       "    }\n",
       "</style>\n",
       "<table border=\"1\" class=\"dataframe\">\n",
       "  <thead>\n",
       "    <tr style=\"text-align: right;\">\n",
       "      <th></th>\n",
       "      <th>video_id</th>\n",
       "      <th>title</th>\n",
       "      <th>publishedat</th>\n",
       "      <th>channelid</th>\n",
       "      <th>channeltitle</th>\n",
       "      <th>categoryid</th>\n",
       "      <th>trending</th>\n",
       "      <th>tags</th>\n",
       "      <th>view_count</th>\n",
       "      <th>likes</th>\n",
       "      <th>dislikes</th>\n",
       "      <th>comment_count</th>\n",
       "      <th>thumbnail_link</th>\n",
       "      <th>comments_disabled</th>\n",
       "      <th>ratings_disabled</th>\n",
       "      <th>description</th>\n",
       "    </tr>\n",
       "  </thead>\n",
       "  <tbody>\n",
       "    <tr>\n",
       "      <th>0</th>\n",
       "      <td>Y4wWqz3ng_U</td>\n",
       "      <td>This Kinda SUCKS! - Cyberpunk 2077 Next Gen Up...</td>\n",
       "      <td>2022-02-15T18:03:04Z</td>\n",
       "      <td>UCiHFS5txB0O7jckRk-oK8XQ</td>\n",
       "      <td>DreamcastGuy</td>\n",
       "      <td>20</td>\n",
       "      <td>2022-02-19T00:00:00Z</td>\n",
       "      <td>xbox|pc|one|sony|playstation|dreamcast|gaming|...</td>\n",
       "      <td>227405</td>\n",
       "      <td>4959</td>\n",
       "      <td>0</td>\n",
       "      <td>2621</td>\n",
       "      <td>https://i.ytimg.com/vi/Y4wWqz3ng_U/default.jpg</td>\n",
       "      <td>False</td>\n",
       "      <td>False</td>\n",
       "      <td>Like and subscribe if you enjoyed it!Follow me...</td>\n",
       "    </tr>\n",
       "    <tr>\n",
       "      <th>1</th>\n",
       "      <td>zk2rxLH80XA</td>\n",
       "      <td>The SHOCKING Truth about Yae Miko! 4★ Weapon C...</td>\n",
       "      <td>2022-02-16T02:52:38Z</td>\n",
       "      <td>UC8BTtymnCZ7jTvt09cjPMwQ</td>\n",
       "      <td>Gacha Gamer</td>\n",
       "      <td>20</td>\n",
       "      <td>2022-02-19T00:00:00Z</td>\n",
       "      <td>genshin impact|genshin impact mobile|genshin i...</td>\n",
       "      <td>382598</td>\n",
       "      <td>13241</td>\n",
       "      <td>0</td>\n",
       "      <td>1025</td>\n",
       "      <td>https://i.ytimg.com/vi/zk2rxLH80XA/default.jpg</td>\n",
       "      <td>False</td>\n",
       "      <td>False</td>\n",
       "      <td>Yae Miko surprised me in several ways and with...</td>\n",
       "    </tr>\n",
       "    <tr>\n",
       "      <th>2</th>\n",
       "      <td>yPYW5z7O1rw</td>\n",
       "      <td>Mo3 - For The Love (Official Visualizer)</td>\n",
       "      <td>2022-02-14T20:00:29Z</td>\n",
       "      <td>UC_PQ7gGEKIwJv0YsnxH3dUw</td>\n",
       "      <td>HSM</td>\n",
       "      <td>10</td>\n",
       "      <td>2022-02-19T00:00:00Z</td>\n",
       "      <td>Mo3|Dallas|Texas|Rap Music|Badazz</td>\n",
       "      <td>373768</td>\n",
       "      <td>25484</td>\n",
       "      <td>0</td>\n",
       "      <td>1356</td>\n",
       "      <td>https://i.ytimg.com/vi/yPYW5z7O1rw/default.jpg</td>\n",
       "      <td>False</td>\n",
       "      <td>False</td>\n",
       "      <td>#Mo3  #ForTheLove #HSMOfficial Visualizer for ...</td>\n",
       "    </tr>\n",
       "    <tr>\n",
       "      <th>3</th>\n",
       "      <td>eEQMtIX61LA</td>\n",
       "      <td>Bruno Mars, Anderson .Paak, Silk Sonic - Love'...</td>\n",
       "      <td>2022-02-14T20:00:09Z</td>\n",
       "      <td>UCoUM-UJ7rirJYP8CQ0EIaHA</td>\n",
       "      <td>Bruno Mars</td>\n",
       "      <td>10</td>\n",
       "      <td>2022-02-19T00:00:00Z</td>\n",
       "      <td>bruno mars|silk sonic|anderson .paak|anderson ...</td>\n",
       "      <td>1541464</td>\n",
       "      <td>85978</td>\n",
       "      <td>0</td>\n",
       "      <td>4419</td>\n",
       "      <td>https://i.ytimg.com/vi/eEQMtIX61LA/default.jpg</td>\n",
       "      <td>False</td>\n",
       "      <td>False</td>\n",
       "      <td>Bruno Mars, Anderson .Paak, Silk Sonic - Love'...</td>\n",
       "    </tr>\n",
       "    <tr>\n",
       "      <th>4</th>\n",
       "      <td>J6CbElkmmMA</td>\n",
       "      <td>GIANT ALEX Mod in Among Us...</td>\n",
       "      <td>2022-02-16T23:45:01Z</td>\n",
       "      <td>UCXHGoWpySS0smjanTUDa6Gw</td>\n",
       "      <td>GameToons Gaming</td>\n",
       "      <td>20</td>\n",
       "      <td>2022-02-19T00:00:00Z</td>\n",
       "      <td>among us|among us logic|among us adventures|ga...</td>\n",
       "      <td>989968</td>\n",
       "      <td>16910</td>\n",
       "      <td>0</td>\n",
       "      <td>516</td>\n",
       "      <td>https://i.ytimg.com/vi/J6CbElkmmMA/default.jpg</td>\n",
       "      <td>False</td>\n",
       "      <td>False</td>\n",
       "      <td>► SUBSCRIBE to GameToons Gaming! -https://www....</td>\n",
       "    </tr>\n",
       "    <tr>\n",
       "      <th>5</th>\n",
       "      <td>2bZYqFsU72Y</td>\n",
       "      <td>The First-Ever All-Electric Chevy Silverado – ...</td>\n",
       "      <td>2022-02-14T00:16:41Z</td>\n",
       "      <td>UCSVpCNZzOeMekuMiFze3fnQ</td>\n",
       "      <td>Chevrolet</td>\n",
       "      <td>2</td>\n",
       "      <td>2022-02-19T00:00:00Z</td>\n",
       "      <td>Chevrolet|Chevy|Silverado EV|Electric Silverad...</td>\n",
       "      <td>11553038</td>\n",
       "      <td>20700</td>\n",
       "      <td>0</td>\n",
       "      <td>3803</td>\n",
       "      <td>https://i.ytimg.com/vi/2bZYqFsU72Y/default.jpg</td>\n",
       "      <td>False</td>\n",
       "      <td>False</td>\n",
       "      <td>With available Four-Wheel Steer, an available ...</td>\n",
       "    </tr>\n",
       "    <tr>\n",
       "      <th>6</th>\n",
       "      <td>0z1dsxJcAPg</td>\n",
       "      <td>SURPRISING MY BOYFRIEND WITH HIS DREAM CAR !</td>\n",
       "      <td>2022-02-15T04:12:12Z</td>\n",
       "      <td>UCABbEMDC2EdsLuF0pkoV_cg</td>\n",
       "      <td>Jathaly</td>\n",
       "      <td>22</td>\n",
       "      <td>2022-02-19T00:00:00Z</td>\n",
       "      <td>new car|surprise|surprising my boyfriend|car g...</td>\n",
       "      <td>294989</td>\n",
       "      <td>17246</td>\n",
       "      <td>0</td>\n",
       "      <td>975</td>\n",
       "      <td>https://i.ytimg.com/vi/0z1dsxJcAPg/default.jpg</td>\n",
       "      <td>False</td>\n",
       "      <td>False</td>\n",
       "      <td>!!!!!! WELCOME TO JATHALY !!!!!Our solo channe...</td>\n",
       "    </tr>\n",
       "    <tr>\n",
       "      <th>7</th>\n",
       "      <td>wyWo_qkjlLk</td>\n",
       "      <td>How rich people vs really rich people act at t...</td>\n",
       "      <td>2022-02-16T16:31:41Z</td>\n",
       "      <td>UCJSICzUeXSxBvc0UAf2Up8g</td>\n",
       "      <td>Nicholas Crown</td>\n",
       "      <td>22</td>\n",
       "      <td>2022-02-19T00:00:00Z</td>\n",
       "      <td>[None]</td>\n",
       "      <td>424249</td>\n",
       "      <td>50917</td>\n",
       "      <td>0</td>\n",
       "      <td>109</td>\n",
       "      <td>https://i.ytimg.com/vi/wyWo_qkjlLk/default.jpg</td>\n",
       "      <td>False</td>\n",
       "      <td>False</td>\n",
       "      <td></td>\n",
       "    </tr>\n",
       "    <tr>\n",
       "      <th>8</th>\n",
       "      <td>xK5qVtczVmk</td>\n",
       "      <td>Toosii - Love Me Easy (Official Audio)</td>\n",
       "      <td>2022-02-14T17:50:13Z</td>\n",
       "      <td>UCUtmzHuW43bFbUP-Xl0TTKA</td>\n",
       "      <td>Toosii 2x</td>\n",
       "      <td>10</td>\n",
       "      <td>2022-02-19T00:00:00Z</td>\n",
       "      <td>[None]</td>\n",
       "      <td>458758</td>\n",
       "      <td>29118</td>\n",
       "      <td>0</td>\n",
       "      <td>1201</td>\n",
       "      <td>https://i.ytimg.com/vi/xK5qVtczVmk/default.jpg</td>\n",
       "      <td>False</td>\n",
       "      <td>False</td>\n",
       "      <td>Stream // Download Toosii’s “Pretty Girls Love...</td>\n",
       "    </tr>\n",
       "    <tr>\n",
       "      <th>9</th>\n",
       "      <td>VmI0YIqdjv8</td>\n",
       "      <td>I'M PREGNANT!</td>\n",
       "      <td>2022-02-14T14:56:53Z</td>\n",
       "      <td>UCF2oW5-MO8dB6ul9WH9xi0A</td>\n",
       "      <td>blndsundoll4mj</td>\n",
       "      <td>22</td>\n",
       "      <td>2022-02-19T00:00:00Z</td>\n",
       "      <td>[None]</td>\n",
       "      <td>784231</td>\n",
       "      <td>39162</td>\n",
       "      <td>0</td>\n",
       "      <td>10912</td>\n",
       "      <td>https://i.ytimg.com/vi/VmI0YIqdjv8/default.jpg</td>\n",
       "      <td>False</td>\n",
       "      <td>False</td>\n",
       "      <td></td>\n",
       "    </tr>\n",
       "  </tbody>\n",
       "</table>\n",
       "</div>"
      ],
      "text/plain": [
       "      video_id                                              title  \\\n",
       "0  Y4wWqz3ng_U  This Kinda SUCKS! - Cyberpunk 2077 Next Gen Up...   \n",
       "1  zk2rxLH80XA  The SHOCKING Truth about Yae Miko! 4★ Weapon C...   \n",
       "2  yPYW5z7O1rw           Mo3 - For The Love (Official Visualizer)   \n",
       "3  eEQMtIX61LA  Bruno Mars, Anderson .Paak, Silk Sonic - Love'...   \n",
       "4  J6CbElkmmMA                      GIANT ALEX Mod in Among Us...   \n",
       "5  2bZYqFsU72Y  The First-Ever All-Electric Chevy Silverado – ...   \n",
       "6  0z1dsxJcAPg       SURPRISING MY BOYFRIEND WITH HIS DREAM CAR !   \n",
       "7  wyWo_qkjlLk  How rich people vs really rich people act at t...   \n",
       "8  xK5qVtczVmk             Toosii - Love Me Easy (Official Audio)   \n",
       "9  VmI0YIqdjv8                                      I'M PREGNANT!   \n",
       "\n",
       "            publishedat                 channelid      channeltitle  \\\n",
       "0  2022-02-15T18:03:04Z  UCiHFS5txB0O7jckRk-oK8XQ      DreamcastGuy   \n",
       "1  2022-02-16T02:52:38Z  UC8BTtymnCZ7jTvt09cjPMwQ       Gacha Gamer   \n",
       "2  2022-02-14T20:00:29Z  UC_PQ7gGEKIwJv0YsnxH3dUw               HSM   \n",
       "3  2022-02-14T20:00:09Z  UCoUM-UJ7rirJYP8CQ0EIaHA        Bruno Mars   \n",
       "4  2022-02-16T23:45:01Z  UCXHGoWpySS0smjanTUDa6Gw  GameToons Gaming   \n",
       "5  2022-02-14T00:16:41Z  UCSVpCNZzOeMekuMiFze3fnQ         Chevrolet   \n",
       "6  2022-02-15T04:12:12Z  UCABbEMDC2EdsLuF0pkoV_cg           Jathaly   \n",
       "7  2022-02-16T16:31:41Z  UCJSICzUeXSxBvc0UAf2Up8g    Nicholas Crown   \n",
       "8  2022-02-14T17:50:13Z  UCUtmzHuW43bFbUP-Xl0TTKA         Toosii 2x   \n",
       "9  2022-02-14T14:56:53Z  UCF2oW5-MO8dB6ul9WH9xi0A    blndsundoll4mj   \n",
       "\n",
       "  categoryid              trending  \\\n",
       "0         20  2022-02-19T00:00:00Z   \n",
       "1         20  2022-02-19T00:00:00Z   \n",
       "2         10  2022-02-19T00:00:00Z   \n",
       "3         10  2022-02-19T00:00:00Z   \n",
       "4         20  2022-02-19T00:00:00Z   \n",
       "5          2  2022-02-19T00:00:00Z   \n",
       "6         22  2022-02-19T00:00:00Z   \n",
       "7         22  2022-02-19T00:00:00Z   \n",
       "8         10  2022-02-19T00:00:00Z   \n",
       "9         22  2022-02-19T00:00:00Z   \n",
       "\n",
       "                                                tags view_count  likes  \\\n",
       "0  xbox|pc|one|sony|playstation|dreamcast|gaming|...     227405   4959   \n",
       "1  genshin impact|genshin impact mobile|genshin i...     382598  13241   \n",
       "2                  Mo3|Dallas|Texas|Rap Music|Badazz     373768  25484   \n",
       "3  bruno mars|silk sonic|anderson .paak|anderson ...    1541464  85978   \n",
       "4  among us|among us logic|among us adventures|ga...     989968  16910   \n",
       "5  Chevrolet|Chevy|Silverado EV|Electric Silverad...   11553038  20700   \n",
       "6  new car|surprise|surprising my boyfriend|car g...     294989  17246   \n",
       "7                                             [None]     424249  50917   \n",
       "8                                             [None]     458758  29118   \n",
       "9                                             [None]     784231  39162   \n",
       "\n",
       "  dislikes comment_count                                  thumbnail_link  \\\n",
       "0        0          2621  https://i.ytimg.com/vi/Y4wWqz3ng_U/default.jpg   \n",
       "1        0          1025  https://i.ytimg.com/vi/zk2rxLH80XA/default.jpg   \n",
       "2        0          1356  https://i.ytimg.com/vi/yPYW5z7O1rw/default.jpg   \n",
       "3        0          4419  https://i.ytimg.com/vi/eEQMtIX61LA/default.jpg   \n",
       "4        0           516  https://i.ytimg.com/vi/J6CbElkmmMA/default.jpg   \n",
       "5        0          3803  https://i.ytimg.com/vi/2bZYqFsU72Y/default.jpg   \n",
       "6        0           975  https://i.ytimg.com/vi/0z1dsxJcAPg/default.jpg   \n",
       "7        0           109  https://i.ytimg.com/vi/wyWo_qkjlLk/default.jpg   \n",
       "8        0          1201  https://i.ytimg.com/vi/xK5qVtczVmk/default.jpg   \n",
       "9        0         10912  https://i.ytimg.com/vi/VmI0YIqdjv8/default.jpg   \n",
       "\n",
       "  comments_disabled ratings_disabled  \\\n",
       "0             False            False   \n",
       "1             False            False   \n",
       "2             False            False   \n",
       "3             False            False   \n",
       "4             False            False   \n",
       "5             False            False   \n",
       "6             False            False   \n",
       "7             False            False   \n",
       "8             False            False   \n",
       "9             False            False   \n",
       "\n",
       "                                         description  \n",
       "0  Like and subscribe if you enjoyed it!Follow me...  \n",
       "1  Yae Miko surprised me in several ways and with...  \n",
       "2  #Mo3  #ForTheLove #HSMOfficial Visualizer for ...  \n",
       "3  Bruno Mars, Anderson .Paak, Silk Sonic - Love'...  \n",
       "4  ► SUBSCRIBE to GameToons Gaming! -https://www....  \n",
       "5  With available Four-Wheel Steer, an available ...  \n",
       "6  !!!!!! WELCOME TO JATHALY !!!!!Our solo channe...  \n",
       "7                                                     \n",
       "8  Stream // Download Toosii’s “Pretty Girls Love...  \n",
       "9                                                     "
      ]
     },
     "execution_count": 63,
     "metadata": {},
     "output_type": "execute_result"
    }
   ],
   "source": [
    "pd.read_sql(f\"SELECT * FROM {db_name}.us_csv LIMIT 10\", conn)"
   ]
  },
  {
   "cell_type": "code",
   "execution_count": 60,
   "metadata": {},
   "outputs": [
    {
     "data": {
      "text/html": [
       "<div>\n",
       "<style scoped>\n",
       "    .dataframe tbody tr th:only-of-type {\n",
       "        vertical-align: middle;\n",
       "    }\n",
       "\n",
       "    .dataframe tbody tr th {\n",
       "        vertical-align: top;\n",
       "    }\n",
       "\n",
       "    .dataframe thead th {\n",
       "        text-align: right;\n",
       "    }\n",
       "</style>\n",
       "<table border=\"1\" class=\"dataframe\">\n",
       "  <thead>\n",
       "    <tr style=\"text-align: right;\">\n",
       "      <th></th>\n",
       "    </tr>\n",
       "  </thead>\n",
       "  <tbody>\n",
       "  </tbody>\n",
       "</table>\n",
       "</div>"
      ],
      "text/plain": [
       "Empty DataFrame\n",
       "Columns: []\n",
       "Index: []"
      ]
     },
     "execution_count": 60,
     "metadata": {},
     "output_type": "execute_result"
    }
   ],
   "source": [
    "pd.read_sql(f\"DROP TABLE IF EXISTS {db_name}.gb_csv\", conn)\n",
    "\n",
    "\n",
    "gb_csv_create = f\"\"\"\n",
    "CREATE EXTERNAL TABLE IF NOT EXISTS {db_name}.gb_csv(\n",
    "                video_id string,\n",
    "                title string,\n",
    "                publishedAt string,\n",
    "                channelId int,\n",
    "                channelTitle string,\n",
    "                categoryId string,\n",
    "                trending string,\n",
    "                tags string,\n",
    "                view_count string,\n",
    "                likes string,\n",
    "                dislikes string,\n",
    "                comment_count string,\n",
    "                thumbnail_link string,\n",
    "                comments_disabled string,\n",
    "                ratings_disabled string,\n",
    "                description string\n",
    "                )\n",
    "            \n",
    "                ROW FORMAT SERDE 'org.apache.hadoop.hive.serde2.OpenCSVSerde' \n",
    "                WITH SERDEPROPERTIES (\n",
    "                \"separatorChar\" = \",\", \n",
    "                \"quoteChar\" = '\\\"',\n",
    "                \"escapeChar\" = '\\\"'\n",
    "                ) \n",
    "                LOCATION 's3://ads508youtubebucket/youtubeStatistics/csv/gb/'\n",
    "                TBLPROPERTIES (\"skip.header.line.count\"=\"1\");\n",
    "\"\"\"\n",
    "\n",
    "pd.read_sql(gb_csv_create, conn)"
   ]
  },
  {
   "cell_type": "code",
   "execution_count": null,
   "metadata": {},
   "outputs": [],
   "source": [
    "pd.read_sql(f\"SELECT * FROM {db_name}.gb_csv LIMIT 10\", conn)"
   ]
  },
  {
   "cell_type": "markdown",
   "metadata": {},
   "source": [
    "#### JSON Tables"
   ]
  },
  {
   "cell_type": "code",
   "execution_count": null,
   "metadata": {
    "tags": []
   },
   "outputs": [],
   "source": [
    "\n",
    "pd.read_sql(f\"DROP TABLE IF EXISTS {db_name}.ca_json\", conn)\n",
    "\n",
    "ca_json_create = f\"\"\"\n",
    "CREATE EXTERNAL TABLE IF NOT EXISTS {db_name}.ca_json (\n",
    "                        kind: string, \n",
    "                        etag: string, \n",
    "                        items: array<struct<kind: string, \n",
    "                                            etag: string,\n",
    "                                            id: int,\n",
    "                                            snippet:struct<title: string,\n",
    "                                                           assignable: boolean,\n",
    "                                                           channelId: string>>>\n",
    "                        )\n",
    "                        ROW FORMAT SERDE 'org.openx.data.jsonserde.JsonSerDe'\n",
    "                        WITH SERDEPROPERTIES ( 'ignore.malformed.json' = 'true')\n",
    "                        LOCATION 's3://ads508youtubebucket/youtubeStatistics/json/can/';\n",
    "\"\"\"\n",
    "\n",
    "pd.read_sql(ca_json_create, conn)"
   ]
  },
  {
   "cell_type": "code",
   "execution_count": null,
   "metadata": {
    "tags": []
   },
   "outputs": [],
   "source": [
    "pd.read_sql(f\"SELECT * FROM {db_name}.ca_json;\", conn)"
   ]
  },
  {
   "cell_type": "markdown",
   "metadata": {},
   "source": [
    "## Data Exploration"
   ]
  },
  {
   "cell_type": "markdown",
   "metadata": {},
   "source": [
    "#### US Gaming Exploration"
   ]
  },
  {
   "cell_type": "code",
   "execution_count": 100,
   "metadata": {
    "tags": []
   },
   "outputs": [
    {
     "data": {
      "text/html": [
       "<div>\n",
       "<style scoped>\n",
       "    .dataframe tbody tr th:only-of-type {\n",
       "        vertical-align: middle;\n",
       "    }\n",
       "\n",
       "    .dataframe tbody tr th {\n",
       "        vertical-align: top;\n",
       "    }\n",
       "\n",
       "    .dataframe thead th {\n",
       "        text-align: right;\n",
       "    }\n",
       "</style>\n",
       "<table border=\"1\" class=\"dataframe\">\n",
       "  <thead>\n",
       "    <tr style=\"text-align: right;\">\n",
       "      <th></th>\n",
       "      <th>video_id</th>\n",
       "      <th>title</th>\n",
       "      <th>publishedat</th>\n",
       "      <th>channelid</th>\n",
       "      <th>channeltitle</th>\n",
       "      <th>categoryid</th>\n",
       "      <th>trending</th>\n",
       "      <th>tags</th>\n",
       "      <th>view_count</th>\n",
       "      <th>likes</th>\n",
       "      <th>dislikes</th>\n",
       "      <th>comment_count</th>\n",
       "      <th>thumbnail_link</th>\n",
       "      <th>comments_disabled</th>\n",
       "      <th>ratings_disabled</th>\n",
       "      <th>description</th>\n",
       "    </tr>\n",
       "  </thead>\n",
       "  <tbody>\n",
       "    <tr>\n",
       "      <th>0</th>\n",
       "      <td>qcY9qy1SaL8</td>\n",
       "      <td>I Survived 2,000 Days in HARDCORE Minecraft...</td>\n",
       "      <td>2021-10-23T12:15:11Z</td>\n",
       "      <td>UCFrVj6wBM42y3XuKCAj8n5A</td>\n",
       "      <td>SB737</td>\n",
       "      <td>20</td>\n",
       "      <td>2021-10-27T00:00:00Z</td>\n",
       "      <td>minecraft|gaming|sb737|sb minecraft|sb|let's p...</td>\n",
       "      <td>2163189</td>\n",
       "      <td>123429</td>\n",
       "      <td>1683</td>\n",
       "      <td>8435</td>\n",
       "      <td>https://i.ytimg.com/vi/qcY9qy1SaL8/default.jpg</td>\n",
       "      <td>False</td>\n",
       "      <td>False</td>\n",
       "      <td>BUY 2,000 DAYS POSTER HERE: https://sb737.stor...</td>\n",
       "    </tr>\n",
       "    <tr>\n",
       "      <th>1</th>\n",
       "      <td>8kVXGfKIk9I</td>\n",
       "      <td>I made a minecraft mod EVERY DAY for 100 DAYS</td>\n",
       "      <td>2021-10-23T19:00:13Z</td>\n",
       "      <td>UCfGkyZGTurOs8Xrylyu4G2Q</td>\n",
       "      <td>Its Jim</td>\n",
       "      <td>20</td>\n",
       "      <td>2021-10-27T00:00:00Z</td>\n",
       "      <td>techonoblade|minecraft|fundy|wilbur soot|tommy...</td>\n",
       "      <td>773055</td>\n",
       "      <td>16321</td>\n",
       "      <td>436</td>\n",
       "      <td>859</td>\n",
       "      <td>https://i.ytimg.com/vi/8kVXGfKIk9I/default.jpg</td>\n",
       "      <td>False</td>\n",
       "      <td>False</td>\n",
       "      <td>I added a mod every day to my Minecraft hardco...</td>\n",
       "    </tr>\n",
       "    <tr>\n",
       "      <th>2</th>\n",
       "      <td>1ruCFtzohh8</td>\n",
       "      <td>Chapter 1 Fortnite is Back!</td>\n",
       "      <td>2021-10-24T13:35:47Z</td>\n",
       "      <td>UCh7EqOZt7EvO2osuKbIlpGg</td>\n",
       "      <td>Lachlan</td>\n",
       "      <td>20</td>\n",
       "      <td>2021-10-27T00:00:00Z</td>\n",
       "      <td>lachlan lachy fortnite battle royale pubg batt...</td>\n",
       "      <td>864778</td>\n",
       "      <td>50238</td>\n",
       "      <td>532</td>\n",
       "      <td>1588</td>\n",
       "      <td>https://i.ytimg.com/vi/1ruCFtzohh8/default.jpg</td>\n",
       "      <td>False</td>\n",
       "      <td>False</td>\n",
       "      <td>Today we go back to OG Fortnite with a fun tou...</td>\n",
       "    </tr>\n",
       "    <tr>\n",
       "      <th>3</th>\n",
       "      <td>uWSUnZ_exoM</td>\n",
       "      <td>I Stole my Friends Among Us Statue</td>\n",
       "      <td>2021-10-23T14:00:32Z</td>\n",
       "      <td>UCvt0HYxX34vUvqu66HLXeUw</td>\n",
       "      <td>rekrap2</td>\n",
       "      <td>20</td>\n",
       "      <td>2021-10-27T00:00:00Z</td>\n",
       "      <td>rekrap2|rekrap|rek|Echocraft|Boatclutch</td>\n",
       "      <td>659838</td>\n",
       "      <td>20315</td>\n",
       "      <td>358</td>\n",
       "      <td>1242</td>\n",
       "      <td>https://i.ytimg.com/vi/uWSUnZ_exoM/default.jpg</td>\n",
       "      <td>False</td>\n",
       "      <td>False</td>\n",
       "      <td>I stole my Friends Among Us statue, and it sta...</td>\n",
       "    </tr>\n",
       "    <tr>\n",
       "      <th>4</th>\n",
       "      <td>3437syY-2P0</td>\n",
       "      <td>Minecraft Manhunt, But Clutching Gives OP Item...</td>\n",
       "      <td>2021-10-24T00:01:02Z</td>\n",
       "      <td>UCWWcJg7XWc5erpRJJtO1mgw</td>\n",
       "      <td>P0LAND</td>\n",
       "      <td>20</td>\n",
       "      <td>2021-10-27T00:00:00Z</td>\n",
       "      <td>Minecraft|Challenge|Minecraft Challenge|Minecr...</td>\n",
       "      <td>445194</td>\n",
       "      <td>16732</td>\n",
       "      <td>310</td>\n",
       "      <td>856</td>\n",
       "      <td>https://i.ytimg.com/vi/3437syY-2P0/default.jpg</td>\n",
       "      <td>False</td>\n",
       "      <td>False</td>\n",
       "      <td>Minecraft Manhunt, But Clutching Gives OP Item...</td>\n",
       "    </tr>\n",
       "  </tbody>\n",
       "</table>\n",
       "</div>"
      ],
      "text/plain": [
       "      video_id                                              title  \\\n",
       "0  qcY9qy1SaL8     I Survived 2,000 Days in HARDCORE Minecraft...   \n",
       "1  8kVXGfKIk9I      I made a minecraft mod EVERY DAY for 100 DAYS   \n",
       "2  1ruCFtzohh8                        Chapter 1 Fortnite is Back!   \n",
       "3  uWSUnZ_exoM                 I Stole my Friends Among Us Statue   \n",
       "4  3437syY-2P0  Minecraft Manhunt, But Clutching Gives OP Item...   \n",
       "\n",
       "            publishedat                 channelid channeltitle categoryid  \\\n",
       "0  2021-10-23T12:15:11Z  UCFrVj6wBM42y3XuKCAj8n5A        SB737         20   \n",
       "1  2021-10-23T19:00:13Z  UCfGkyZGTurOs8Xrylyu4G2Q      Its Jim         20   \n",
       "2  2021-10-24T13:35:47Z  UCh7EqOZt7EvO2osuKbIlpGg      Lachlan         20   \n",
       "3  2021-10-23T14:00:32Z  UCvt0HYxX34vUvqu66HLXeUw      rekrap2         20   \n",
       "4  2021-10-24T00:01:02Z  UCWWcJg7XWc5erpRJJtO1mgw       P0LAND         20   \n",
       "\n",
       "               trending                                               tags  \\\n",
       "0  2021-10-27T00:00:00Z  minecraft|gaming|sb737|sb minecraft|sb|let's p...   \n",
       "1  2021-10-27T00:00:00Z  techonoblade|minecraft|fundy|wilbur soot|tommy...   \n",
       "2  2021-10-27T00:00:00Z  lachlan lachy fortnite battle royale pubg batt...   \n",
       "3  2021-10-27T00:00:00Z            rekrap2|rekrap|rek|Echocraft|Boatclutch   \n",
       "4  2021-10-27T00:00:00Z  Minecraft|Challenge|Minecraft Challenge|Minecr...   \n",
       "\n",
       "  view_count   likes dislikes comment_count  \\\n",
       "0    2163189  123429     1683          8435   \n",
       "1     773055   16321      436           859   \n",
       "2     864778   50238      532          1588   \n",
       "3     659838   20315      358          1242   \n",
       "4     445194   16732      310           856   \n",
       "\n",
       "                                   thumbnail_link comments_disabled  \\\n",
       "0  https://i.ytimg.com/vi/qcY9qy1SaL8/default.jpg             False   \n",
       "1  https://i.ytimg.com/vi/8kVXGfKIk9I/default.jpg             False   \n",
       "2  https://i.ytimg.com/vi/1ruCFtzohh8/default.jpg             False   \n",
       "3  https://i.ytimg.com/vi/uWSUnZ_exoM/default.jpg             False   \n",
       "4  https://i.ytimg.com/vi/3437syY-2P0/default.jpg             False   \n",
       "\n",
       "  ratings_disabled                                        description  \n",
       "0            False  BUY 2,000 DAYS POSTER HERE: https://sb737.stor...  \n",
       "1            False  I added a mod every day to my Minecraft hardco...  \n",
       "2            False  Today we go back to OG Fortnite with a fun tou...  \n",
       "3            False  I stole my Friends Among Us statue, and it sta...  \n",
       "4            False  Minecraft Manhunt, But Clutching Gives OP Item...  "
      ]
     },
     "execution_count": 100,
     "metadata": {},
     "output_type": "execute_result"
    }
   ],
   "source": [
    "# 20 is the category id for gaming in each country\n",
    "us_gamingvlog = pd.read_sql(f\"SELECT * FROM {db_name}.us_csv WHERE us_csv.categoryid LIKE '20';\", conn)\n",
    "us_gamingvlog.head()"
   ]
  },
  {
   "cell_type": "markdown",
   "metadata": {
    "tags": []
   },
   "source": [
    "Preparing the data for exploration by adjusting the necessary column types."
   ]
  },
  {
   "cell_type": "code",
   "execution_count": 101,
   "metadata": {
    "tags": []
   },
   "outputs": [
    {
     "name": "stdout",
     "output_type": "stream",
     "text": [
      "Length of data frame: 37071\n",
      "Width of data frame: 16\n",
      "video_id                     object\n",
      "title                        object\n",
      "publishedat          datetime64[ns]\n",
      "channelid                    object\n",
      "channeltitle                 object\n",
      "categoryid                    int64\n",
      "trending             datetime64[ns]\n",
      "tags                         object\n",
      "view_count                    int64\n",
      "likes                         int64\n",
      "dislikes                      int64\n",
      "comment_count                 int64\n",
      "thumbnail_link               object\n",
      "comments_disabled            object\n",
      "ratings_disabled             object\n",
      "description                  object\n",
      "dtype: object\n"
     ]
    },
    {
     "data": {
      "text/plain": [
       "video_id                     object\n",
       "title                        object\n",
       "publishedat          datetime64[ns]\n",
       "channelid                    object\n",
       "channeltitle                 object\n",
       "categoryid                    int64\n",
       "trending             datetime64[ns]\n",
       "tags                         object\n",
       "view_count                    int64\n",
       "likes                         int64\n",
       "dislikes                      int64\n",
       "comment_count                 int64\n",
       "thumbnail_link               object\n",
       "comments_disabled            object\n",
       "ratings_disabled             object\n",
       "description                  object\n",
       "dtype: object"
      ]
     },
     "execution_count": 101,
     "metadata": {},
     "output_type": "execute_result"
    }
   ],
   "source": [
    "print(\"Length of data frame:\", us_gamingvlog.shape[0])\n",
    "print(\"Width of data frame:\", us_gamingvlog.shape[1])\n",
    "print(us_gaming.dtypes)\n",
    "\n",
    "\n",
    "# Change to integer\n",
    "us_gamingvlog['categoryid'] = us_gamingvlog['categoryid'].astype(int) \n",
    "us_gamingvlog['view_count'] = us_gamingvlog['view_count'].astype(int)\n",
    "us_gamingvlog['likes'] = us_gamingvlog['likes'].astype(int)\n",
    "us_gamingvlog['dislikes'] = us_gamingvlog['dislikes'].astype(int)\n",
    "us_gamingvlog['comment_count'] = us_gamingvlog['comment_count'].astype(int)\n",
    "\n",
    "# Change to datetime\n",
    "us_gamingvlog['publishedat'] = pd.to_datetime(us_gamingvlog['publishedat'], infer_datetime_format=True)\n",
    "us_gamingvlog['trending'] = pd.to_datetime(us_gamingvlog['trending'], infer_datetime_format=True)\n",
    "us_gamingvlog.dtypes"
   ]
  },
  {
   "cell_type": "markdown",
   "metadata": {},
   "source": [
    "#### Creating Visualizations"
   ]
  },
  {
   "cell_type": "code",
   "execution_count": 105,
   "metadata": {
    "tags": []
   },
   "outputs": [
    {
     "data": {
      "image/png": "[encoded data removed]",
      "text/plain": [
       "<Figure size 640x480 with 1 Axes>"
      ]
     },
     "metadata": {},
     "output_type": "display_data"
    }
   ],
   "source": [
    "sns.scatterplot(data = us_gamingvlog, x = us_gamingvlog.dislikes, y = us_gamingvlog.comment_count, hue = us_gamingvlog.likes)\n",
    "plt.title(\"Comment Count vs. Dislikes\")\n",
    "plt.show()"
   ]
  },
  {
   "cell_type": "code",
   "execution_count": 111,
   "metadata": {
    "tags": []
   },
   "outputs": [
    {
     "data": {
      "image/png": "[encoded data removed]",
      "text/plain": [
       "<Figure size 640x480 with 1 Axes>"
      ]
     },
     "metadata": {},
     "output_type": "display_data"
    }
   ],
   "source": [
    "fig, ax = plt.subplots()\n",
    "\n",
    "sns.distplot(us_gamingvlog.likes, ax = ax)\n",
    "plt.title(\"Likes Density Plot\")\n",
    "ax.set_xlim(0, 8000000)\n",
    "ax.set_xticks([0, 2000000, 4000000, 6000000, 8000000])\n",
    "plt.show()"
   ]
  },
  {
   "cell_type": "code",
   "execution_count": 107,
   "metadata": {
    "tags": []
   },
   "outputs": [
    {
     "data": {
      "image/png": "[encoded data removed]",
      "text/plain": [
       "<Figure size 640x480 with 1 Axes>"
      ]
     },
     "metadata": {},
     "output_type": "display_data"
    }
   ],
   "source": [
    "sns.distplot(us_gamingvlog.dislikes)\n",
    "plt.title(\"Dislikes Density Plot\")\n",
    "plt.show()"
   ]
  },
  {
   "cell_type": "markdown",
   "metadata": {},
   "source": [
    "### Data could also be accessed like this"
   ]
  },
  {
   "cell_type": "code",
   "execution_count": 73,
   "metadata": {},
   "outputs": [],
   "source": [
    "bucket = \"ads508youtubebucket\"\n",
    "data_key = \"US_youtube_trending_data.csv\"\n",
    "data_location_us = \"s3://{}/youtubeStatistics/csv/usa/{}\".format(bucket, data_key)"
   ]
  },
  {
   "cell_type": "code",
   "execution_count": 74,
   "metadata": {},
   "outputs": [],
   "source": [
    "us_df = pd.read_csv(data_location_us)"
   ]
  },
  {
   "cell_type": "markdown",
   "metadata": {},
   "source": [
    "As shown below, ingesting the data by directly accessing the bucket through Pandas creates a very clean dataset to work with."
   ]
  },
  {
   "cell_type": "code",
   "execution_count": 81,
   "metadata": {},
   "outputs": [
    {
     "data": {
      "text/plain": [
       "(189190,)"
      ]
     },
     "execution_count": 81,
     "metadata": {},
     "output_type": "execute_result"
    }
   ],
   "source": [
    "us_df['categoryId'].shape"
   ]
  },
  {
   "cell_type": "markdown",
   "metadata": {},
   "source": [
    "### NLP\n",
    "\n",
    "The current dataframe is too large to implement NLP using Sklearn. The dataframes could be made smaller during ingestion phase by only using certain categories that our 'creators' exist in. "
   ]
  },
  {
   "cell_type": "code",
   "execution_count": null,
   "metadata": {
    "tags": []
   },
   "outputs": [],
   "source": [
    "# stopwords from nltk\n",
    "\n",
    "nltk.download()"
   ]
  },
  {
   "cell_type": "code",
   "execution_count": null,
   "metadata": {
    "tags": []
   },
   "outputs": [],
   "source": [
    "stopwords = nltk.corpus.stopwords.words('english')\n",
    "ps = nltk.PorterStemmer()\n",
    "\n",
    "# 3 words to have more context\n",
    "vec = CountVectorizer(min_df=1, analyzer='word', ngram_range=(3, 3))"
   ]
  },
  {
   "cell_type": "markdown",
   "metadata": {},
   "source": [
    "We could then clean the text here and use Count Vectorizer from SkLearn to transform the long form text within the csvs to more manageable counts. This will make our data wide. Doing so will allow for transformation to Athena easier than transforming with strings. "
   ]
  },
  {
   "cell_type": "code",
   "execution_count": null,
   "metadata": {
    "tags": []
   },
   "outputs": [],
   "source": [
    "# Clean words from punctuation\n",
    "def cleaning_text(text):\n",
    "    text = \"\".join([word.lower() for word in text if word not in string.punctuation])\n",
    "    tokens = re.split('\\W+', text)\n",
    "    text = [ps.stem(word) for word in tokens if word not in stopwords]\n",
    "    return text"
   ]
  },
  {
   "cell_type": "code",
   "execution_count": null,
   "metadata": {
    "tags": []
   },
   "outputs": [],
   "source": [
    "tag = ca_df['tags']\n",
    "\n",
    "cleaning_text(tag)\n"
   ]
  },
  {
   "cell_type": "code",
   "execution_count": null,
   "metadata": {
    "tags": []
   },
   "outputs": [],
   "source": [
    "tags = vec.fit_transform(tag)"
   ]
  },
  {
   "cell_type": "code",
   "execution_count": null,
   "metadata": {
    "tags": []
   },
   "outputs": [],
   "source": [
    "print(tags.shape)"
   ]
  },
  {
   "cell_type": "code",
   "execution_count": null,
   "metadata": {
    "tags": []
   },
   "outputs": [],
   "source": [
    "vec.get_feature_names()"
   ]
  },
  {
   "cell_type": "code",
   "execution_count": null,
   "metadata": {},
   "outputs": [],
   "source": []
  }
 ],
 "metadata": {
  "availableInstances": [
   {
    "_defaultOrder": 0,
    "_isFastLaunch": true,
    "category": "General purpose",
    "gpuNum": 0,
    "memoryGiB": 4,
    "name": "ml.t3.medium",
    "vcpuNum": 2
   },
   {
    "_defaultOrder": 1,
    "_isFastLaunch": false,
    "category": "General purpose",
    "gpuNum": 0,
    "memoryGiB": 8,
    "name": "ml.t3.large",
    "vcpuNum": 2
   },
   {
    "_defaultOrder": 2,
    "_isFastLaunch": false,
    "category": "General purpose",
    "gpuNum": 0,
    "memoryGiB": 16,
    "name": "ml.t3.xlarge",
    "vcpuNum": 4
   },
   {
    "_defaultOrder": 3,
    "_isFastLaunch": false,
    "category": "General purpose",
    "gpuNum": 0,
    "memoryGiB": 32,
    "name": "ml.t3.2xlarge",
    "vcpuNum": 8
   },
   {
    "_defaultOrder": 4,
    "_isFastLaunch": true,
    "category": "General purpose",
    "gpuNum": 0,
    "memoryGiB": 8,
    "name": "ml.m5.large",
    "vcpuNum": 2
   },
   {
    "_defaultOrder": 5,
    "_isFastLaunch": false,
    "category": "General purpose",
    "gpuNum": 0,
    "memoryGiB": 16,
    "name": "ml.m5.xlarge",
    "vcpuNum": 4
   },
   {
    "_defaultOrder": 6,
    "_isFastLaunch": false,
    "category": "General purpose",
    "gpuNum": 0,
    "memoryGiB": 32,
    "name": "ml.m5.2xlarge",
    "vcpuNum": 8
   },
   {
    "_defaultOrder": 7,
    "_isFastLaunch": false,
    "category": "General purpose",
    "gpuNum": 0,
    "memoryGiB": 64,
    "name": "ml.m5.4xlarge",
    "vcpuNum": 16
   },
   {
    "_defaultOrder": 8,
    "_isFastLaunch": false,
    "category": "General purpose",
    "gpuNum": 0,
    "memoryGiB": 128,
    "name": "ml.m5.8xlarge",
    "vcpuNum": 32
   },
   {
    "_defaultOrder": 9,
    "_isFastLaunch": false,
    "category": "General purpose",
    "gpuNum": 0,
    "memoryGiB": 192,
    "name": "ml.m5.12xlarge",
    "vcpuNum": 48
   },
   {
    "_defaultOrder": 10,
    "_isFastLaunch": false,
    "category": "General purpose",
    "gpuNum": 0,
    "memoryGiB": 256,
    "name": "ml.m5.16xlarge",
    "vcpuNum": 64
   },
   {
    "_defaultOrder": 11,
    "_isFastLaunch": false,
    "category": "General purpose",
    "gpuNum": 0,
    "memoryGiB": 384,
    "name": "ml.m5.24xlarge",
    "vcpuNum": 96
   },
   {
    "_defaultOrder": 12,
    "_isFastLaunch": false,
    "category": "General purpose",
    "gpuNum": 0,
    "memoryGiB": 8,
    "name": "ml.m5d.large",
    "vcpuNum": 2
   },
   {
    "_defaultOrder": 13,
    "_isFastLaunch": false,
    "category": "General purpose",
    "gpuNum": 0,
    "memoryGiB": 16,
    "name": "ml.m5d.xlarge",
    "vcpuNum": 4
   },
   {
    "_defaultOrder": 14,
    "_isFastLaunch": false,
    "category": "General purpose",
    "gpuNum": 0,
    "memoryGiB": 32,
    "name": "ml.m5d.2xlarge",
    "vcpuNum": 8
   },
   {
    "_defaultOrder": 15,
    "_isFastLaunch": false,
    "category": "General purpose",
    "gpuNum": 0,
    "memoryGiB": 64,
    "name": "ml.m5d.4xlarge",
    "vcpuNum": 16
   },
   {
    "_defaultOrder": 16,
    "_isFastLaunch": false,
    "category": "General purpose",
    "gpuNum": 0,
    "memoryGiB": 128,
    "name": "ml.m5d.8xlarge",
    "vcpuNum": 32
   },
   {
    "_defaultOrder": 17,
    "_isFastLaunch": false,
    "category": "General purpose",
    "gpuNum": 0,
    "memoryGiB": 192,
    "name": "ml.m5d.12xlarge",
    "vcpuNum": 48
   },
   {
    "_defaultOrder": 18,
    "_isFastLaunch": false,
    "category": "General purpose",
    "gpuNum": 0,
    "memoryGiB": 256,
    "name": "ml.m5d.16xlarge",
    "vcpuNum": 64
   },
   {
    "_defaultOrder": 19,
    "_isFastLaunch": false,
    "category": "General purpose",
    "gpuNum": 0,
    "memoryGiB": 384,
    "name": "ml.m5d.24xlarge",
    "vcpuNum": 96
   },
   {
    "_defaultOrder": 20,
    "_isFastLaunch": true,
    "category": "Compute optimized",
    "gpuNum": 0,
    "memoryGiB": 4,
    "name": "ml.c5.large",
    "vcpuNum": 2
   },
   {
    "_defaultOrder": 21,
    "_isFastLaunch": false,
    "category": "Compute optimized",
    "gpuNum": 0,
    "memoryGiB": 8,
    "name": "ml.c5.xlarge",
    "vcpuNum": 4
   },
   {
    "_defaultOrder": 22,
    "_isFastLaunch": false,
    "category": "Compute optimized",
    "gpuNum": 0,
    "memoryGiB": 16,
    "name": "ml.c5.2xlarge",
    "vcpuNum": 8
   },
   {
    "_defaultOrder": 23,
    "_isFastLaunch": false,
    "category": "Compute optimized",
    "gpuNum": 0,
    "memoryGiB": 32,
    "name": "ml.c5.4xlarge",
    "vcpuNum": 16
   },
   {
    "_defaultOrder": 24,
    "_isFastLaunch": false,
    "category": "Compute optimized",
    "gpuNum": 0,
    "memoryGiB": 72,
    "name": "ml.c5.9xlarge",
    "vcpuNum": 36
   },
   {
    "_defaultOrder": 25,
    "_isFastLaunch": false,
    "category": "Compute optimized",
    "gpuNum": 0,
    "memoryGiB": 96,
    "name": "ml.c5.12xlarge",
    "vcpuNum": 48
   },
   {
    "_defaultOrder": 26,
    "_isFastLaunch": false,
    "category": "Compute optimized",
    "gpuNum": 0,
    "memoryGiB": 144,
    "name": "ml.c5.18xlarge",
    "vcpuNum": 72
   },
   {
    "_defaultOrder": 27,
    "_isFastLaunch": false,
    "category": "Compute optimized",
    "gpuNum": 0,
    "memoryGiB": 192,
    "name": "ml.c5.24xlarge",
    "vcpuNum": 96
   },
   {
    "_defaultOrder": 28,
    "_isFastLaunch": true,
    "category": "Accelerated computing",
    "gpuNum": 1,
    "memoryGiB": 16,
    "name": "ml.g4dn.xlarge",
    "vcpuNum": 4
   },
   {
    "_defaultOrder": 29,
    "_isFastLaunch": false,
    "category": "Accelerated computing",
    "gpuNum": 1,
    "memoryGiB": 32,
    "name": "ml.g4dn.2xlarge",
    "vcpuNum": 8
   },
   {
    "_defaultOrder": 30,
    "_isFastLaunch": false,
    "category": "Accelerated computing",
    "gpuNum": 1,
    "memoryGiB": 64,
    "name": "ml.g4dn.4xlarge",
    "vcpuNum": 16
   },
   {
    "_defaultOrder": 31,
    "_isFastLaunch": false,
    "category": "Accelerated computing",
    "gpuNum": 1,
    "memoryGiB": 128,
    "name": "ml.g4dn.8xlarge",
    "vcpuNum": 32
   },
   {
    "_defaultOrder": 32,
    "_isFastLaunch": false,
    "category": "Accelerated computing",
    "gpuNum": 4,
    "memoryGiB": 192,
    "name": "ml.g4dn.12xlarge",
    "vcpuNum": 48
   },
   {
    "_defaultOrder": 33,
    "_isFastLaunch": false,
    "category": "Accelerated computing",
    "gpuNum": 1,
    "memoryGiB": 256,
    "name": "ml.g4dn.16xlarge",
    "vcpuNum": 64
   },
   {
    "_defaultOrder": 34,
    "_isFastLaunch": false,
    "category": "Accelerated computing",
    "gpuNum": 1,
    "memoryGiB": 61,
    "name": "ml.p3.2xlarge",
    "vcpuNum": 8
   },
   {
    "_defaultOrder": 35,
    "_isFastLaunch": false,
    "category": "Accelerated computing",
    "gpuNum": 4,
    "memoryGiB": 244,
    "name": "ml.p3.8xlarge",
    "vcpuNum": 32
   },
   {
    "_defaultOrder": 36,
    "_isFastLaunch": false,
    "category": "Accelerated computing",
    "gpuNum": 8,
    "memoryGiB": 488,
    "name": "ml.p3.16xlarge",
    "vcpuNum": 64
   },
   {
    "_defaultOrder": 37,
    "_isFastLaunch": false,
    "category": "Accelerated computing",
    "gpuNum": 8,
    "memoryGiB": 768,
    "name": "ml.p3dn.24xlarge",
    "vcpuNum": 96
   },
   {
    "_defaultOrder": 38,
    "_isFastLaunch": false,
    "category": "Memory Optimized",
    "gpuNum": 0,
    "memoryGiB": 16,
    "name": "ml.r5.large",
    "vcpuNum": 2
   },
   {
    "_defaultOrder": 39,
    "_isFastLaunch": false,
    "category": "Memory Optimized",
    "gpuNum": 0,
    "memoryGiB": 32,
    "name": "ml.r5.xlarge",
    "vcpuNum": 4
   },
   {
    "_defaultOrder": 40,
    "_isFastLaunch": false,
    "category": "Memory Optimized",
    "gpuNum": 0,
    "memoryGiB": 64,
    "name": "ml.r5.2xlarge",
    "vcpuNum": 8
   },
   {
    "_defaultOrder": 41,
    "_isFastLaunch": false,
    "category": "Memory Optimized",
    "gpuNum": 0,
    "memoryGiB": 128,
    "name": "ml.r5.4xlarge",
    "vcpuNum": 16
   },
   {
    "_defaultOrder": 42,
    "_isFastLaunch": false,
    "category": "Memory Optimized",
    "gpuNum": 0,
    "memoryGiB": 256,
    "name": "ml.r5.8xlarge",
    "vcpuNum": 32
   },
   {
    "_defaultOrder": 43,
    "_isFastLaunch": false,
    "category": "Memory Optimized",
    "gpuNum": 0,
    "memoryGiB": 384,
    "name": "ml.r5.12xlarge",
    "vcpuNum": 48
   },
   {
    "_defaultOrder": 44,
    "_isFastLaunch": false,
    "category": "Memory Optimized",
    "gpuNum": 0,
    "memoryGiB": 512,
    "name": "ml.r5.16xlarge",
    "vcpuNum": 64
   },
   {
    "_defaultOrder": 45,
    "_isFastLaunch": false,
    "category": "Memory Optimized",
    "gpuNum": 0,
    "memoryGiB": 768,
    "name": "ml.r5.24xlarge",
    "vcpuNum": 96
   },
   {
    "_defaultOrder": 46,
    "_isFastLaunch": false,
    "category": "Accelerated computing",
    "gpuNum": 1,
    "memoryGiB": 16,
    "name": "ml.g5.xlarge",
    "vcpuNum": 4
   },
   {
    "_defaultOrder": 47,
    "_isFastLaunch": false,
    "category": "Accelerated computing",
    "gpuNum": 1,
    "memoryGiB": 32,
    "name": "ml.g5.2xlarge",
    "vcpuNum": 8
   },
   {
    "_defaultOrder": 48,
    "_isFastLaunch": false,
    "category": "Accelerated computing",
    "gpuNum": 1,
    "memoryGiB": 64,
    "name": "ml.g5.4xlarge",
    "vcpuNum": 16
   },
   {
    "_defaultOrder": 49,
    "_isFastLaunch": false,
    "category": "Accelerated computing",
    "gpuNum": 1,
    "memoryGiB": 128,
    "name": "ml.g5.8xlarge",
    "vcpuNum": 32
   },
   {
    "_defaultOrder": 50,
    "_isFastLaunch": false,
    "category": "Accelerated computing",
    "gpuNum": 1,
    "memoryGiB": 256,
    "name": "ml.g5.16xlarge",
    "vcpuNum": 64
   },
   {
    "_defaultOrder": 51,
    "_isFastLaunch": false,
    "category": "Accelerated computing",
    "gpuNum": 4,
    "memoryGiB": 192,
    "name": "ml.g5.12xlarge",
    "vcpuNum": 48
   },
   {
    "_defaultOrder": 52,
    "_isFastLaunch": false,
    "category": "Accelerated computing",
    "gpuNum": 4,
    "memoryGiB": 384,
    "name": "ml.g5.24xlarge",
    "vcpuNum": 96
   },
   {
    "_defaultOrder": 53,
    "_isFastLaunch": false,
    "category": "Accelerated computing",
    "gpuNum": 8,
    "memoryGiB": 768,
    "name": "ml.g5.48xlarge",
    "vcpuNum": 192
   }
  ],
  "instance_type": "ml.t3.medium",
  "kernelspec": {
   "display_name": "Python 3 (Data Science)",
   "language": "python",
   "name": "python3__SAGEMAKER_INTERNAL__arn:aws:sagemaker:us-east-1:081325390199:image/datascience-1.0"
  },
  "language_info": {
   "codemirror_mode": {
    "name": "ipython",
    "version": 3
   },
   "file_extension": ".py",
   "mimetype": "text/x-python",
   "name": "python",
   "nbconvert_exporter": "python",
   "pygments_lexer": "ipython3",
   "version": "3.7.10"
  }
 },
 "nbformat": 4,
 "nbformat_minor": 4
}
